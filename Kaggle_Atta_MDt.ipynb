{
  "nbformat": 4,
  "nbformat_minor": 0,
  "metadata": {
    "colab": {
      "name": "Kaggle_Attention_Model_Medical_Report.ipynb",
      "provenance": [],
      "collapsed_sections": [],
      "machine_shape": "hm",
      "include_colab_link": true
    },
    "kernelspec": {
      "display_name": "Python 3",
      "name": "python3"
    },
    "accelerator": "GPU"
  },
  "cells": [
    {
      "cell_type": "markdown",
      "metadata": {
        "id": "view-in-github",
        "colab_type": "text"
      },
      "source": [
        "<a href=\"https://colab.research.google.com/github/mkhfagy/Python/blob/master/Kaggle_Atta_MDt.ipynb\" target=\"_parent\"><img src=\"https://colab.research.google.com/assets/colab-badge.svg\" alt=\"Open In Colab\"/></a>"
      ]
    },
    {
      "cell_type": "code",
      "metadata": {
        "id": "58gOMnikMeeH"
      },
      "source": [
        "! pip install gdown\n",
        "import gdown\n",
        "url = 'https://drive.google.com/uc?id=1lqPtliwLnYXJpZhsoa4OdHx2IGmmPc9o'\n",
        "output = 'MD.zip'\n",
        "gdown.download(url, output, quiet=False)"
      ],
      "execution_count": null,
      "outputs": []
    },
    {
      "cell_type": "code",
      "metadata": {
        "id": "MnEMxeT1NDN2"
      },
      "source": [
        "image_folder = 'MD/Images'\n",
        "folder_name = 'MD/pickle'\n",
        "tr_file_name = 'train.pkl'\n",
        "te_file_name = 'test.pkl'\n",
        "chexnet_weights = 'MD/brucechou1983_CheXNet_Keras_0.3.0_weights.h5'"
      ],
      "execution_count": null,
      "outputs": []
    },
    {
      "cell_type": "code",
      "metadata": {
        "id": "s-tfGrKfNW_8"
      },
      "source": [
        "import warnings\n",
        "warnings.filterwarnings(\"ignore\")\n",
        "import pandas as pd\n",
        "import numpy as np\n",
        "import matplotlib.pyplot as plt\n",
        "import joblib #for saving model files as pkl files\n",
        "import os\n",
        "import seaborn as sns\n",
        "import cv2\n",
        "import imgaug.augmenters as iaa\n",
        "sns.set(palette='muted',style='white')\n",
        "import tensorflow as tf\n",
        "from tensorflow.keras.layers import Dense,GlobalAveragePooling2D, Input, Embedding, LSTM,Dot,Reshape,Concatenate,BatchNormalization, GlobalMaxPooling2D, Dropout, Add, MaxPooling2D, GRU, AveragePooling2D\n",
        "from tensorflow.keras.preprocessing.text import Tokenizer\n",
        "from tensorflow.keras.preprocessing.sequence import pad_sequences\n",
        "from nltk.translate.bleu_score import sentence_bleu #bleu score\n",
        "tf.compat.v1.enable_eager_execution()\n",
        "import os\n",
        "import math"
      ],
      "execution_count": null,
      "outputs": []
    },
    {
      "cell_type": "code",
      "metadata": {
        "id": "FwNYvHuEvCWU"
      },
      "source": [
        "train = pd.read_pickle(os.path.join(folder_name,tr_file_name))\n",
        "test = pd.read_pickle(os.path.join(folder_name,te_file_name))\n",
        "train.shape,test.shape"
      ],
      "execution_count": null,
      "outputs": []
    },
    {
      "cell_type": "code",
      "metadata": {
        "id": "LFQET3CPvK2Z"
      },
      "source": [
        "#tokenizer\n",
        "tokenizer = Tokenizer(filters = '',oov_token = '<unk>') #setting filters to none\n",
        "tokenizer.fit_on_texts(train.impression_final.values)\n",
        "train_captions = tokenizer.texts_to_sequences(train.impression_final) \n",
        "test_captions = tokenizer.texts_to_sequences(test.impression_final) \n",
        "vocab_size = len(tokenizer.word_index)\n",
        "caption_len = np.array([len(i) for i in train_captions])\n",
        "start_index = tokenizer.word_index['<cls>'] #tokened value of <cls>\n",
        "end_index = tokenizer.word_index['<end>'] #tokened value of <end>\n",
        "\n",
        "print('\\nThe max and min value of \"caption length\" was found to be %i and %i respectively'%(max(caption_len),min(caption_len)))\n",
        "print('The 80 percentile value of caption_len which is %i will be taken as the maximum padded value for each impression for faster training.'\n",
        "%(np.percentile(caption_len,80)))\n",
        "max_pad = int(np.percentile(caption_len,80))\n",
        "del train_captions,test_captions #we will create tokenizing  and padding in-built in dataloader"
      ],
      "execution_count": null,
      "outputs": []
    },
    {
      "cell_type": "markdown",
      "metadata": {
        "id": "NnqLvKlCwmC0"
      },
      "source": [
        "# **Modelling**"
      ]
    },
    {
      "cell_type": "markdown",
      "metadata": {
        "id": "ju4j3gOoLBpJ"
      },
      "source": [
        "## **Hyperparameters**"
      ]
    },
    {
      "cell_type": "code",
      "metadata": {
        "id": "WojEEVYsLErk"
      },
      "source": [
        "batch_size = 100\n",
        "embedding_dim = 300\n",
        "dense_dim = 512\n",
        "lstm_units = dense_dim\n",
        "dropout_rate = 0.2"
      ],
      "execution_count": null,
      "outputs": []
    },
    {
      "cell_type": "markdown",
      "metadata": {
        "id": "R58RYZR904HU"
      },
      "source": [
        "## **Creating an input data pipeline**"
      ]
    },
    {
      "cell_type": "code",
      "metadata": {
        "id": "HFnvuCYLGf_n"
      },
      "source": [
        "class Dataset():\n",
        "  #here we will get the images converted to vector form and the corresponding captions\n",
        "  def __init__(self,df,input_size,tokenizer = tokenizer, augmentation = True,max_pad = max_pad): \n",
        "    \"\"\"\n",
        "    df  = dataframe containing image_1,image_2 and impression\n",
        "    \"\"\"\n",
        "    self.image1 = df.image_1\n",
        "    self.image2 = df.image_2\n",
        "    self.caption = df.impression_ip #inp\n",
        "    self.caption1 = df.impression_op  #output\n",
        "    self.input_size = input_size #tuple ex: (512,512)\n",
        "    self.tokenizer = tokenizer\n",
        "    self.augmentation = augmentation\n",
        "    self.max_pad = max_pad\n",
        "\n",
        "    #image augmentation\n",
        "    #https://imgaug.readthedocs.io/en/latest/source/overview/flip.html?highlight=Fliplr\n",
        "    self.aug1 = iaa.Fliplr(1) #flip images horizaontally\n",
        "    self.aug2 = iaa.Flipud(1) #flip images vertically\n",
        "\n",
        "    # https://imgaug.readthedocs.io/en/latest/source/overview/convolutional.html?highlight=emboss#emboss\n",
        "    # self.aug3 = iaa.Emboss(alpha=(1), strength=1) #embosses image\n",
        "\n",
        "    # #https://imgaug.readthedocs.io/en/latest/source/api_augmenters_convolutional.html?highlight=sharpen#imgaug.augmenters.convolutional.Sharpen\n",
        "    # self.aug4 = iaa.Sharpen(alpha=(1.0), lightness=(1.5)) #sharpens the image and apply some lightness/brighteness 1 means fully sharpened etc\n",
        "\n",
        "  def __getitem__(self,i):\n",
        "    #gets the datapoint at i th index, we will extract the feature vectors of images after resizing the image  and apply augmentation\n",
        "    image1 = cv2.imread(self.image1[i],cv2.IMREAD_UNCHANGED)/255 \n",
        "    image2 = cv2.imread(self.image2[i],cv2.IMREAD_UNCHANGED)/255 #here there are 3 channels\n",
        "    image1 = cv2.resize(image1,self.input_size,interpolation = cv2.INTER_NEAREST)\n",
        "    image2 = cv2.resize(image2,self.input_size,interpolation = cv2.INTER_NEAREST)\n",
        "    if image1.any()==None:\n",
        "      print(\"%i , %s image sent null value\"%(i,self.image1[i]))\n",
        "    if image2.any()==None:\n",
        "      print(\"%i , %s image sent null value\"%(i,self.image2[i]))\n",
        "\n",
        "\n",
        "    #tokenizing and padding\n",
        "    caption = self.tokenizer.texts_to_sequences(self.caption[i:i+1]) #the input should be an array for tokenizer ie [self.caption[i]] \n",
        "\n",
        "    caption = pad_sequences(caption,maxlen = self.max_pad,padding = 'post') #opshape:(input_length,)\n",
        "    caption = tf.squeeze(caption,axis=0) #opshape = (input_length,) removing unwanted axis if present\n",
        "\n",
        "    caption1 = self.tokenizer.texts_to_sequences(self.caption1[i:i+1]) #the input should be an array for tokenizer ie [self.caption[i]] \n",
        "\n",
        "    caption1 = pad_sequences(caption1,maxlen = self.max_pad,padding = 'post') #opshape: (input_length,)\n",
        "    caption1 = tf.squeeze(caption1,axis=0) #opshape = (input_length,) removing unwanted axis if present\n",
        "\n",
        "\n",
        "\n",
        "\n",
        "    if self.augmentation: #we will not apply augmentation that crops the image \n",
        "          a = np.random.uniform()\n",
        "          if a<0.333:\n",
        "              image1 = self.aug1.augment_image(image1)\n",
        "              image2 = self.aug1.augment_image(image2)\n",
        "          elif a<0.667:\n",
        "              image1 = self.aug2.augment_image(image1)\n",
        "              image2 = self.aug2.augment_image(image2)\n",
        "          else: #applying no augmentation\n",
        "            pass;\n",
        "\n",
        "    \n",
        "    return image1,image2,caption,caption1\n",
        "\n",
        "    \n",
        "  def __len__(self):\n",
        "    return len(self.image1)\n",
        "\n",
        "\n",
        "class Dataloader(tf.keras.utils.Sequence):     #for batching\n",
        "    def __init__(self, dataset, batch_size=1, shuffle=True):\n",
        "        self.dataset = dataset\n",
        "        self.batch_size = batch_size\n",
        "        self.shuffle = shuffle\n",
        "        self.indexes = np.arange(len(self.dataset))\n",
        "\n",
        "    def __getitem__(self, i):\n",
        "        \n",
        "        # collect batch data\n",
        "        start = i * self.batch_size\n",
        "        stop = (i + 1) * self.batch_size\n",
        "        indexes = [self.indexes[j] for j in range(start,stop)] #getting the shuffled index values\n",
        "        data = [self.dataset[j] for j in indexes] #taken from Data class (calls __getitem__ of Data) here the shape is batch_size*3, (image_1,image_2,caption)\n",
        "        \n",
        "        batch = [np.stack(samples, axis=0) for samples in zip(*data)] #here the shape will become batch_size*input_size(of image)*3,batch_size*input_size(of image)*3\n",
        "                                                                      #,batch_size*1*max_pad\n",
        "\n",
        "\n",
        "        return tuple([[batch[0],batch[1],batch[2]],batch[3]]) #here [image1,image2, caption(without <END>)],caption(without <CLS>) (op)\n",
        "    \n",
        "    def __len__(self): #returns total number of batches in an epoch\n",
        "        return len(self.indexes) // self.batch_size\n",
        "    \n",
        "    def on_batch_end(self): #it runs at the end of epoch\n",
        "        if self.shuffle:\n",
        "            np.random.shuffle(self.indexes) #in-place shuffling takes place"
      ],
      "execution_count": null,
      "outputs": []
    },
    {
      "cell_type": "code",
      "metadata": {
        "id": "kh3MLkj7ofJq"
      },
      "source": [
        "input_size = (224,224)\n",
        "train_dataloader = Dataset(train,input_size)\n",
        "train_dataloader = Dataloader(train_dataloader,batch_size = batch_size)\n",
        "\n",
        "test_dataloader = Dataset(test,input_size)\n",
        "test_dataloader = Dataloader(test_dataloader,batch_size = batch_size)"
      ],
      "execution_count": null,
      "outputs": []
    },
    {
      "cell_type": "markdown",
      "metadata": {
        "id": "qiex_ABvrjeS"
      },
      "source": [
        "## **CHeXNET Model (pretrained)**"
      ]
    },
    {
      "cell_type": "markdown",
      "metadata": {
        "id": "UqV7xRCJrpfr"
      },
      "source": [
        "[CheXNET Model](https://arxiv.org/pdf/1711.05225.pdf) is a Denset121 layered model which is trained on 1000s of chest x-ray images for the classification of 14 diseases.We can load the weights of that model and pass the image through that model. The top layer will be ignore."
      ]
    },
    {
      "cell_type": "code",
      "metadata": {
        "id": "S1QSD4DWKZtU"
      },
      "source": [
        "#chexnet weights ; https://drive.google.com/file/d/19BllaOvs2x5PLV_vlWMy4i8LapLb2j6b/view\n",
        "def create_chexnet(chexnet_weights = chexnet_weights,input_size = input_size):\n",
        "  \"\"\"\n",
        "  chexnet_weights: weights value in .h5 format of chexnet\n",
        "  creates a chexnet model with preloaded weights present in chexnet_weights file\n",
        "  \"\"\"\n",
        "  model = tf.keras.applications.DenseNet121(include_top=False,input_shape = input_size+(3,)) #importing densenet the last layer will be a relu activation layer\n",
        "\n",
        "  #we need to load the weights so setting the architecture of the model as same as the one of the chexnet\n",
        "  x = model.output #output from chexnet\n",
        "  x = GlobalAveragePooling2D()(x)\n",
        "  x = Dense(14, activation=\"sigmoid\", name=\"chexnet_output\")(x) #here activation is sigmoid as seen in research paper\n",
        "\n",
        "  chexnet = tf.keras.Model(inputs = model.input,outputs = x)\n",
        "  chexnet.load_weights(chexnet_weights)\n",
        "  chexnet = tf.keras.Model(inputs = model.input,outputs = chexnet.layers[-3].output)  #we will be taking the 3rd last layer (here it is layer before global avgpooling)\n",
        "  #since we are using attention here\n",
        "  return chexnet"
      ],
      "execution_count": null,
      "outputs": []
    },
    {
      "cell_type": "markdown",
      "metadata": {
        "id": "lMNh-lK5yRdz"
      },
      "source": [
        "## Attention Model"
      ]
    },
    {
      "cell_type": "markdown",
      "metadata": {
        "id": "Eanv6O-GuNyV"
      },
      "source": [
        "References:\n",
        "[attention](https://lilianweng.github.io/lil-log/2018/06/24/attention-attention.html)"
      ]
    },
    {
      "cell_type": "code",
      "metadata": {
        "id": "BcVcjwxIb9S5"
      },
      "source": [
        "embedding_dim = 300\n",
        "dense_dim = 512\n",
        "lstm_units = dense_dim\n",
        "dropout_rate = 0.2"
      ],
      "execution_count": null,
      "outputs": []
    },
    {
      "cell_type": "markdown",
      "metadata": {
        "id": "M-fGv38z2kgw"
      },
      "source": [
        "### Image Encoder Layer"
      ]
    },
    {
      "cell_type": "code",
      "metadata": {
        "id": "ZmEPU1JU2nyk"
      },
      "source": [
        "class Image_encoder(tf.keras.layers.Layer):\n",
        "  \"\"\"\n",
        "  This layer will output image backbone features after passing it through chexnet\n",
        "  here chexnet will be not be trainable\n",
        "  \"\"\"\n",
        "  def __init__(self,\n",
        "               name = \"image_encoder_block\"\n",
        "               ):\n",
        "    super().__init__()\n",
        "    self.chexnet = create_chexnet()\n",
        "    self.chexnet.trainable = False\n",
        "    self.avgpool = AveragePooling2D()\n",
        "    # for i in range(10): #the last 10 layers of chexnet will be trained\n",
        "    #   self.chexnet.layers[-i].trainable = True\n",
        "    \n",
        "  def call(self,data):\n",
        "    op = self.chexnet(data) #op shape: (None,7,7,1024)\n",
        "    op = self.avgpool(op) #op shape (None,3,3,1024)\n",
        "    op = tf.reshape(op,shape = (-1,op.shape[1]*op.shape[2],op.shape[3])) #op shape: (None,9,1024)\n",
        "    return op "
      ],
      "execution_count": null,
      "outputs": []
    },
    {
      "cell_type": "markdown",
      "metadata": {
        "id": "Pz55DGilhgPh"
      },
      "source": [
        "### Encoder"
      ]
    },
    {
      "cell_type": "code",
      "metadata": {
        "id": "Pw8v5GyZKEZe"
      },
      "source": [
        "def encoder(image1,image2,dense_dim = dense_dim,dropout_rate = dropout_rate):\n",
        "  \"\"\"\n",
        "  Takes image1,image2\n",
        "  gets the final encoded vector of these\n",
        "  \"\"\"\n",
        "  #image1\n",
        "  im_encoder = Image_encoder()\n",
        "  bkfeat1 = im_encoder(image1) #shape: (None,9,1024)\n",
        "  bk_dense = Dense(dense_dim,name = 'bkdense',activation = 'relu') #shape: (None,9,512)\n",
        "  bkfeat1 = bk_dense(bkfeat1)\n",
        "\n",
        "  #image2\n",
        "  bkfeat2 = im_encoder(image2) #shape: (None,9,1024)\n",
        "  bkfeat2 = bk_dense(bkfeat2) #shape: (None,9,512)\n",
        "\n",
        "\n",
        "  #combining image1 and image2\n",
        "  concat = Concatenate(axis=1)([bkfeat1,bkfeat2]) #concatenating through the second axis shape: (None,18,1024)\n",
        "  bn = BatchNormalization(name = \"encoder_batch_norm\")(concat) \n",
        "  dropout = Dropout(dropout_rate,name = \"encoder_dropout\")(bn)\n",
        "  return dropout"
      ],
      "execution_count": null,
      "outputs": []
    },
    {
      "cell_type": "markdown",
      "metadata": {
        "id": "uw2ZpJl8BOFE"
      },
      "source": [
        "Global Attention equations\n",
        "\n",
        "\n",
        "\n",
        "![image.png](data:image/png;base64,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)"
      ]
    },
    {
      "cell_type": "markdown",
      "metadata": {
        "id": "WXrhaa2JBcQJ"
      },
      "source": [
        "\n",
        "Here I will be using concat score of global attention.\n",
        "[reference](https://github.com/uzaymacar/attention-mechanisms#local-attention)"
      ]
    },
    {
      "cell_type": "markdown",
      "metadata": {
        "id": "1x5c_IuPhi7x"
      },
      "source": [
        "### Global Attention Layer"
      ]
    },
    {
      "cell_type": "code",
      "metadata": {
        "id": "dfNP_0Sf2qd2"
      },
      "source": [
        "class global_attention(tf.keras.layers.Layer):\n",
        "  \"\"\"\n",
        "  calculate global attention\n",
        "  \"\"\"\n",
        "  def __init__(self,dense_dim = dense_dim):\n",
        "    super().__init__()\n",
        "    # Intialize variables needed for Concat score function here\n",
        "    self.W1 = Dense(units = dense_dim) #weight matrix of shape enc_units*dense_dim\n",
        "    self.W2 = Dense(units = dense_dim) #weight matrix of shape dec_units*dense_dim\n",
        "    self.V = Dense(units = 1) #weight matrix of shape dense_dim*1 \n",
        "      #op (None,98,1)\n",
        "\n",
        "\n",
        "  def call(self,encoder_output,decoder_h): #here the encoded output will be the concatted image bk features shape: (None,98,dense_dim)\n",
        "    decoder_h = tf.expand_dims(decoder_h,axis=1) #shape: (None,1,dense_dim)\n",
        "    tanh_input = self.W1(encoder_output) + self.W2(decoder_h) #ouput_shape: batch_size*98*dense_dim\n",
        "    tanh_output =  tf.nn.tanh(tanh_input)\n",
        "    attention_weights = tf.nn.softmax(self.V(tanh_output),axis=1) #shape= batch_size*98*1 getting attention alphas\n",
        "    op = attention_weights*encoder_output#op_shape: batch_size*98*dense_dim  multiply all aplhas with corresponding context vector\n",
        "    context_vector = tf.reduce_sum(op,axis=1) #summing all context vector over the time period ie input length, output_shape: batch_size*dense_dim\n",
        "\n",
        "\n",
        "    return context_vector,attention_weights"
      ],
      "execution_count": null,
      "outputs": []
    },
    {
      "cell_type": "code",
      "metadata": {
        "id": "46UdaonWxh0Q"
      },
      "source": [
        "glove = {}\n",
        "with open('MD/glove/glove.6B.300d.txt',encoding='utf-8') as f: #taking 300 dimesions\n",
        "  for line in f:\n",
        "    word = line.split() #it is stored as string like this \"'the': '.418 0.24968 -0.41242 0.1217 0.34527 -0.044457 -0.4\"\n",
        "    glove[word[0]] = np.asarray(word[1:], dtype='float32')\n",
        "\n",
        "\n",
        "embedding_dim = 300\n",
        "# create a weight matrix for words in training docs for embedding purpose\n",
        "embedding_matrix = np.zeros((vocab_size+1, embedding_dim)) #https://www.tensorflow.org/api_docs/python/tf/keras/layers/Embedding\n",
        "\n",
        "for word, i in tokenizer.word_index.items():\n",
        "  embedding_vector = glove.get(word)\n",
        "  if embedding_vector is not None: #if the word is found in glove vectors\n",
        "      embedding_matrix[i] = embedding_vector[:embedding_dim]"
      ],
      "execution_count": null,
      "outputs": []
    },
    {
      "cell_type": "markdown",
      "metadata": {
        "id": "v5L6YKTmhl3m"
      },
      "source": [
        "### One Step Decoder"
      ]
    },
    {
      "cell_type": "code",
      "metadata": {
        "id": "8G1NXVHbxX8y"
      },
      "source": [
        "class One_Step_Decoder(tf.keras.layers.Layer):\n",
        "  \"\"\"\n",
        "  decodes a single token\n",
        "  \"\"\"\n",
        "  def __init__(self,vocab_size = vocab_size, embedding_dim = embedding_dim, max_pad = max_pad, dense_dim = dense_dim ,name = \"onestepdecoder\"):\n",
        "    # Initialize decoder embedding layer, LSTM and any other objects needed\n",
        "    super().__init__()\n",
        "    self.dense_dim = dense_dim\n",
        "    self.embedding = Embedding(input_dim = vocab_size+1,\n",
        "                                output_dim = embedding_dim,\n",
        "                                input_length=max_pad,\n",
        "                                weights = [embedding_matrix],\n",
        "                                mask_zero=True, \n",
        "                                name = 'onestepdecoder_embedding'\n",
        "                              )\n",
        "    self.LSTM = GRU(units=self.dense_dim,\n",
        "                    # return_sequences=True,\n",
        "                    return_state=True,\n",
        "                    name = 'onestepdecoder_LSTM'\n",
        "                    )\n",
        "    self.attention = global_attention(dense_dim = dense_dim)\n",
        "    self.concat = Concatenate(axis=-1)\n",
        "    self.dense = Dense(dense_dim,name = 'onestepdecoder_embedding_dense',activation = 'relu')\n",
        "    self.final = Dense(vocab_size+1,activation='softmax')\n",
        "    self.concat = Concatenate(axis=-1)\n",
        "    self.add =Add()\n",
        "  @tf.function\n",
        "  def call(self,input_to_decoder, encoder_output, decoder_h):#,decoder_c):\n",
        "    '''\n",
        "        One step decoder mechanisim step by step:\n",
        "      A. Pass the input_to_decoder to the embedding layer and then get the output(batch_size,1,embedding_dim)\n",
        "      B. Using the encoder_output and decoder hidden state, compute the context vector.\n",
        "      C. Concat the context vector with the step A output\n",
        "      D. Pass the Step-C output to LSTM/GRU and get the decoder output and states(hidden and cell state)\n",
        "      E. Pass the decoder output to dense layer(vocab size) and store the result into output.\n",
        "      F. Return the states from step D, output from Step E, attention weights from Step -B\n",
        "\n",
        "      here state_h,state_c are decoder states\n",
        "    '''\n",
        "    embedding_op = self.embedding(input_to_decoder) #output shape = batch_size*1*embedding_shape (only 1 token)\n",
        "    \n",
        "\n",
        "    context_vector,attention_weights = self.attention(encoder_output,decoder_h) #passing hidden state h of decoder and encoder output\n",
        "    #context_vector shape: batch_size*dense_dim we need to add time dimension\n",
        "    context_vector_time_axis = tf.expand_dims(context_vector,axis=1)\n",
        "    #now we will combine attention output context vector with next word input to the lstm here we will be teacher forcing\n",
        "    concat_input = self.concat([context_vector_time_axis,embedding_op])#output dimension = batch_size*input_length(here it is 1)*(dense_dim+embedding_dim)\n",
        "    \n",
        "    output,decoder_h = self.LSTM(concat_input,initial_state = decoder_h)\n",
        "    #output shape = batch*1*dense_dim and decoder_h,decoder_c has shape = batch*dense_dim\n",
        "    #we need to remove the time axis from this decoder_output\n",
        "    \n",
        "\n",
        "    output = self.final(output)#shape = batch_size*decoder vocab size\n",
        "    return output,decoder_h,attention_weights"
      ],
      "execution_count": null,
      "outputs": []
    },
    {
      "cell_type": "markdown",
      "metadata": {
        "id": "vh8nbpgDhod7"
      },
      "source": [
        "### Decoder"
      ]
    },
    {
      "cell_type": "code",
      "metadata": {
        "id": "ozquBISnmV06"
      },
      "source": [
        "class decoder(tf.keras.Model):\n",
        "  \"\"\"\n",
        "  Decodes the encoder output and caption\n",
        "  \"\"\"\n",
        "  def __init__(self,max_pad = max_pad, embedding_dim = embedding_dim,dense_dim = dense_dim,score_fun='general',batch_size = batch_size,vocab_size = vocab_size):\n",
        "    super().__init__()\n",
        "    self.onestepdecoder = One_Step_Decoder(vocab_size = vocab_size, embedding_dim = embedding_dim, max_pad = max_pad, dense_dim = dense_dim)\n",
        "    self.output_array = tf.TensorArray(tf.float32,size=max_pad)\n",
        "    self.max_pad = max_pad\n",
        "    self.batch_size = batch_size\n",
        "    self.dense_dim =dense_dim\n",
        "    \n",
        "  @tf.function\n",
        "  def call(self,encoder_output,caption):#,decoder_h,decoder_c): #caption : (None,max_pad), encoder_output: (None,dense_dim)\n",
        "    decoder_h, decoder_c = tf.zeros_like(encoder_output[:,0]), tf.zeros_like(encoder_output[:,0]) #decoder_h, decoder_c\n",
        "    output_array = tf.TensorArray(tf.float32,size=max_pad)\n",
        "    for timestep in range(self.max_pad): #iterating through all timesteps ie through max_pad\n",
        "      output,decoder_h,attention_weights = self.onestepdecoder(caption[:,timestep:timestep+1], encoder_output, decoder_h)\n",
        "      output_array = output_array.write(timestep,output) #timestep*batch_size*vocab_size\n",
        "\n",
        "    self.output_array = tf.transpose(output_array.stack(),[1,0,2]) #.stack :Return the values in the TensorArray as a stacked Tensor.)\n",
        "        #shape output_array: (batch_size,max_pad,vocab_size)\n",
        "    return self.output_array"
      ],
      "execution_count": null,
      "outputs": []
    },
    {
      "cell_type": "markdown",
      "metadata": {
        "id": "alvehI6ohrQo"
      },
      "source": [
        "### Global Attention Model"
      ]
    },
    {
      "cell_type": "code",
      "metadata": {
        "id": "r0IJs1GYypml"
      },
      "source": [
        "#model creation\n",
        "tf.keras.backend.clear_session()\n",
        "image1 = Input(shape = (input_size + (3,))) #shape = 224,224,3\n",
        "image2 = Input(shape = (input_size + (3,))) #https://www.w3resource.com/python-exercises/tuple/python-tuple-exercise-5.php\n",
        "caption = Input(shape = (max_pad,))\n",
        "\n",
        "encoder_output = encoder(image1,image2) #shape: (None,28,512)\n",
        "\n",
        "output = decoder()(encoder_output,caption)\n",
        "\n",
        "model = tf.keras.Model(inputs = [image1,image2,caption], outputs = output)"
      ],
      "execution_count": null,
      "outputs": []
    },
    {
      "cell_type": "code",
      "metadata": {
        "id": "Uwk1LcYA0gmL"
      },
      "source": [
        "model.summary()"
      ],
      "execution_count": null,
      "outputs": []
    },
    {
      "cell_type": "code",
      "metadata": {
        "id": "72z9B_Xd0mun"
      },
      "source": [
        "tf.keras.utils.plot_model(model,\n",
        "                          show_shapes = True\n",
        "                          )"
      ],
      "execution_count": null,
      "outputs": []
    },
    {
      "cell_type": "code",
      "metadata": {
        "id": "jT_saldki9HR"
      },
      "source": [
        "loss_func = tf.keras.losses.SparseCategoricalCrossentropy() \n",
        "\n",
        "def custom_loss(y_true, y_pred):\n",
        "    #getting mask value to not consider those words which are not present in the true caption\n",
        "    mask = tf.math.logical_not(tf.math.equal(y_true, 0))\n",
        "\n",
        "    #y_pred = y_pred+10**-7 #to prevent loss becoming null\n",
        "\n",
        "    #calculating the loss\n",
        "    loss_ = loss_func(y_true, y_pred)\n",
        "    \n",
        "    #converting mask dtype to loss_ dtype\n",
        "    mask = tf.cast(mask, dtype=loss_.dtype)\n",
        "    \n",
        "    #applying the mask to loss\n",
        "    loss_ = loss_*mask\n",
        "    \n",
        "    #returning mean over all the values\n",
        "    return tf.reduce_mean(loss_)\n",
        "\n",
        "lr = 10**-2\n",
        "optimizer = tf.keras.optimizers.Adam(learning_rate = lr)   \n",
        "model.compile(optimizer=optimizer,loss=custom_loss,metrics= ['accuracy'])\n",
        "# model.compile(optimizer=optimizer,loss=tf.keras.losses.SparseCategoricalCrossentropy() ,metrics= ['accuracy'])"
      ],
      "execution_count": null,
      "outputs": []
    },
    {
      "cell_type": "code",
      "metadata": {
        "id": "RHdvkbzTjA9K"
      },
      "source": [
        "tf.keras.backend.clear_session()\n",
        "tb_filename = 'Encoder_Decoder_global_attention/'\n",
        "tb_file = os.path.join('MD',tb_filename)\n",
        "model_filename = 'Encoder_Decoder_global_attention.h5'\n",
        "model_save = os.path.join('MD',model_filename)\n",
        "my_callbacks = [\n",
        "    tf.keras.callbacks.EarlyStopping(patience = 5,\n",
        "                                     verbose = 2\n",
        "                                     ),\n",
        "    tf.keras.callbacks.ModelCheckpoint(filepath=model_save,\n",
        "                                       save_best_only = True,\n",
        "                                      save_weights_only = True,\n",
        "                                       verbose = 2\n",
        "                                       ),\n",
        "    tf.keras.callbacks.TensorBoard(histogram_freq=1,\n",
        "                                   log_dir=tb_file),\n",
        "    tf.keras.callbacks.ReduceLROnPlateau(monitor='val_loss', factor=0.1,\n",
        "                              patience=2, min_lr=10**-7, verbose = 2)\n",
        "                                   \n",
        "] #from keras documentation"
      ],
      "execution_count": null,
      "outputs": []
    },
    {
      "cell_type": "code",
      "metadata": {
        "id": "a9zFxTTPjKCZ"
      },
      "source": [
        "!rm -r 'MD/Encoder_Decoder_global_attention/'"
      ],
      "execution_count": null,
      "outputs": []
    },
    {
      "cell_type": "code",
      "metadata": {
        "id": "C8SbuP6hjLwV"
      },
      "source": [
        "model.fit(train_dataloader,\n",
        "          validation_data = test_dataloader,\n",
        "          epochs = 9,\n",
        "          callbacks = my_callbacks\n",
        "          )"
      ],
      "execution_count": null,
      "outputs": []
    },
    {
      "cell_type": "markdown",
      "metadata": {
        "id": "_CPifHOIhzBv"
      },
      "source": [
        "### Tensorboard"
      ]
    },
    {
      "cell_type": "code",
      "metadata": {
        "id": "OEK3evXkz99k"
      },
      "source": [
        "model_filename = 'Encoder_Decoder_global_attention.h5'\n",
        "model_save = os.path.join('MD',model_filename)\n",
        "model1 = tf.keras.Model(inputs = [image1,image2,caption], outputs = output)\n",
        "model1.load_weights(model_save)"
      ],
      "execution_count": null,
      "outputs": []
    },
    {
      "cell_type": "code",
      "metadata": {
        "id": "92TGlpyooPFF"
      },
      "source": [
        "%load_ext tensorboard"
      ],
      "execution_count": null,
      "outputs": []
    },
    {
      "cell_type": "code",
      "metadata": {
        "id": "TzgU5IIfmlDm"
      },
      "source": [
        "%tensorboard --logdir 'MD/'"
      ],
      "execution_count": null,
      "outputs": []
    },
    {
      "cell_type": "markdown",
      "metadata": {
        "id": "So40Bm_ph2SL"
      },
      "source": [
        "## Predictions"
      ]
    },
    {
      "cell_type": "markdown",
      "metadata": {
        "id": "UjYPoTZ3h-Y1"
      },
      "source": [
        "### Bleu score function"
      ]
    },
    {
      "cell_type": "markdown",
      "metadata": {
        "id": "CDl3TT6zpE8M"
      },
      "source": [
        "We will compute bleu scores 1-gram,2-gram, 3-gram and 4-gram for each sentence."
      ]
    },
    {
      "cell_type": "code",
      "metadata": {
        "id": "rm64z2YxpDGE"
      },
      "source": [
        "def get_bleu(reference,prediction):\n",
        "  \"\"\"\n",
        "  Given a reference and prediction string, outputs the 1-gram,2-gram,3-gram and 4-gram bleu scores\n",
        "  \"\"\"\n",
        "  reference = [reference.split()] #should be in an array (cos of multiple references can be there here only 1)\n",
        "  prediction = prediction.split()\n",
        "  bleu1 = sentence_bleu(reference,prediction,weights = (1,0,0,0))\n",
        "  bleu2 = sentence_bleu(reference,prediction,weights = (0.5,0.5,0,0))\n",
        "  bleu3 = sentence_bleu(reference,prediction,weights = (0.33,0.33,0.33,0))\n",
        "  bleu4 = sentence_bleu(reference,prediction,weights = (0.25,0.25,0.25,0.25))\n",
        "\n",
        "  return bleu1,bleu2,bleu3,bleu4"
      ],
      "execution_count": null,
      "outputs": []
    },
    {
      "cell_type": "code",
      "metadata": {
        "id": "N_SjwE5gHzA3"
      },
      "source": [
        "#calculate bleu scores for every datapoint\n",
        "def mean_bleu(test,predict,model=model1,**kwargs):\n",
        "  \"\"\"\n",
        "  given a df and predict fucntion which predicts the impression of the caption\n",
        "  outpus the mean bleu1,bleu2,bleu3, bleu4 for entire datapoints in df\n",
        "  \"\"\"\n",
        "  if kwargs!=None:\n",
        "    top_k = kwargs.get('top_k')\n",
        "  else:\n",
        "    top_k = None\n",
        "  bleu1,bleu2,bleu3,bleu4 = [],[],[],[]\n",
        "  for index,data in test.iterrows():\n",
        "    if top_k==None:\n",
        "      predict_val = predict(data['image_1'],data['image_2'],model = model) #predicted sentence\n",
        "    else:\n",
        "      predict_val = predict(data['image_1'],data['image_2'],model = model,top_k = top_k)\n",
        "    true = data.impression\n",
        "    _ = get_bleu(true,predict_val)\n",
        "    bleu1.append(_[0])\n",
        "    bleu2.append(_[1])\n",
        "    bleu3.append(_[2])\n",
        "    bleu4.append(_[3])\n",
        "  return np.array(bleu1).mean(),np.array(bleu2).mean(),np.array(bleu3).mean(),np.array(bleu4).mean()"
      ],
      "execution_count": null,
      "outputs": []
    },
    {
      "cell_type": "markdown",
      "metadata": {
        "id": "Wy-ZeAzso8C-"
      },
      "source": [
        "### **Greedy Search**"
      ]
    },
    {
      "cell_type": "markdown",
      "metadata": {
        "id": "UTU0atExnfiM"
      },
      "source": [
        "![image.png](data:image/png;base64,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)"
      ]
    },
    {
      "cell_type": "code",
      "metadata": {
        "id": "NwoVPaGEznng"
      },
      "source": [
        "def greedy_search_predict(image1,image2,model = model1):\n",
        "  \"\"\"\n",
        "  Given paths to two x-ray images predicts the impression part of the x-ray in a greedy search algorithm\n",
        "  \"\"\"\n",
        "  image1 = cv2.imread(image1,cv2.IMREAD_UNCHANGED)/255 \n",
        "  image2 = cv2.imread(image2,cv2.IMREAD_UNCHANGED)/255\n",
        "  image1 = tf.expand_dims(cv2.resize(image1,input_size,interpolation = cv2.INTER_NEAREST),axis=0) #introduce batch and resize\n",
        "  image2 = tf.expand_dims(cv2.resize(image2,input_size,interpolation = cv2.INTER_NEAREST),axis=0)\n",
        "  image1 = model.get_layer('image_encoder')(image1)\n",
        "  image2 = model.get_layer('image_encoder')(image2)\n",
        "  image1 = model.get_layer('bkdense')(image1)\n",
        "  image2 = model.get_layer('bkdense')(image2)\n",
        "\n",
        "  concat = model.get_layer('concatenate')([image1,image2])\n",
        "  enc_op = model.get_layer('encoder_batch_norm')(concat)  \n",
        "  enc_op = model.get_layer('encoder_dropout')(enc_op) #this is the output from encoder\n",
        "\n",
        "\n",
        "  decoder_h,decoder_c = tf.zeros_like(enc_op[:,0]),tf.zeros_like(enc_op[:,0])\n",
        "  a = []\n",
        "  pred = []\n",
        "  for i in range(max_pad):\n",
        "    if i==0: #if first word\n",
        "      caption = np.array(tokenizer.texts_to_sequences(['<cls>'])) #shape: (1,1)\n",
        "    output,decoder_h,attention_weights = model.get_layer('decoder').onestepdecoder(caption,enc_op,decoder_h)#,decoder_c) decoder_c,\n",
        "\n",
        "    #prediction\n",
        "    max_prob = tf.argmax(output,axis=-1)  #tf.Tensor of shape = (1,1)\n",
        "    caption = np.array([max_prob]) #will be sent to onstepdecoder for next iteration\n",
        "    if max_prob==np.squeeze(tokenizer.texts_to_sequences(['<end>'])): \n",
        "      break;\n",
        "    else:\n",
        "      a.append(tf.squeeze(max_prob).numpy())\n",
        "  return tokenizer.sequences_to_texts([a])[0] #here output would be 1,1 so subscripting to open the array"
      ],
      "execution_count": null,
      "outputs": []
    },
    {
      "cell_type": "code",
      "metadata": {
        "id": "-GOOU_dKlxs1"
      },
      "source": [
        "%%time\n",
        "k = -1\n",
        "image1,image2 = test.image_1.iloc[k],test.image_2.iloc[k]\n",
        "print(greedy_search_predict(image1,image2,model1))"
      ],
      "execution_count": null,
      "outputs": []
    },
    {
      "cell_type": "code",
      "metadata": {
        "id": "5e1GxDVe8iEd"
      },
      "source": [
        "%%time\n",
        "_ = mean_bleu(test,greedy_search_predict)"
      ],
      "execution_count": null,
      "outputs": []
    },
    {
      "cell_type": "code",
      "metadata": {
        "id": "HpUICrFrlDcL"
      },
      "source": [
        "k = list(_)\n",
        "index = 'greedy search'\n",
        "result = pd.DataFrame([k],columns = [\"bleu1\",\"bleu2\",\"bleu3\",\"bleu4\"],index = [index])\n",
        "result"
      ],
      "execution_count": null,
      "outputs": []
    },
    {
      "cell_type": "markdown",
      "metadata": {
        "id": "r-GOz18EmuIx"
      },
      "source": [
        "### **Beam Search**"
      ]
    },
    {
      "cell_type": "markdown",
      "metadata": {
        "id": "IcoTWU8T_p4o"
      },
      "source": [
        "![image.png](data:image/png;base64,iVBORw0KGgoAAAANSUhEUgAABSUAAALhCAYAAACpL8HKAAAEDmlDQ1BrQ0dDb2xvclNwYWNlR2VuZXJpY1JHQgAAOI2NVV1oHFUUPpu5syskzoPUpqaSDv41lLRsUtGE2uj+ZbNt3CyTbLRBkMns3Z1pJjPj/KRpKT4UQRDBqOCT4P9bwSchaqvtiy2itFCiBIMo+ND6R6HSFwnruTOzu5O4a73L3PnmnO9+595z7t4LkLgsW5beJQIsGq4t5dPis8fmxMQ6dMF90A190C0rjpUqlSYBG+PCv9rt7yDG3tf2t/f/Z+uuUEcBiN2F2Kw4yiLiZQD+FcWyXYAEQfvICddi+AnEO2ycIOISw7UAVxieD/Cyz5mRMohfRSwoqoz+xNuIB+cj9loEB3Pw2448NaitKSLLRck2q5pOI9O9g/t/tkXda8Tbg0+PszB9FN8DuPaXKnKW4YcQn1Xk3HSIry5ps8UQ/2W5aQnxIwBdu7yFcgrxPsRjVXu8HOh0qao30cArp9SZZxDfg3h1wTzKxu5E/LUxX5wKdX5SnAzmDx4A4OIqLbB69yMesE1pKojLjVdoNsfyiPi45hZmAn3uLWdpOtfQOaVmikEs7ovj8hFWpz7EV6mel0L9Xy23FMYlPYZenAx0yDB1/PX6dledmQjikjkXCxqMJS9WtfFCyH9XtSekEF+2dH+P4tzITduTygGfv58a5VCTH5PtXD7EFZiNyUDBhHnsFTBgE0SQIA9pfFtgo6cKGuhooeilaKH41eDs38Ip+f4At1Rq/sjr6NEwQqb/I/DQqsLvaFUjvAx+eWirddAJZnAj1DFJL0mSg/gcIpPkMBkhoyCSJ8lTZIxk0TpKDjXHliJzZPO50dR5ASNSnzeLvIvod0HG/mdkmOC0z8VKnzcQ2M/Yz2vKldduXjp9bleLu0ZWn7vWc+l0JGcaai10yNrUnXLP/8Jf59ewX+c3Wgz+B34Df+vbVrc16zTMVgp9um9bxEfzPU5kPqUtVWxhs6OiWTVW+gIfywB9uXi7CGcGW/zk98k/kmvJ95IfJn/j3uQ+4c5zn3Kfcd+AyF3gLnJfcl9xH3OfR2rUee80a+6vo7EK5mmXUdyfQlrYLTwoZIU9wsPCZEtP6BWGhAlhL3p2N6sTjRdduwbHsG9kq32sgBepc+xurLPW4T9URpYGJ3ym4+8zA05u44QjST8ZIoVtu3qE7fWmdn5LPdqvgcZz8Ww8BWJ8X3w0PhQ/wnCDGd+LvlHs8dRy6bLLDuKMaZ20tZrqisPJ5ONiCq8yKhYM5cCgKOu66Lsc0aYOtZdo5QCwezI4wm9J/v0X23mlZXOfBjj8Jzv3WrY5D+CsA9D7aMs2gGfjve8ArD6mePZSeCfEYt8CONWDw8FXTxrPqx/r9Vt4biXeANh8vV7/+/16ffMD1N8AuKD/A/8leAvFY9bLAAAAXGVYSWZNTQAqAAAACAAEAQYAAwAAAAEAAgAAARIAAwAAAAEAAQAAASgAAwAAAAEAAgAAh2kABAAAAAEAAAA+AAAAAAACoAIABAAAAAEAAAUloAMABAAAAAEAAALhAAAAAPcBIFEAAAILaVRYdFhNTDpjb20uYWRvYmUueG1wAAAAAAA8eDp4bXBtZXRhIHhtbG5zOng9ImFkb2JlOm5zOm1ldGEvIiB4OnhtcHRrPSJYTVAgQ29yZSA2LjAuMCI+CiAgIDxyZGY6UkRGIHhtbG5zOnJkZj0iaHR0cDovL3d3dy53My5vcmcvMTk5OS8wMi8yMi1yZGYtc3ludGF4LW5zIyI+CiAgICAgIDxyZGY6RGVzY3JpcHRpb24gcmRmOmFib3V0PSIiCiAgICAgICAgICAgIHhtbG5zOnRpZmY9Imh0dHA6Ly9ucy5hZG9iZS5jb20vdGlmZi8xLjAvIj4KICAgICAgICAgPHRpZmY6UmVzb2x1dGlvblVuaXQ+MjwvdGlmZjpSZXNvbHV0aW9uVW5pdD4KICAgICAgICAgPHRpZmY6T3JpZW50YXRpb24+MTwvdGlmZjpPcmllbnRhdGlvbj4KICAgICAgICAgPHRpZmY6Q29tcHJlc3Npb24+MTwvdGlmZjpDb21wcmVzc2lvbj4KICAgICAgICAgPHRpZmY6UGhvdG9tZXRyaWNJbnRlcnByZXRhdGlvbj4yPC90aWZmOlBob3RvbWV0cmljSW50ZXJwcmV0YXRpb24+CiAgICAgIDwvcmRmOkRlc2NyaXB0aW9uPgogICA8L3JkZjpSREY+CjwveDp4bXBtZXRhPgqWqErQAABAAElEQVR4AeydCfxM1f//35ZQyFrZ+pTKGgqphL9KfEs/S1nbhK/IkiVkX0LW4vPNkp8l30K2FC1kSX0t4ZuskQoR2fetSO7/vE6/O+7MZ2Y+s8+9M6/zeHw+c++5557lec7Mmfue95LBUEmYSIAESIAESIAESIAESIAESIAESIAESIAESIAESCBGBDLGqB02QwIkQAIkQAIkQAIkQAIkQAIkQAIkQAIkQAIkQAKaAIWSXAgkQAIkQAIkQAIkQAIkQAIkQAIkQAIkQAIkQAIxJUChZExxszESIAESIAESIAESIAESIAESIAESIAESIAESIAEKJbkGSIAESIAESIAESIAESIAESIAESIAESIAESIAEYkogs2dra9euldGjR3tm85wESIAESIAEEopA5cqV5dVXX43KmLCPYj9lIgESIAESIIFEJoB9FPtpNFKjRo2iUS3rJAESIAESiBMBb89faTQl9+/fLx9++GGcushmSSAyBLCGDxw4EJnKkqSWdevWCf6YSCAZCGCtR1NoiLr5fkqGlZS4Y8Qeyu+Dwc8vv38Ez4x3OJcA1jueHaOV+H6KFlnWGysCfL4KnjS/fwTPzCl3+Hr+SqMpaQ5o3rx55iFfScBxBDJkyCBdunSRxo0bO67v8eqw+Ws03/vxmgG2G0sC5nqPZpsPPvig8P0UTcKsO5oE5s6dK02aNOEaDhIyv38ECYzFHU0A6z3aid/no02Y9UeTgPl9k98HA6fM7x+Bs3JaSfP94NnvNJqSngV4TgIkQAIkQAIkQAIkQAIkQAIkQAIkQAIkQAIkQAKRJEChZCRpsi4SIAESIAESIAESIAESIAESIAESIAESIAESIIF0CVAomS4iFiABEiABEiABEiABEiABEiABEiABEiABEiABEogkAQolI0mTdZEACZAACZAACZAACZAACZAACZAACZAACZAACaRLgELJdBGxAAmQAAmQAAmQAAmQAAmQAAmQAAmQAAmQAAmQQCQJUCgZSZqsK+EILFq0SHLlyiWffvppwo0tEgN6+eWXBZEXzb/nn38+TbXLly+XXr16yfz58+WOO+5wlX3hhRfSlK1Vq5bkzJlTMmXKJHfffbds3LgxTRk7ZQwaNEhKly4tN954o2TNmlXuuusuee211+T8+fNu3Qy0nNtN6uSPP/6QkiVLSt++fT0vBXQeaLuBlvNsNNz+jRgxQo/v+uuvl+zZs+vjfv36ydmzZ11NffLJJ4Jyf/31lysPBwsWLHCtJay//Pnzu13nCQmQgD0IcB/1Pw/cR7mPhrPPcx/1//7iVRJIFALcS/3PZLLvpZ50fD2j/fnnn9K/f3/9TJ4lSxYpXLiwdOvWTX7//XdXFfF49qJQ0oWfBySQloBhGGkzmeNGIG/evLJ48WL58ccfZerUqW7XBgwYIG+//bb07t1bGjRoIHv27JE777xT8uXLJzNmzJDPP//crfzSpUtl3rx5UqdOHdm+fbtUqFDB7brdTlasWCEdOnSQvXv3yvHjx2Xo0KGSmpoqjRo1cutqoOXcblInffr00Vw98wM9D7TdQMt5thtu/1atWiUvvfSS/Prrr3LkyBEZPHiwFkA2bNjQ1VTdunUlW7ZsUqNGDTl9+rQrv169enLgwAFZuXKl1K5d25XPAxIgAXsR4D6a/nxwH+U+mv4q8V6C+6h3LswlgUQjwL00/RlN5r3Uk46vZ7TOnTvLqFGj9DPriRMnZObMmTJ58mRp1aqVq4p4PHtRKOnCzwMSSEvgySeflDNnzmghWdqrsc3BLxgPPfRQbBsNoDVouT3++ONSvHhxrS1o3jJ8+HCZPXu2zJ07V2s/mvl4haAyY8aM0qZNG83Xes1Jxzly5NBjwCYIDc/GjRvLU089JV988YXs37/fNZRAy7luUAfffPONfP/999asoI8DbTfQctYORKJ/+IWuffv2ctNNNwn6AGFu/fr1ZdmyZXLo0CFXc506dZJ77rlHCx+vXLmi86EdiV/3qlWrJsWKFXOV5QEJkIC9CHAfTX8+uI+2Ee6j6a8TbyW4j3qjwjwSSDwC3EvTn9Nk3kutdHw9o0E5aOLEidKsWTNp2rSpfnZ9+OGHpWPHjvLBBx/IDz/84Kom1s9eFEq60POABOxNAFqIR48etXcn/693u3btEpjhvv7661rLzbPTEK7il5rffvtNq4x7XnfK+WeffaZNza39Nc2IL1686MoOtJx5AwTQ3bt311qXZl4or4G2G2g5sw+R6t9HH32UZn1A0IjkaQI/cOBA2bx5c9hMzDHwlQRIIPkIcB+135wHuv8EWs4cYaT2qUDbDbRcpPvHfdQkylcSIIFYEeBeGivSwbfjb+/79ttv5erVq/LAAw+4VQzlIqQlS5a45cfy2YtCSTf0PCGBawRWr14tKSkp2m/duHHj9IUJEyZo33c33HCDLFy4UJ544gntT7BIkSIya9Ys183QBITJ6c033yzwcVGwYEF9DmHc+vXrXeXwywR+5S5QoIArD5pj8K8HTTCYBCNBgNe1a1fZvXu3zofvQiRo5MGf4RtvvKHP7fIP44eZAdS/faUhQ4Zo7copU6YI/E76S6hr9OjRUqpUKa2NmSdPHq1Rt3PnTtdtgc4NboB/QvjTwPziV7Vy5crJnDlzXHWFcwBBK+osWrSo32r8lYPKvalB6LeSEC76a9danb9y0ezfzz//LLlz55bbbrvN2h3BnFevXl0LJWnC4oaGJyRgWwLcR0OfGu6j3EdDXT3cR0Mlx/tIwJ4EuJeGPi/Jtpf6e0aDlSISnlOtybQ4s2pK4nosn70olLTOCI9JwEKgatWq2oTWkiXt2rWTLl26aGewMNeFIAuCQgRwgW88OI9FgrCxefPmAm05qD/D5yCCtsD0tGbNmi7TXnxQwuTXmsaPH681DK158FMIP4vwxwiBDDQRkczgH/jVw04JviJLlCghEN76SvhA/Pe//63NuMHuwoULvooKfqlBsBx80EJbFH4EYR4N0134IkQKdG5QtmfPnjJy5EgZM2aMNhMG22effVY2bNiAyyEnzDf8M2I8EDb7Sv7KrVmzRq8p9CfSyV+71rb8lYtG//C+gRAUwn8IqMeOHeuVX/ny5XW5LVu2WLvLYxIgAZsS4D4a+sRwH+U+Gszq4T4aDC2WJQFnEeBeGvp8JdNemt4zGoKqIXkKHxHrAenYsWP61fovVs9eFEpaqfOYBIIgAK1HaCnCHx78MkCohoAd1pQ5c2aXdh+iNEOb79y5czJt2jRrsZCP4V8EkYphKm2XBA6//PKLFqCm16fKlStrIS+EthAUektQQ4eW5NNPPy2I7o1o6GXLltU+MaBJOmnSpDS3+ZsbRCPDPMD3I4LvQCsP0a2vu+66sOcFgW6gFQstUH/JVzmMFVqx6F80kq92PdvyVS5a/bv11lsF2sYQPkNY3KRJE88u6XPzl7xt27Z5vc5MEiABZxHw91ltjoT7qEnC+yv3Uff9Nlr7lEnf1/5oXjdffZWLVv+4j5rk+UoCyUeAe6n3OU+mZ9JA9hY8P8NUGwpQUKLBM/Hhw4cFbkBgoWkqV1lpxurZi0JJK3Uek0CIBEytOG9vZmuV9913n9YetJodW68nwjE0GaHN6U9L0jpOCPCgVYkPSJgneCZE4YZ/QbCzpkqVKmltOqs5vPW6eew5N4gSDk3AMmXKmEW0GjtM6MOZF3ygI6gP/HFAi9ZX8lcOUcpbt26tA7j4uj/UfH/tWuv0Vy5a/YPWK9YNnCy/9957gl/lvPlPNdeUqR1r7TePSYAEnE3A87Pa12i4j6Ylw330GpNo7VNowd/+eK0H/stFq3/cR60zwGMSSF4C3EuvzX0yPZMGurcgCC0CiyLYDQLMValSRT7++GP97G5qTF4jKK7n+Wg/e1EoaaXOYxKIAYGsWbN6VY+OQdMxaQK/uiBhnIEk+N6E5ih+oWnZsqU2jbfed/r0aX2K6MyeCVqO0DwNJplm4tCORJvm3759+7SwMpi6zLL4gEe08a+//lpuv/12MzvNq79yEMhCA7BVq1Zp7gs3w1+71rr9lYtm/6ClCo3jWrVq6YjtEERDy8QzmT5QzDXmeZ3nJEACyUGA+6j7PHMf/ZtHNPcpf/ujdTb8lYtm/7iPWmeBxyRAAoEQ4F7qTsmpe2kwewssDhGB+8CBA/q5F27o3nrrLQ2iUKFC7kDUWayevSiUTIOeGSQQPQLQpISQDaaqiZrMDy/T32Ug44T52auvvipwzj548GC3WyB4RPImfAyFJYRfSPAnCY1O69/atWv1tWD+wf/hjBkztBq8tw9zs670yiGS3Zdffql9bJqCUrOvCGSEvFB8XqbXbrz7Z7ZvviKIU6ZMmQSCSc90+fJlnWWuMc/rPCcBEkh8AtxHvc8x91ER7qN/rw3uo97fI8wlARK4RoB76TUW1iMn7qXh7n2Iyo30yCOPWFHo41g9e1EomQY9M0ggegSgSQch2IMPPuhqBP6y0jP7dhV2wAEijkOAdubMmaB6C2EkHPBu2rTJ7T6YWUNL0lMgB7NtfFBWrFjRrXx6J/C7hF/CNm/enF5Rv9cxjz169NDajQsWLNB99HZDoOWgLWoVkOLYdDiMAD849zRh99aemRdou4GWi3T/Tpw4oYMLmf01XyGYhkAb8+SZzDV1yy23eF7iOQmQQJIQ4D7qe6K5j3IfxergPur7PcIrJEACfxPgXup7JThtLw33GW3y5MlStGhRqV69ehoosXr2olAyDXpmkEDkCCAq9qlTp3TU7a1bt+ogJikpKToyt9kKftE+efKkQLAF4SQEUTAl9kzw+3Dw4EFBUBhoDaLs4sWLdbAdaNLZJcHvH6KRQy08mGSqzENLzpqQ37VrV+3LCRqJCOwDM+e2bdvqoDJt2rSxFk/3GPW1aNFCZs2apQPKoD4IwdDfQ4cO6fsRuAiCL0RM95V27Nihg7LggxxmU6Z2o/n65ptv6lsDLeerHW/5idC/7Nmzy9KlS7WGKeYA6xkC6RdffFFwDZqznslcU3DUzEQCJJAcBLiPBj7P3EcDZ8V9lPto4KuFJUnA+QS4lwY+h07bSwMfmcj999+v5QxXrlzRMoVu3brJ8uXLtaWB6Y/UWl+snr0olLRS5zEJWAiMGzdOEEwFCRpx9erV00IsmP0ilStXTvbs2SMQSkFohoSIVviF2kzwfQcBCsxNq1WrJsWLF5evvvrKzd9iu3bttLr0M888owO+4NcZ0zwVKuRwXo4EIRy0EBHFu3bt2lqQabZjt1dEBYf5LSKBmQlOdCGAhe8KcH3llVfMS65XaJB6E0YNGDBA+xgcNGiQ5M+fX/+SA9+N+JUPAiwkRKwOdG5SU1N11O8RI0YInPoiYjaiXkOAjAQNTDhHXrhwoT739g8ahoGkQMsFUpdZJhH6hw0fzpXhQ7Nw4cI6OBAcL2Ne161b5xaIyBw3zAtQFu89JhIgAfsT4D4a+hxxH73GjvvoNRbWI+6jVho8JoHEJcC9NPS5TYa9NBg6cIt27733allDhQoVdJDXVatWeTXdRr0xe/ZSG71bmjNnDp603fJ4QgJOI4A1jLUcz6Q0+Ayl3RjPLgTVdsOGDQ38BZMwRiUkSnOLEswayizdmD59epprTshQmpOGEiIbykeHLbubjP07fvy4oR7ADKWBmmZOOnXqZCjhcpp8fxmhrHd/9Xlei3b9nu3xnAQiTcAO3wedto9iDoL9/sF9NNIrN7D6uI+6cwplH0UNwa5391bTP4t2/en3gCVIIDwCdvg+6LS9NJTvH9xLw1un3u6O9LMX2vD1fqCmpNrtmEggWgRgFpzoCdqQS5Ys0RqipjNcaERCqxF/58+fdxQCzBlM6WEiD/Muu6Vk7d/AgQP1L3sdO3bUU6L2Ne3OABHndu3aZbdpYn9IgAQiRID7KPfRCC0lVzXcR7mPuhYDD0ggSQhwL+VeGuxSj+WzF4WSwc4Oy5MACbgRgD9MmK3DNL1ly5aua7169RKY40KwZzrJdV208QFMwufPn6/9dcI/pt1SMvZv9OjROjDRokWLtP9OzAlM62HKDbcIn3/+ud2mif0hARIggYAJcB8NGFVECnIfvU5z5D4akeXESkiABGxCgHtp5CYi1s9eERFK4kExV65c8umnn0aORBxrgiNY+KZ76KGHQu4FfKKVKlVKMmbMqANgIGjGkCFDQq4vGjdC8IKAJGZgjgIFCsjzzz8fjaaSrs7evXsLImFBGIdoVh9++GFCMpg4caJbxGgEorEmBOCBZtuwYcOs2bY+rlGjhsycOVPwfrBjSrb+4aHp0qVLgofIPHnyuKakfv36bmtPmRi4rjn1IFH2UmhIw/ftjTfeqP3nQnP6tddeC0lrmnupU1dz+P3mPvo3Q+6j4a8lzxq4j/5NhPuo58qwzzl8npcsWVL7fYPvdBz369dPB3sMtpfcR4MllljluZf+PZ/cSwNf1/F49socePd8l4QZXaIkBClBZN41a9bIPffcE/KwELDjhx9+0BpkMG398ccfBY5F7ZQaNGgg+MMDIx7oDx8+bKfuObovQ4cO1YFZHD2ICHW+Vq1agj8mEgiFAAJM4S8ZUqLspStWrJAOHTpoLWlEpl+8eLH+wWvbtm36OJi55F4aDK3EKst99Np8ch+9xoJHwRPgPho8s3jfgcATL730kjRr1kwLJrGPPvfcc7J+/XpZunRpUN3jPhoUroQrzL302pRyL73Gwt9RPPaMiGhKIqoRNMLq1Knjb3wxuQb/dqFqOG7ZskV69uypoxwjKlGipXDYJBoLjocESIAE7EYgUfbSHDlyiHI4LirQl46q3rhxY3nqqafkiy++kP3799sNe9D94V4aNDLeQAIkQAIxIZAo+2iWLFmkffv2ctNNNwn2VLhDgmbrsmXL5NChQzFhGc1GuI9Gky7rJgHnEYiIUNJOw1bRcuXo0aMhdQmakTBpxi9RWbNmDakOO98UDhs7j4t9IwESIAESiCyBcPaLzz77TDJlyuTWofz58+vzixcvuuU78SQcNk4cL/tMAiRAAiQQPIFw9oqPPvpIsmXL5tYo/GgjOS2ApNsg/u8kHDbe6mMeCZCAswmELZRE5NOUlBTtl3DcuHGaxoQJEwT+LxAkAjbpTzzxhPYtVaRIEZk1a5aL2Ntvv60/cG+++WZ5+eWXpWDBgvocmo5QTzcTfNLhFyOrjzf8eoQ24A/R9CXWuXNn6dq1q+zevVvnwyw5GgnaHvCVBd8EwSans4E5AXyFwYcoNsuyZcvqyMvg0KpVK5d/yjvvvFM2bdqk8cAcHmsB93zyySc6DxHA+vfvr9fO9ddfL+XKlZM5c+boayNHjtTlc+bMqQXMmFNsxDCBZyIBEiCBRCSQ6Hvpb7/9pk3Q4GPXTNxLuZeaa4GvJEACJBAugUTfR+FiDK7AbrvtNhcq7qPcR12LgQck4GQCyoeVW1KCITiIdMtL70SZY+l7xo4d6yrap08fnffll18ayrTbUNqLhoqSaihBonH58mVXOWXipfN27Nhh/PHHH8b27duNSpUqGUogZfz666+uckp70VDBYlznOBg1apRu49ixY6585SPRUAIx13moBw888IChNCe93q60QHT/lDN/r9etmf/4xz90H0+dOuXKthsb8FICQ1f//B3MmzfPUOHhDRXdyjhx4oSh/JQY+fLlc90C/kpDxlAPoK48HDz77LOGEki68rp162YobVRDBYAxwEY54TVUUCDj22+/1WVMRp06dTKwrp5++mlD+eh03Z/eAdYw1jJT4AQaNmxo4I+JBJKBQLTXeyj1J+JeirV04cIFvWeqHxjdlhb3UnvvpaF8H3Sb4CQ94fePJJ34JB12tNd7sPUn2j6KZ+YDBw7oZyE8N02fPt1tpXEftfc+iskK5fug2yQn4Qm/fyTupPt6P4StKak2C78JWo/QKoRPjKZNm4p6OBElbHS7J3PmzDpSNUymoYUHbcJz587p6MVuBW1yAn8lZ8+e1VHQwumSE9mohSQDBgzQUXDhL6xu3bqihJOiBMMaRdu2bQVakIg8bSawUsJGqV27ts5Swmc9x/AxhkA7+NWvb9++goAI1vtQePjw4TpgAszqEXmOiQRIgASSkYAT9wtznuBkHZYQQ4YMMbP0K/dS7qVuC4InJEACJBBFAk7cR2+99VaBpaFSCBFYkjVp0sSNEPdR7qNuC4InJOBQAhGJvh3o2GGCjfTnn3/6veW+++7T5rs7d+70Wy6RLjqVDQSJSBBEIj366KNSvHhxeffdd0VpP2pz7tmzZ2uBtOljDGbY8CtWpkwZfQ/+wYQb5vmRnHNs3J6bt6tBHvgkAJcITCSQDATwI4sTk5P2C/jFmjt3ro4WCpcc0U5OYmNlYee9lHuCdaYCO+b3j8A4sRQJxIuAU/YKBIc7ffq0donVq1cvmTRpkqxYsULg+ixaySlsPMdv531UWQbqZ2LPPvPcPwF+//DPx6lXvT1/xVQoGQw4aE2a2nfB3JcMZePJ5vPPPxdlNi/KzF5ri3oKmPHhAf+gr776qijTfXnsscfk/fffl5kzZ7qmBtqySNCOxJ81QZsmUgk+RitXrhyp6hK+njFjxugxdunSJeHHygGSgLneE51EPPcL/CA1evRo+frrr6VQoUK2Qx1PNk7aS5UZle3mzs4dgkCS3z/sPEPsWyQJJMOP//HcKyBog7VhrVq1BD6ZofgB64PU1NRITmPIdcWTjZP2UeXuTPh8FfgyW7t2rV7j/P4RODOnlPT1/GVLoSQEXfhVCOrqTO4EYs1m5cqV8t133+kPUpjdw+Ra+XfUmpB4yFT+HuW1115z62Tz5s21luSUKVMEZgcw37c6ZcbmioRFiS/u0UoQSDZu3Dha1SdcvcpfqB4TmSXc1HJAXgiY693LpYTJivV+YQWHvWHJkiVaoyNHjhzWS7Y4jjUbJ++l3BOCW7IQ0vD7R3DMWNq5BBJdKBnrvcLfSkAAV1idQTHEDinWbJy8j0Kmwb00uFULwTuZBcfMCaV9PX/ZUigJrQrl3lPwq4KZ4HcSH37JnmLNBgJJRDlH2rZtm56Ddu3ayR133KHzvKlV58mTR5tNQ0sG5novvfSSLmv+g6ASkbs3b95sZvGVBEiABEggwgRivV+g+9i7e/bsKSqAmSxYsECwd9sxxZoN91I7rgL2iQRIgAT8E4j1XoHewFf/K6+8Ih988IFb5xB9G+6y8BxlhxRrNtxH7TDr7AMJRIdA1APdBNLtq1ev6geYK1euyNatW7X2XEpKikDjzkz4dUhFfNYPORBOwrR737595mXXK4KvHDx4UPbu3auD5URDkLl48WKt/ffGG2+42o3WQbzYgNuRI0cEG44plMScIC1fvlwQrAab4/r1670OHQFvLl26JCoqnNSpU8etDASSLVq0kFmzZumANwiEg01WRZeTQ4cOuZXlCQmQAAmQQGAE4rVfWHu3Y8cO7Yx/8uTJOngZfriy/r355puu4txLuZe6FgMPSIAESMAGBOywj+K5a+nSpdrSAM9IeCbbtGmTvPjii/qZDC6yzMR9lPuouRb4SgKOJuAZcDzYEOzKRMtQAUoMBcG44YYbDBWN2Rg/frw+Rl6xYsWM3bt3G8oxr6HMeHU5Zcpr/PTTT7rpNm3aGMpfhlG4cGFDaVToMvXr19f3WPumfjUyHnnkEUMJtAzlU8NQvyAZ3bt31/UpgaWhTIt18Y0bNxqoXwVOMapWrWocPnzYWo3fY+W/wKhSpYqh/BrqetF/jE1FazP+85//uO5dtGiRoTQADRVJ1JXnebBu3Trj7rvvNjJmzKjrQj1KiGkrNu+8845x5513usaK8Xr7U4EKXMPr0aOHoQS/hoqYbTRq1MgYN26cvgf1mHNgFi5fvryhnDKbp26vSmBpoC4l6NTzrky6DRWJ21AmCcaIESP0/KEv6tdAY/r06W73BnKCe7GWmQInoJzOGvhjIoFkIBDt9R5s/YmylyqNeq/7iLm3KJ/EruXFvdTee2mw3wddE5vkB/z+keQLIMmGH+31Hkz9ibKPYgnheRrPu8r9iaH8NurntaZNmxrYY62J+6i991HMVbDfB63zm6zH/P6RuDPv6/2QAUNWH/iuhCiZ8A/ike26HukDBEWBbTlU1ZncCTidzZNPPilKaKkdM7uPLPpn0MxRH2j0RREEaiVk1qV9+XoIoioWJQHbE4j2eo92/Z6Anb5feI4nkudOZxOvvTTW3wcjOefxrIvfP+JJn23HmkC013u067fycvpeYR1LpI+dziZe+yjmIdbfByM99/Goj98/4kE9Nm36ej/YwnwbprtM3gk4iY3VVB5m+DDTRqQ4JhIgARIggegTcNJ+EX0a7i04iQ33Uve54xkJkAAJxIqAk/aKWDEx23ESG+6j5qzxlQScQcAWQsloodq5c6ebLyv82ubtT6nDR6sLSVWvMsfWfiaVab72GTl48OCkGn8yDha/nFrfU88//3waDPBBqsz4Zf78+TpAkln+hRdeSFO2Vq1aOjgSogsq9wei3DGkKWOnjEGDBknp0qW1j1llXiPwfYto9OfPn3frZqDl3G5SJ/DdWrJkSenbt6/npYDOA2030HKejYbbP+WqQY9PudvQfpIw1n79+gl8KJnpk08+EZTz/DKMICrmWsJr/vz5zVv4GmEC3EsjDDSd6riXpgMowS5zH+U+Gs4+z33UGR8I3EdjO0/cR2PL2w6tJfte6jkHvp7RILDv37+/fibPkiWLKBeK0q1bN/n9999dVcTl2cvTYj2WNvzwN6hgaP9Tt99+u6HMRj27k7TnTmTTp08f7UMTfiDVYo7r3Kl3FX1KBjkDvnw8+KsGPmHhY1Q52jZ+/PFHQ30AuhVXH3qGCnRkKCGTKx/+R/Ply6ff9yoQkivfPEBd9erVM09t/Vq9enXtJxY+bzFGfH7CR+7jjz/u1u9Ay7ndpE6UM3PNCe+tUFKg7QZazrMP4fZPmdMYKvCJcfToUePcuXOGMtfQ/GrWrOnWVGpqqoE+qojOrnzljN5QwbGMlStXGrVr19ZrynUxgINQ1nsA1bqKRLt+V0PqwIn7hbX/0Tx2Ihu77KWx/D4YzTUQ67qD/f7BfZT7KNZMqPt8PPdRvLeCXe/Bvh+jXb/ZHyfuFWbfo/3qRDZ22UcxN7H8PhjttRCr+kP5/pHse6nn3Ph6RmvXrp2O0aICDutn16+++krHdHn22WfdqojGsxca8PV+gO9ItxTKInCrgCckYAMCsfoS42uoFy9eNCpXruzrckTyI92Grw8Jf53FBoAgVd7SsGHDjOLFixvqlxe3yxBKzpw5Uwuwce/p06fdrjtJKImHgStXrrj1v3HjxvpLujXwU6DlrBWtWbPGUJqjYQklA2030HKR7t9TTz2VZn0oXyN6zAcPHrQ2Z3Ts2FG/p9QvfG75OOnUqVNSCyXTAGEGCUSAgB2+D0Z6n/OGJdJtBPv9g/so91GsmVCFkvHcR/F+Cna9e3sP+suLdv3+2uY1EogEgVCeryLRrrWOSO9z1rrN40i2Ecr3j2TfS815wKuvZ0gEn0YQ5tatW1uLG8oiT3+W79ixwy0/0s9eqNzX+yGhzbfVRsZEAnEhMHXqVFHaX1FtOxZthDqAXbt2aTPc119/XfsW9axHRbSXzp07y2+//aZVxj2vO+VcaXoKTM2tyTQjVpuzKzvQcuYNUKHv3r27qF+pzKyQXgNtN9ByZici1b+PPvoozfqAGQGSpwn8wIEDZfPmzWEzMcfAVxIgAfsTiMU+F4s2QiHNfVSE+2j6K4f7aPqMWIIEkp1ALPa5WLQRyjwmy15qsvH3jPbtt9+KsjSTBx54wCyuX5WFn35dsmSJW34sn70olHRDz5NkJaAE9zJ69GgpVaqUwDdgnjx5pH79+gIfMGZSvxYIfC8UKFDAzJL27dtrX3jwaXf8+HGdD2Fb165dRf0aoX3ewc/g22+/rYUvN998s8DnRcGCBfU5hHPr16931RdOG6jkiy++0P4N33jjDVed8TjAeMG0bt26PpsfMmSIKE1KmTJlisDvpL8UyPxMmDBBz8UNN9wgCxculCeeeEKzKFKkiCgVdbfq4Z8Q/jRSUlIE/gzLlSuno7W7FQrxBIJW1JlekCd/5ZTGhF5bN910U4i98H2bv3atd/krF83+/fzzz5I7d2657bbbrN3R70llwq2FklgPTCRAAvYjEMhndTj7XDLtpdxHuY+G+g7nPhoqOd5HAvYgwL00cvOQbHupv2c0pSWpweI51ZqKFSumT3/44QdrdmyfvdSid0uhqMu6VcATErABAfWOCsqnJHwfwr/p9OnTtTmxih5uVKhQwVBab8bhw4ddI3ruueeMW265xXWOg1GjRmmV52PHjrnyGzRoYMBM2ZqgVp49e3YDqtHwvbh9+3ajUqVKRs6cOQ2rqW84bSiNN12fClxibTqgY1/q1P5u9qUqf8cddxgqAIzXW8Hll19+0de++eYbrUYOn7JKM07neTPfDnR+YP6Euf/yyy+NM2fOaF+F1apV09wvX77s6o9y6Gso4bPx4Ycfaj+FvXv31v1QvyC5yoRycOHCBc0f6u7+kr9yq1evNpQwV9+ONYXxYFyRSP7atdbvr1w0+oe5gX/IsWPH6nnB+9Bbgl8j8Ni0aZPbZZpvu+HgCQlEhEAo3wcD/awOZ5+z+14a7PcP7qPuy9Xf/mMt6a9cNPYps21/7Zpl8OqvXDT6F499FOMMdr3jnmBStOsPpi8sSwKhEAjl+SrZ99JQvn9wLzWM9PYWyDfwmaqCirotZbgiQz7cgXimSD57oW5f7wdqSqoZYEpuAlBzhpbk008/LYgenStXLilbtqxMnDhRaz9OmjQpYoAyZ87s0sZE1GZo96kAHzJt2rSItKF8A+rIxYhgHK+kvoiLEjqKEj6m2wXld1O6dOkie/fulZ49e3otH8r8QAP1xhtvFGgaNm3aVNAnJfjV9SMaGbirD15RwmOtlYfo1ipATdjzMHToUK0FCy1Qf8lXOYwVmrboXzSSr3Y92/JVLlr9U8GxBBqtMBMYOXKkNGnSxLNL+tz8JW/btm1erzOTBEggfgRC+awOtbeJvpdyHy0o3EeDe3dwHw2OF0uTgF0JcC+N3Mwk014ayDMa5Bsw1R4/frysWLFC8EyslK8EbkBg9YnI3J4pVs9eFEp6kud50hFQGovaf919993nNnalxajNta3m1W4FInCCNmFubDUTj0C1ca0CvjTVDyF6XIF0BA8eJUqU0B+Q6heeNLeEOz8wuUcyP2hVlHDtp6pMmTKutqDGDrP8cOYBH+gqerTAH4fSfnXV7Xngr5zS2BTlfFhMv4qe94Zz7q9da73+ykWrf/v379c+WD/44AN57733pHz58l59suK9gnTkyBFrl3lMAiRgAwLhflaHM4RE20u5j3IfDfb9wH00WGIsTwL2JMC9NHLzkkx7aaDPaLNnzxYVVFSaNWsmefPmlSpVqsjHH3+sn93z5cuXBn6snr0olEyDnhnJRkBFf9ZDzpEjR5qhw7cdNBmjmeDDUpnpRrOJmNaNX12QMK5AUrZs2bSGIn6hadmypeCXHmuK9PzgVzMkaEeiTfNv3759bk71rX1I7xgf8MOHD5evv/5abr/9dp/F/ZWDQBYagK1atfJ5f6gX/LVrrdNfuWj2D1qq0GpV0cYFfcAXMmhreibTB4q5xjyv85wESCB+BCL9WR3sSBJpLzU/47iPpl0F8dqn/LVr7aW/ctxHraR4TAIk4I0A91JvVELLS5a9NJi9BRahsAZVbrP0cy9iYLz11lsacKFChdKAjtWzF4WSadAzI9kIQPCI5E34iI0BZqXRStDei3Yb0eq7r3rNDy8Ekwk0wYz71VdfFThnHzx4sNttkZ4fM3jMmDFj9K9C0Oo0/9auXevWdiAnyg+izJgxQ6vBe/swN+tIrxyi1ilfmAInxKag1OwrAhchb8OGDWZ1Ab+m165ZUXrlotU/s33zFYGhENEcgknPpHxm6SxzjXle5zkJkED8CET6szqYkSTaXmp+xnEfdV8F8dqn0mvX7GV65biPmqT4SgIk4IsA91JfZILPT5a9NNy9BVG5kR555JE0kGP17EWhZBr0zEg2AjDjhZakp8AHZtt4I1asWNGFBH6sTDNgV2YYB9Csg0DswQcfdNUS6TZcFcfoABHGIUBTgWaCahHCyJIlS4oKYuJ2XzDz43ajjxP4XYJ25ubNm32UCCwb89ajRw+t3bhgwQK9hrzdGWg5+BU1haPmq6lBi0hqyPN0MeCtPTMv0HYDLRfp/p04cUKeffZZs7uuVwim8SCOefJM5ppSwaY8L/GcBEggzgSC+ayO9D6XaHsp91H3xRyvfSrQdgMtx33UfV55RgIkkJYA99K0TELNSZa9NNy9ZfLkyVK0aFGpXr16GtSxevaiUDINemYkGwEIqLp27aqdvELj7ezZs1rQ1LZtWx20REXzciGBFtfJkycFQigIJyE0gtmvZ4KPhoMHD+oALtDANAWZV69elVOnTomKciUqApYOapKSkiLNmzd3VRFOGypytQ7wAs26eCX4nlDRt7VaeDB9MM24oSVnTcHMj/U+X8eor0WLFjJr1iwdUAbzDSEY1NgPHTqkb0NwHAi+Nm7c6KsaUVHUdVAWfJDD/NjUbjRf33zzTX1voOV8NuTlQiL0T0Wil6VLl2oNU8wB3iMQSL/44ouCa9Cc9UyYIyQ4amYiARKwF4FgPqvD2ecw6kTfS7mP/u1ahfuo/+8h3Eft9RnI3pBAJAhwL40Exb/rSJa9NBhi999/v5ZdQBaxd+9e6datmyxfvlygbWnGYbDWF6tnLwolrdR5nLQEBgwYoH3YDRo0SPLnz69/KYBvQGhf4Eufmdq1a6dVm5955hkdnAXafaZqOEyQ4WgcCQJN/DqDCNu1a9fWgkzkw7cFBCq4p1q1alK8eHH56quv3PwvhtsG2ol3QhRwmN9a/UPCiS4eROG7AkGEXnnllTTdhMaoN2FUIPODiNUwyUYqV66c7NmzRyAwhMAZCdHGoIWHlJqaqqN+jxgxQuDUt2DBglpADIExEjRk4Rx54cKF+tzbP2hGBJICLRdIXWaZROgfvnTBuTJ8aCKwD4IDwfEy3nfr1q0T/FLsmWBegLKYXyYSIAH7EQjksxq9DnefS4a9lPvotfXNffQaC+sR91ErDR6TQOIQ4F4aublMhr00GFpwD3DvvfdqWUSFChV0kNdVq1Z5Nd1GvTF79lIbvVuaM2cOnrTd8nhCAk4jgDWMtWynpDQuDaVBaacuufWlYcOGBv6CSRiTEhKluUUJ/wxlnmdMnz49zTUnZCjNSUMJjQ31q5Etu5uM/Tt+/LihHsAMpTmTZk46depkKOFymnx/GaGsd3/1eV6Ldv2e7fGcBCJNwK7fB+2+lwb7/YP7aKRXbmD1cR915xTKPooagl3v7q2mfxbt+tPvAUuQQHgE7Pp90M57aSjfP7iXhrdOvd0d6WcvtOHr/UBNSbXbMZFArAjATDjRErQhlyxZorUQTWe40IiE1in+zp8/76ghY45gng+ze5hJ2y0la/8GDhyof9nr2LGjnhK1r2kXCYg4t2vXLrtNE/tDAiQQRQKJtpdyH43iYvFSNfdR7qNelgWzSCDpCHAvtfeUx3uviuWzF4WS9l6L7B0J2J4AfGzCNBqm6C1btnT1t1evXtocF4I900mu66KND2CyP3/+fIF/TvgisVtKxv6NHj1aByZatGiR9t+JOYFpPUy54Qbh888/t9s0sT8kQAIkEDAB7qMBo4pIQe6j12mO3EcjspxYCQmQgE0IcC+N3ETE+tmLQsnIzR1rIgGfBHr37i2IjAXhHKJbffjhhz7LOunCxIkT3SJGI1CQNSHgDjTbhg0bZs229XGNGjVk5syZUqBAAVv2M9n6h4emS5cuCR4i8+TJ45qT+vXru609ZWLgusYDEiCBxCSQiHsp99HYr1Xuo38z5z4a+7XHFknADgS4l9phFtLvQ7z2qng8e2VOHwdLkAAJhEtg6NChOpBOuPU48f5atWoJ/phIIBQC9erVE/wxkQAJkECy7qXcR7n2wyHAfTQceryXBBKPAPfSxJvTSI4oHnsGNSUjOYOsiwRIgARIgARIgARIgARIgARIgARIgARIgARIIF0CFEqmi4gFSIAESIAESIAESIAESIAESIAESIAESIAESIAEIkmAQslI0mRdJEACJEACJEACJEACJEACJEACJEACJEACJEAC6RKgUDJdRCxAAiRAAiRAAiRAAiRAAiRAAiRAAiRAAiRAAiQQSQI+A93MnTs3ku2wLhKIOYG1a9fGvE0nN3jgwAHd/Xi99w3D0O1nyJDByRjZd4cQwHovUqRIVHuLNuL1forqwFi57QhE4/PT3EO5hoOfbpNd8HfyDhIgAU8CfD95EuG5kwjE+/nKSazMvprveX7/MIkkzquv568M6ovs35KA/xsrJr9JkyaJM3KOhARIgARIgAS8EGjYsKHMmzfPy5Xwsxo1aiQffvhh+BWxBhIgARIgARKwMYE5c+ZI48aNo9JD/lAdFayslARIgATiRsDb81caoWTceseGSYAEkprATz/9JEOHDpUPPvhAChUqJF27dpV//vOfcsMNNyQ1Fw6eBEiABDwJXLx4UaZOnSpvvfWWHDx4UJ599lnp3bu3FC9e3LMoz0mABEiABEiABEiABEjAtgQolLTt1LBjJJCcBH799Vf9oD1lyhQtkGzfvr106tRJ8uTJk5xAOGoSIAES+D8C586dk3fffVdGjBghJ0+e1NpJ/fv3l7vuuouMSIAESIAESIAESIAESMBxBCiUdNyUscMkkBwEjh8/LuPGjZO3335brly5Ii1atJAePXpoLcrkIMBRkgAJkMDfBI4dOybjx493+zzs2bOnFCxYkIhIgARIgARIgARIgARIwLEEKJR07NSx4ySQHARMzaCRI0fKiRMntGZQv379pFixYskBgKMkARJIWgL79u2T0aNHCzTHs2fPLu3ataPmeNKuBg6cBEiABEiABEiABBKPAIWSiTenHBEJJCSBS5cuCZypDxkyRHbv3i0NGjSQgQMHSunSpRNyvBwUCZBA8hLAZxx+iJk2bZrWDu/SpYu89NJL9LGbvEuCIycBEiABEiABEiCBhCSQMSFHxUGRAAkkHIGsWbNKs2bNZOfOnTJ79mzZvn27lClTRurUqSPr1q1LuPFyQCRAAslHYPPmzfpzrkSJErJixQrtwuLnn3/W2pEM+pV864EjJgESIAESIAESIIFEJ0ChZKLPMMdHAglGIGPGjNKoUSP5/vvvZeHChQLfk5UrV5aqVavKp59+mmCj5XBIgASSgcDq1av1Dyzly5eXbdu26WA2+AGmdevWct111yUDAo6RBEiABEiABEiABEggCQlQKJmEk84hk0AiEMiQIYN+iF+7dq2sWrVKR+euW7euVKhQQd5//33566+/EmGYHAMJkECCEjAMQ/+Qgh9VqlWrJqdOnZJPPvlENm3apLUlM2XKlKAj57BIgARIgARIgARIgARI4G8CFEpyJZAACTiegKkluXHjRm3S3bJlSylZsqRMmjRJR+52/AA5ABIggYQhcPXqVZk3b56ULVtW6tWrJ/nz5xf8uGJqSybMQDkQEiABEiABEiABEiABEkiHAIWS6QDiZRIgAecQgOkjtCRh9vjoo49Khw4d5K677pJ//etf8vvvvztnIOwpCZBAwhG4fPmy/nzCDyZNmzbVQbpgqg23Ew8++GDCjZcDIgESIAESIAESIAESIIH0CDD6dnqEeJ0ESMCxBPbt2yejR4+WyZMnS44cOaRdu3bSuXNnyZ07t2PHxI6TAAk4i8D58+dl6tSpMmrUKDl27Jg0adJE+vXrJ8WKFXPWQNhbEiABEiABEiABEiABEogwAQolIwyU1ZEACdiPAAQB48eP1xqT8DXZokUL6dmzpxQsWNB+nWWPSIAEEoIAgnCNGzdOxo4dK9CShFuJ1157TQoXLpwQ4+MgSIAESIAESIAESIAESCBcAhRKhkuQ95MACTiGwLlz53RU2xEjRsjJkyflxRdflD59+khKSopjxsCOkgAJ2JvA4cOHJTU1VQsjb7jhBmnfvr107NhR8ubNa++Os3ckQAIkQAIkQAIkQAIkEGMCFErGGDibIwESiD+BS5cuyXvvvSdvvPGGHDp0SPt369Wrl5QqVSr+nWMPSIAEHElgz549WhsbAbbgIgKuIl555RWBYJKJBEiABEiABEiABEiABEggLQEGuknLhDkkQAIJTiBr1qzSunVr2bVrl0yZMkU2bNigo3bXqVNH/vvf/yb46Dk8EiCBSBLYsmWLNGvWTIoXLy6fffaZDB8+XH755Rfp0aMHBZKRBM26SIAESIAESIAESIAEEo4AhZIJN6UcEAmQQKAErrvuOi1M+P7772XBggVy9OhReeCBB6Rq1ao6Im6g9bAcCZBA8hFYvXq14IeM8uXLy9atW7VriJ9++kk6deok2bJlSz4gHDEJkAAJkAAJkAAJkAAJBEmAQskggbE4CZBA4hHImDGjFi6sX79eVq1aJXny5JG6detKxYoVZd68eWIYRuINmiMiARIIicDy5culSpUqUq1aNTl16pQsXLhQNm3apH/gyJQpU0h18iYSIAESIAESIAESIAESSEYCFEom46xzzCRAAj4JmFqS3333ndx5553SpEkTKVeunLz//vty5coVn/fxAgmQQOISuHr1qtaerlSpktSsWVObZa9Zs0ZMbckMGTIk7uA5MhIgARIgARIgARIgARKIEgEKJaMEltWSAAk4m0CFChVk7ty52iwT5pn//Oc/pVixYjqQxe+//+7swbH3JEACARG4fPmy/kGidOnSUr9+fSlQoID2Qbts2TJ56KGHAqqDhUiABEiABEiABEiABEiABLwTYPRt71yYSwIkQAJuBPbu3StjxoyRyZMnS86cOaVt27bSpUsXyZUrl1s5npAACTifwPnz52Xq1Kny5ptval+z0Jju06ePlChRwvmD4whIgARIgARIgARIgARIwCYEKJS0yUSwGyRAAs4ggGA4EyZM0BqTMOls3ry59OrVS2tQOWME7CUJkIAvAidOnJCxY8fqP2hJtmzZUrp37y5FihTxdQvzSYAESIAESIAESIAESIAEQiRAoWSI4HgbCZBAchM4e/asTJs2TYYPHy7nzp3T5t3dunWTW2+9NbnBcPQk4EACR44ckXfeeUdSU1Mlc+bM0qFDB+nYsaPkzZvXgaNhl0mABEiABEiABEiABEjAGQQolHTGPLGXJEACNiVw4cIFmTJlirz11lsCwQbMPHv37i0lS5a0aY/ZLRIgAZPAL7/8ogWRkyZN0q4YXn75ZbplMOHwlQRIgARIgARIgARIgASiTIBCySgDZvUkQALJQQCmnrNnz5Zhw4bJTz/9JLVr15b+/fsLovUykQAJ2IvAtm3bZNSoUTJr1iyt3dypUydp06aNZMuWzV4dZW9IgARIgARIgARIgARIIIEJMPp2Ak8uh0YCJBA7AlmyZJFmzZrJ9u3bZcGCBVpr8v7775eqVavK8uXLY9cRtkQCJOCTwOrVq6VOnTpyzz33yJYtW3QwG/yIAKEkBZI+sfECCZAACZAACZAACZAACUSFAIWSUcHKSkmABJKVQMaMGbXQ47///a+sWrVK8uTJIzVr1tTCyU8//VQMw0hWNBw3CcSNgCmMrFatmpw6dUoWLlwomzdv1j8kwIckEwmQAAmQAAmQAAmQAAmQQOwJUCgZe+ZskQRIIEkIQEsSgkhTOFmvXj2599575f3335crV64kCQUOkwTiQ+Dq1av6/QeNZVMYuWzZMjEFlBkyZIhPx9gqCZAACZAACZAACZAACZCAJkChJBcCCZAACUSZgCmchGYWzEb/+c9/SvHixeVf//qX/PHHH1FundWTQHIRgH9XCP7vvvtuqV+/vtxyyy0CzWUIIx977LHkgsHRkgAJkAAJkAAJkAAJkICNCTDQjY0nh10jARJITAKM+JuY88pRxZfAhQsXZMqUKfLWW29pn65NmjSR3r17S8mSJePbMbZOAiRAAiRAAiRAAiRAAiTglQCFkl6xMJMESIAEok/gyJEj8s4770hqaqrAr12HDh2kY8eOkjdv3ug3zhZIIEEInD17VqZNmybDhw+Xc+fOaU3kbt266ajaCTJEDoMESIAESIAESIAESIAEEpIAhZIJOa0cFAmQgJMInDhxQsaOHav/YHrasmVL6d69uxQpUsRJw2BfSSCmBI4ePSoTJkzQbhDgP7J58+bSq1cvKVCgQEz7wcZIgARIgARIgARIgARIgARCI0ChZGjceBcJkAAJRJzA+fPnZerUqfLmm28KBC4wP+3bt6/2PxnxxlghCTiUwN69e2XMmDEyefJkyZkzp7Rt21Y6d+4suXPnduiI2G0SIAESIAESIAESIAESSE4CFEom57xz1CRAAjYmAG3J2bNny9ChQ+Xnn3+W2rVry8CBA6VixYo27jW7RgLRJfD999/LyJEjZdasWVqLGILI1q1by/XXXx/dhlk7CZAACZAACZAACZAACZBAVAgw+nZUsLJSEiABEgidQJYsWaRZs2ayY8cOWbBggRw6dEjuu+8+qVmzpnzzzTehV8w7ScCBBDZu3CiNGzeWcuXKyaZNm7Q2MYT1nTp1okDSgfPJLpMACZAACZAACZAACZCASYBCSZMEX0mABEjAZgQyZswoderUkQ0bNsiyZcvk4sWLUqVKFalatap8+umnYhiGzXrM7pBA5AisXr1ar39oCO/evVvmzJkjW7du1QJ7BIZiIgESIAESIAESIAESIAEScDYBCiWdPX/sPQmQQJIQeOyxx2TNmjWyatUqyZMnj9SrV0/Kly8v77//vvz1119JQoHDTHQCCFgDgfsDDzwg1apVk1OnTsknn3wi3333nTRq1EgyZMiQ6Ag4PhIgARIgARIgARIgARJIGgIUSibNVHOgJEACiUDA1JKEGSvMWRGpu0SJEjoC8R9//JEIQ+QYkpDAn3/+qQXsZcqUkfr168vNN98s69evF1NbMgmRcMgkQAIkQAIkQAIkQAIkkPAEKJRM+CnmAEmABBKRwD333KOFOD/99JM8+eST0rNnTylatKiMGDFCm3kHMuZvv/1WLly4EEhRliGBgAlgTWFtBZIuXbokkyZNkrvuuktatWqlfacioA20Je+///5AqmAZEiABEiABEiABEiABEiABhxJg9G2HThy7TQIkQAJWAocPH5bU1FQZO3as3HDDDdK+fXsdCASm3t4S/FFCsHnjjTfKkiVLJHv27N6KMY8EgiIAgeQ//vEPOXv2rGzZssWnufW5c+fk3Xff1UL0kydPyosvvih9+vSRlJSUoNpjYRIgARIgARIgARIgARIgAecSoFDSuXPHnpMACZBAGgLHjx+XcePGaeHk5cuXtXl3jx49pFChQm5lv/jiC3niiSckU6ZMUqlSJR1IJ0eOHG5leEICwRA4f/681KpVS2tJXrlyRRYvXiyPP/64WxXHjh2T8ePHa3cD8IXaokULreVbsGBBt3I8IQESIAESIAESIAESIAESSHwCFEom/hxzhCRAAklIAAKiqVOnyqhRowSCoCZNmki/fv2kWLFimsZDDz3kEh5dd911OmgOInxDc5KJBIIlAA1JCCDhBxL+ISHshvn1N998o6vat2+fjB49WqZMmaK1ctu1ayedO3eW3LlzB9sUy5MACZAACZAACZAACZAACSQIAQolE2QiOQwSIAES8EYA2pKzZ8+WIUOGyO7du6VBgwY6kMhzzz3nVhyCydKlS8tXX32lo3u7XeQJCfghcObMGalZs6Zs3rxZCyStRWfNmqXX1LRp07S2bpcuXaR169ZyzJqx9wAAQABJREFU/fXXW4vxmARIgARIgARIgARIgARIIAkJUCiZhJPOIZMACSQfgatXr8r8+fPl9ddfl1OnTsnRo0cFJrbWlDlzZpdgMm/evNZLPCYBrwQgkKxRo4b2H+ltPSGKNnycdu/eXZtqQ/jNRAIkQAIkQAIkQAIkQAIkQAIgQKEk1wEJkAAJJBEBaLNVqFBBEOjGW4JgslSpUlq7LV++fN6KMI8ENIHTp09rgeTWrVvTCLitiDZs2CAVK1a0ZvGYBEiABEiABEiABEiABEiABCQjGZAACZAACSQPgWHDhok/bTVou+3cuVMefvhhOXHiRPKA4UiDIgCB5KOPPirbtm3zK5DEWoNfUyYSIAESIAESIAESIAESIAES8CRATUlPIjwnARIggQQlsGfPHh3oBqbc6SUIk4oXLy5ff/215M+fP73ivJ5EBGD+D4Hk9u3b0/iQ9IYhY8aMWtBtBlnyVoZ5JEACJEACJEACJEACJEACyUeAmpLJN+ccMQmQQJISgJZkIAJJ4EEE5Z9++kmqV68ux48fT1JiHLYnAayFatWqBSyQxP1YcyNHjvSsiuckQAIkQAIkQAIkQAIkQAJJToBCySRfABw+CZBAchCAYAj+ImvVqqW1JXPmzOk2cGizZc2aVbJlyyYZMmTQ1yCY3LFjh/y///f/5NixY27leZJ8BLAGIKT21JDEuoJmLdaQNeXIkUPuuOMO7XcSZQIViFvr4DEJkAAJkAAJkAAJkAAJkEDiEqD5duLOLUcWAQKmcCYCVbEKEiABEiABEiCBBCHgK1hYggyPwyABEiABEiABEiCBmBDIHJNW2AgJOJhA586dpXLlyg4eAbtOAqETgHbbmTNndNCbLFmySEpKSuiVJeCdY8aM0aPq0qVLAo7u2pB+/fVXuXz5siAie65cudJoRV4rmf7R2rVrJTU1VebMmZN+YZYgAZsRMNevzbrF7pAACZAACZAACZCAIwlQKOnIaWOnY0kAAsnGjRvHskm2RQIk4BAC8+bN0z3lZ0RwEwahJJkFx4yl7UMA65eJBEiABEiABEiABEggfALuDqDCr481kAAJkAAJkAAJkAAJkAAJkAAJkAAJkAAJkAAJkIBfAhRK+sXDiyRAAiRAAiRAAiRAAiRAAiRAAiRAAiRAAiRAApEmQKFkpImyPhIgARIgARIgARIgARIgARIgARIgARIgARIgAb8EKJT0i4cXSYAESIAESIAESIAESIAESIAESIAESIAESIAEIk2AQslIE2V9JEACJEACJEACJEACJEACJEACJEACJEACJEACfglQKOkXDy+SAAmQAAmQQPQJLFq0SHLlyiWffvpp9BtzeAvLly+XXr16yfz58+WOO+6QDBky6L8XXnghzchq1aolOXPmlEyZMsndd98tGzduTFPGThmDBg2S0qVLy4033ihZs2aVu+66S1577TU5f/68WzcDLed2kzr5448/pGTJktK3b1/PSwGdB9puoOU8Gw23fyNGjNDju/766yV79uz6uF+/fnL27FlXU5988omg3F9//eXK4wEJkAAJkAAJkAAJkEB8CFAoGR/ubJUESIAESIAEXAQMw3Ad88A3gQEDBsjbb78tvXv3lgYNGsiePXvkzjvvlHz58smMGTPk888/d7t56dKlMm/ePKlTp45s375dKlSo4HbdbicrVqyQDh06yN69e+X48eMydOhQSU1NlUaNGrl1NdBybjepkz59+siPP/7omR3weaDtBlrOs+Fw+7dq1Sp56aWX5Ndff5UjR47I4MGDtQCyYcOGrqbq1q0r2bJlkxo1asjp06dd+TwgARIgARIgARIgARKIPQEKJWPPnC2SAAmQAAmQgBuBJ598Us6cOaOFZ24X4nDy+++/y0MPPRSHlv03OXz4cJk9e7bMnTtXaz9aS0NQmTFjRmnTpo3maL3mpOMcOXLoMeTNm1ePsXHjxvLUU0/JF198Ifv373cNJdByrhvUwTfffCPff/+9NSvo40DbDbSctQOR6F+WLFmkffv2ctNNNwn6AGFu/fr1ZdmyZXLo0CFXc506dZJ77rlHateuLVeuXHHl84AESIAESIAESIAESCC2BCiUjC1vtkYCJEACJEACtiYwdepUOXr0qK36uGvXLoEZ7uuvv6613Dw7ByFq586d5bfffpNu3bp5XnbM+WeffaZNza0dzp8/vz69ePGiKzvQcuYNEDR3795da12aeaG8BtpuoOXMPkSqfx999FGa9VG4cGHdjKcJ/MCBA2Xz5s1hMzHHwFcSIAESIAESIAESIIHgCVAoGTwz3kECJEACJEACESOwevVqSUlJ0X4Rx40bp+udMGGC9ol3ww03yMKFC+WJJ57QfgaLFCkis2bNcrUNDUGYot58883y8ssvS8GCBfU5hHTr1693levYsaNAi6xAgQKuPGiUwe8efDLCVBgJgr2uXbvK7t27dT58GiJBUw9+Dt944w19Hut/GCdM3GF66ysNGTJEihcvLlOmTBH4nfSXUNfo0aOlVKlS2ndjnjx5tEbdzp07XbcFOge4Af4J+/fvr+cR/gzLlSsnc+bMcdUVzgEEraizaNGifqvxVw5m0aYGod9KQrjor11rdf7KRbN/P//8s+TOnVtuu+02a3cEc169enUtlKT7BDc0PCEBEiABEiABEiCBmBGgUDJmqNkQCZAACZAACaQlULVqVW1aa73Srl076dKli0CDDIFaIOCCoBCBXeAz788//9TFIWxs3ry5QIsOJqnwRYhgLjBJrVmzpsvkF0I9mAJb0/jx47XmoTUP/gvhfxF+GiGogYYikhkU5OrVq9biMTuGr8gSJUoIhLS+EgR3//73v7UZNxhduHDBV1GBlhyC5UAYBq3QlStXalbVqlXTvghxY6BzgLI9e/aUkSNHypgxY7SZMBg+++yzsmHDBlwOOWFe4Z8R44FQ2VfyV27NmjV67aA/kU7+2rW25a9cNPqH9weEoBDyQ0A9duxYr/zKly+vy23ZssXaXR6TAAmQAAmQAAmQAAnEiACFkjECzWZIgARIgARIIBQC0HqEliL85DVt2lQL2xDIw5oyZ87s0vpD9GZo+Z07d06mTZtmLRbyMXxeIoIxTKhjnSBc/OWXX7SgNL22K1eurIW5EM5CUOgtQdALLcmnn35ann/+eR31vGzZsjJx4kStMTpp0qQ0t/mbA0SMBm/4fkTwHWjlIbr1ddddFzZ/BLqB9iu0QP0lX+UwVmi/on/RSL7a9WzLV7lo9e/WW28VaBVD+AxhcZMmTTy7pM+LFSumX7dt2+b1OjNJgARIgARIgARIgASiS4BCyejyZe0kQAIkQAIkEDECpracqSnpq+L77rtPaxVazZF9lbV7PjQZobXpT0vSOgYI8KBVCU1QmMZ7JkThhn9BMLKmSpUqaW06q9m79bp57DkHiGYNTcAyZcqYRbS5NUzlw+EP/4gI6rNkyZI0gX1cDakDf+UQpbx169Zi+lW03hfusb92rXX7Kxet/iEoENbNBx98IO+9955AI9Kbn1RzTSFSNxMJkAAJkAAJkAAJkEDsCVAoGXvmbJEESIAESIAEok4ga9ascuzYsai3E+0GoImIhPEEkuBjExqi8JXZsmVLbQJvve/06dP6FNGZPRO0HKFhGkwyzcShHYk2zb99+/ZpYWUwdZllEWUc0ca//vpruf32283sNK/+ykEgCw3AVq1apbkv3Ax/7Vrr9lcumv2Dlio0i2vVqqUjtkMQDW1NzwSTfyRzjXle5zkJkAAJkAAJkAAJkEB0CVAoGV2+rJ0ESIAESIAEYk4AmpQQvsGE1enJFByZfi0DGQ/MuF999VVBkJPBgwe73QLBI5I34WMozCD8QoI/SWh0Wv/Wrl2rrwXzD/4PZ8yYoX1JFipUyOet6ZVDFPUvv/xS+9g0BaVmXxGwCHmh+LxMr12zw+mVi1b/zPbNVwRrypQpk0Aw6ZkuX76ss8w15nmd5yRAAiRAAiRAAiRAAtElQKFkdPmydhIgARIgARKIOQFo2EE49uCDD7raht/J9My+XYVtdIDI4hCgnTlzJqheQRhZsmRJ2bRpk9t9MLOGlqSnQA5m2xBSVaxY0a18eifwXwjtzM2bN6dX1O91zFePHj20duOCBQt0H73dEGg5aItaBaQ4NjVnEeAH554m7N7aM/MCbTfQcpHu34kTJ3RwIbO/5isE0xBoY548k7mmbrnlFs9LPCcBEiABEiABEiABEogBAQolYwCZTZAACZAACZBANAkgKvapU6d01O2tW7fq4CYpKSk6MrfZLjTGTp48KRB4QTgJARVMjD1T3rx55eDBg4JgMdAmRNnFixfrYDvQsIt1gt8/RB0/cOBAUE2bZtzQkrMm5Hft2lX7YoRGIgL4wMy5bdu2OqhMmzZtrMXTPUZ9LVq0kFmzZumAMqgPQjD099ChQ/p+BCiC4AuR0X2lHTt26KAskydP1kFyTO1G8/XNN9/UtwZazlc73vIToX/Zs2eXpUuXag1TzAHWLQTSL774ouAaNGc9k7mmEOiIiQRIgARIgARIgARIIPYEKJSMPXO2SAIkQAIkQAIuAuPGjRMEWUGCply9evW0cAvmwEjlypWTPXv2CIRVEKYhPf7449o0WZ+of/CJB8EKzFCrVasmxYsXl6+++srND2O7du3kkUcekWeeeUYHgoEmoWm2CnNnBAdBgnAO2omI4l27dm0tyNQX4vgP0b9hfotozWb6+OOPBYLW3bt3a36vvPKKecn1Ck1Rb8KoAQMGaB+DgwYNkvz580v16tW170ZomEKAhYSI1YHOQWpqqo76PWLECMmXL58WbiLqNQTFSNDARKCVhQsX6nNv/6BhGEgKtFwgdZllEqF/EA5XqVJF+9BEYJ+cOXNKo0aN9LyuW7fOLRCROe5vv/1WBwHCe4yJBEiABEiABEiABEgg9gQyqC+3gX0Ljn3f2CIJxJ0ANFTmzJkjjRs3jntf2AESIAH7EYDQA2nevHlx69zLL7+s24f5qhMSIko3adJEmw8H2t9du3ZJqVKldACb559/PtDbbFMOmqwPP/yw1lxF8B27pWTsH94v8LmKaO2msD+QeQll/QZSL8uQAAmQAAmQAAmQQDISoKZkMs46x0wCJEACJJBQBIIJAuPEgUMjElqN+Dt//ryjhoC5gck8TOFhJm23lKz9GzhwoNx7773SsWNHu00J+0MCJEACJEACJEACSUOAQsmkmWoONBYEFi1aJLly5ZJPP/00Fs2xDQ8CrVq10iZ70HANN+iER9U+T2EWCA2ujBkz6mAc8BsHzRum2BKIx9zHdoRsrVevXtocF4I9M0CJE6jAJHz+/PnaLyf8Y9otJWP/Ro8erfcI7NnXXXed3aaE/SEBEiABEiABEiCBpCFAoWTSTDUHGgsC9IYQC8q+25gyZYr2u+e7ROSvwGfdDz/8ILVq1dKV//jjj9K3b9/IN8Qa/RKIx9z77VCMLvbu3VubNENIV7RoUfnwww9j1HJ8mkGgHWi2DRs2LD4dCKHVGjVqyMyZM6VAgQIh3B39W5Ktf/DreenSJYEwNk+ePNEHzBZIgARIgARIgARIgAR8Esjs8wovkAAJBE0AwRicpMET9AB5AwmQgK0IDB06VAdssVWnotwZ/ABg/ggQ5aZYfQISQCAp/DGRAAmQAAmQAAmQAAnEnwA1JeM/B+wBCUSUALQ1EXRj0qRJEa3XKZXBdDtZE+c+eec+Wdc8x00CJEACJEACJEACJEACJOBcAhRKOnfu2HObEVi9erWkpKRov4Ljxo3TvUtNTZXs2bNrf4MVK1YU+BuE/yrkVahQQapVqya33nqrZMuWTXLnzi2vvfaa26hWrVolpUuX1n4qUaZs2bKyZMkSVxkEKICmVIkSJeT666+X/PnzaxNO5FkjhqNc//79df9Qrly5cjqquKuiAA/81TNhwgQ9LvhMg3ncE088ITfeeKOObjpr1qw0LUyfPl3uu+8+PXbwuP3222Xw4MG6HIRr8PkFX41Zs2bVJnb169eXnTt3utWDcqNGjdLjRzn48+zevbtbGZz46/fIkSMFfc6ZM6ccPXpUR2EtXLiwwAz7iy++0GOAyWiwiXPv7LkPdr5ZngRIgARIgARIgARIgARIgARIIEgC6qGeiQRIwAcB9XYy5syZ4+Nq2uz9+/cbuGfs2LGuiwMGDNB569evNy5cuGAcP37cePzxx3Xe559/bhw7dkznKz9pOk8FaHHdqzQeDRUh1Dh58qRx4sQJQ/kvNPLly+e6roRlRqZMmQwlBDQuXrxofPfdd4YSfBoPP/ywqwwOunXrZiihnaH8zRmnTp0ylB86QwVmMb799lu3cumdpFdPnz599Bi+/PJLQ5mxG0rIZyjBq6GEjsbly5dd1Y8ZM0aXU37h9Lgwvv/93/81nnvuOV1GCVCNLFmyGEpwaZw+fdrYunWroYS4hhK6GocPH3bVg/aUZqTx1ltv6XGBwfjx43XdmzZtcpULtN+dOnXSc/f0008byk+k8dlnnxlKWGmoiL+uunwd/OMf/9Dtgq+ZOPfOnXtzDtN7bdiwoYE/psAJ4DMVn5NMJOBEAly/Tpw19pkESIAESIAESMCuBPhUYNeZYb9sQSCSQslz5865xvTee+/ph/Jt27a58v773//qvNmzZ7vyPA+UBqQuA2EfUqVKlYz777/frVjr1q21wFE58tf5v//+u6E0AQ0VsdZVDsI7CCnbtWvnykvvIJB6TKEkyprJFBLu2rVLZ0E4qbRCjUceecQsol+vXLliKO1CLVzNkSOHW39RwORjCggxBoyrZs2abvUorUzNyBRKhtpvt0oDOPEnlOTcJ+7cUygZwJvDowiFOh5AeOooAly/jpoudpYESIAESIAESMDmBBjoRkmdmEgg1gSUFqBuUgniXE3DrBvpzz//dOV5HphlYI6M9Mcff2jzZ2s5XEM5pUGps2GGrAR4UqZMGVcxmHAjEqynObSrgJeDUOsxx2qOS2k9itJ+FCXEc2sF/VWairJhwwY5f/68Nu22FlACWEFdSuNUZyshpx4XIsf6S6H221+d4VwzeXDur1F0+twfOHBA5s6de21APPJLYO3atfo6mfnFxIs2JWCuX5t2j90iARIgARIgARIgAUcRoFDSUdPFziYbAWXerX0mbt++Xc6ePZtGYFm7dm19HT4cEY0W5RYsWCD/8z//4xJKKpNxja1v376CP2sqWLCg9dTvcaTqwTiQ4EPTW4LAEklpS6a5jHuU1qHOhyAI6aabbtKvvv5Fqt++6o9WPufenayd537dunXSpEkT9w7zLF0CZJYuIhYgARIgARIgARIgARIggYQmwEA3CT29HJyTCfz666/y1FNPaY1GaAcqH40yYsQItyEpf5Py6KOPSvPmzXVAFuULUQe4mTx5squcKbRTfhzhrsHtLxiNj0jVU6hQId035VvT1UfrgSmsNIWP1msQWBYpUkRnIfAPkjJT16++/kWq377qj0Y+5/5vwbOVrZ3nXplwu72vPN9nPHf/3FHmr3pqycWdC3k4g4e5fq2fTzwmARIgARIgARIgARIIjQCFkqFx410kEHUCyt+k1oxUfh/ljjvu0GbaKqiLW7vQjNy9e7eoYDm6LIRZiIKdJ08eVzkzurcKoOPKC+UgUvUgynbevHll6dKlXrsBM3NoScKM25ogmFX+KAVRzJFQTgXrkf/85z/WYmmOI9XvNBVHMYNzn7xzH8VlxapJgARIgARIgARIgARIgARIwFYEKJS01XSwMyRwjUBKSoo+Wb58ufYd+fPPP7v8KZqlOnToICgHH4y+EjQKW7RoISoAjBZYwnwafidh/nzo0CFft6XJj1Q9KsCOqOjfsnLlSlERx+W3336Tq1evarPsHTt2aOFr165d5aOPPpIZM2Zos3UI6dq2bSswN2/Tpo3uGzQgGzRoICqiuEydOlWXg7/KSZMmufU9nH4vXrxYa6CqKOdudUb7hHMf/7mP9hyzfhIgARIgARIgARIgARIgARJIegLKXIiJBEjABwH1AWEg0mYgaezYsYYKHqMjPyMqdN26dXU0aRyjHqUhaKxatcoYPny4kStXLp13yy23GDNnzjQQcRvHKKe0HA1EkEbq0aOHobQKdbTqRo0aGePGjdNl7rzzTkNpRRorVqww8uXLp/NwL/5UkBujVKlSxvz5813dRiRu1KWEXUbmzJkNJdAzlEDPUJqWrjKBHPirB1G2zbEWK1bMUBqchhIQGjfeeKPu12233Wb89NNPrmYwlrJlyxpKaKj/ypcvb6AOJCWkNEaNGmWgHowHTJQpu6GC1rjuxwGiWrdq1UozQMTuqlWrGv3799ftKTNvY8uWLbq8v34rk3hDBf7R9yitSmP69OmuNhYtWmTkzJnTGDJkiCvP80D5EzTuvvtuHfEc/LEGlBCTc+/wufecZ1/njL7ti4zvfEYv9s2GV+xPgOvX/nPEHpIACZAACZAACTiHQAZ0VT1IM5EACXghAHNp+I9q3Lixl6vxz4KpNjQo4S/STDBx7tmzp9aKPHXqlCDSNlPiEeDc22NO1Y8FuiPz5s2zR4cc0AtE3UaQG379cMBksYtpCHD9pkHCDBIgARIgARIgARIImQCjb4eMjjeSQHwJHD58WJs/e/qKzJIlizbp/vPPP7WfSQol4ztP0Widcx8NqqyTBEiABEiABEiABEiABEiABEgglgToUzKWtNkWCUSQAISNyrRZ+1M8cuSIFkAePHhQpkyZIsqEWZo2bar9IfprcufOnQJt0PT+UBeTfQhw7u0zF+wJCZAACZAACZAACZAACZAACZBAaAQolAyNG+8igbgTUH4pdQTr77//XooXL67NtEuXLi3Tpk0T5bdS3nvvvXT7WLJkSW1CCTNKf3/K52W6dbFA7Ahw7mPHmi0lFgEEDuvVq5con7tyxx13uH6QeeGFF9IMtFatWqJ8ykqmTJlE+Y2VjRs3piljpwxox+MHKYwLGvOFCxeWbt26ye+//x5WNxGIDC5CHnroIZ/1rF69WqpUqSLKr7AOSKZ8GIvy5etWftCgQYI9SvkZFgQ8u+uuu+S1117zG6gNFfzxxx+Cvapv376u+j755BNR/oB10DZXJg9IgARIgARIgARIgAQcR4Dm246bMnaYBK4RqFatmixbtuxaBo+ShgDnPmmmmgONEIEBAwbIpk2bRAUX08JGFexLC8ZOnz4tM2bM0NrlTz75pKu1pUuXyhdffCETJ06UBQsWuPLtetC5c2d599139Q9TGMd3330n9erVk0OHDukxh9Jv+Cxu0aKFrFmzRu655x6vVaiAaQIBLgSgYLZ161ZRgd7k2LFjuj/mTSowm3To0EFzhpb/4sWL5fnnn5dt27bpY7Oc52ufPn1EBTlzy0b9v/zyi9SoUUPPTe7cud2u84QESIAESIAESIAESMAZBKgp6Yx5Yi9JgARIgARIwCsBaML502LzelOQmbFoI8guBVUc2uPQ+EaQEmg/WtPbb78tGTNmlDZt2siZM2eslxxzvGfPHi08bdasmRb6YYwPP/yw9jv8wQcfyA8//BD0WLZs2aKDprVt21buvfden/cPHjxYChQoIK+//rpkz55dKleuLNCU/Pe//y1wEWKmHDlyaMZ58+bVc4AAck899ZQW/O7fv98s5vb6zTffCKwBvKVOnTppQWnt2rXlypUr3oowjwRIgARIgARIgARIwOYEKJS0+QSxeyRAAiRAAiTgj8DUqVPl6NGj/oqEfS0WbYTdSR8V7Nq1S/r166eFZtmyZUtTCgJdaBn+9ttvWtsvTQEHZHz77bcCM+sHHnjArbePP/64Pl+yZIlbfiAn0IyEmftzzz2nza293QNh4Oeffy7Vq1fXpvBmmSeeeEK7BFm4cKGZJZ999pk2hXdlqIP8+fPr04sXL1qz9TEE4d27d5fU1NQ018yMgQMHCoK9+StjluUrCZAACZAACZAACZCA/QhQKGm/OWGPSIAESIAEEpgA/LeOHj1aSpUqpYU9efLkkfr167tplXXs2FH7BYQGmpnat2+vNdEQmOr48eM6G8K0rl27yu7du7VQCH76oPkH4dvNN98sL7/8svbxh3MI39avX29Wp7Xo4HswlDZQCUyb4R/wjTfecNVpxwPwAHOY/PpKQ4YM0b55ESgMfif9pUDmb8KECXqu4GMRgjkI6cCqSJEiMmvWLLfq//rrL+0LMiUlRfsGLleunMyZM8etTHon0PREQhAsaypWrJg+DUVT0lqPr2NoaJ4/f17Qd2u688479SlMuf0lCILR56JFi6YpBrNtrPmbbropzTUzA+8dCEQhlMS8MJEACZAACZAACZAACTiLAIWSzpov9pYESIAESMDhBKDdhWArELpAw3HlypUC81X4CT1y5IgeHQRpMG+1pvHjx2ttP2sehDF16tQRCIEglIFWIASazZs3F2ifwcR17969OkgLtNpq1qyp20Id4bSB+yFMQ4KGnp0TNPlKlCihg7D46icEYzA3hnDvpZdekgsXLvgqKoHMX7t27aRLly46yAxMqSFkhOAYQWhQP4LSmKlnz54ycuRIHUwG/h8xn88++6xs2LDBLJLuKwLBIHkKH/Ply6fz4d8xGunw4cO6Wk+TeAjBwdRcz97axvqEn0nwgHDcmuDDErzAIb1Uvnx5reUKc3MmEiABEiABEiABEiABZxGgUNJZ88XekgAJkAAJOJgATFKhJfn000/rIB+IpF62bFntDxDaj5MmTYrY6DJnzuzSxkTUY2jvnTt3TgdCiUQjCKZy9uxZbRodifqiUQeEiwiIYmru+WsDvhAhSIQQF4JCbymU+YOGKrQkofHXtGlTLfD89ddfdfWILI15gW9FBN5BwBZEmUYgmGnTpnnrgtc8rCGYakNwDUEf6oXA8KOPPtIatFYhqNcKQsw0I2wjQrlnwhjAy1caOnSo1uKFlqo14R5oAINLIMnUBkXAHCYSIAESIAESIAESIAFnEaBQ0lnzxd6SAAmQAAk4mAAiFcPc9b777nMbRaVKlbS2mNW82q1ABE7QJsyJrcFHIlCtrauAJio0SDHuQBIEZNCqhHBv9erVaW4Jd/5MjUBTSIio0tAYLFOmjKstaBjCpD7YeUIgn0aNGgmC3SCYTJUqVeTjjz/W4zc1Jl2NROjA9NHpLdDM5cuX05iTm81CWIqgQ/B16all2bt3b2ndurUULlzYLO731Zxbf1qZfivgRRIgARIgARIgARIggbgRoFAybujZMAmQAAmQQLIROH36tB4yIhF7JmjJQZMxmilr1qwSLVPeaPY71LqhMYiEcQeSIGSDhiL8drZs2TKNpl+k5880E4d2JNo0//bt26eFlYH02SwDrduJEyfKgQMH9L0wf37rrbf05UKFCpnFIvpq+iOFxqw1QdAK9gULFrRm62MITxEN/euvv5bbb7/d7ToEwdB4bNWqlVu+vxMIcZHMufZXltdIgARIgARIgARIgATsRYBCSXvNB3tDAiRAAiSQwAQgeETyJnyEwAuBUKKVoJ0X7Tai1fdQ6zUFVqb/y0DqgRn3q6++Kj///LMMHjzY7ZZIz58ZxGXMmDFaoxFanebf2rVr3doO5QRRuZEeeeSRUG5P9x4EqIGmI4So1gTfpkgI2mNNY8eOlRkzZmgTc2+CUkR5//LLL7VvT1NAazJCQCXkefrahEYmkjnX1vZ4TAIkQAIkQAIkQAIkYG8CFErae37YOxIgARIggQQiADNdaEl6ClZgtg3hSsWKFV2jhU9I08zXlRnGATTTIPB68MEHXbVEug1XxTY5QARyCLLOnDkTVI8gjETwmE2bNrndF8z8ud3o4+TWW2/VkdI3b97so0R42ZMnT9aRrRGhOhoJ66d27do6WJM14NHixYs1dzPiOdZdjx49tBbkggUL9HvAW3+gpWoKZc1XU7MXgaGQ5+n6wJzbW265xVuVzCMBEiABEiABEiABErAxAQolbTw57BoJkAAJkEBiEYB5cNeuXXUAEmiMwewV5qpt27bVpq5t2rRxDfiuu+6SkydPCoQ4EE5COOOpkYbC8B948OBBHaAFGpimIBNColOnTgn8/W3dulUHD0lJSdGRuc1GwmkDgicEcIEGm10T/A0i4jVMmoNJphm3ZwCXYOYvkPZQX4sWLWTWrFk6sAvWA7Q60V9E4kZCcBwI3DZu3Oi3yvvvv1+vD8z33r17pVu3brJ8+XKB9qHpyzKY+vw2ZrnYr18/HWV7wIABOogPNDxHjRql1xn8cyLt2LFDRxiHkBQBcEwtSPP1zTfftNQY3KE5twj2w0QCJEACJEACJEACJOAsAhRKOmu+2FsSIAESIAGHE4DwBpGHBw0aJPnz5xdoscG3HjQZs2fP7hpdu3bttNntM888o4OvQHvPNFGFifH+/ft1WQg0oRGICNvQWoMgEwk+9iCowT3VqlWT4sWLy1dffeXmXzHcNnRDNv+HKOEIUGONBI0AMBDIwu8iggy98soraUYBjVKYcXumQOYPkaNhko0EE+Y9e/YIBHIQSCMhUjbMw5FSU1N11O8RI0YIAtLADyOiT0OgjAQNWgTsWbhwoT739Q+m5ffee6+e7woVKuhAOatWrUpjuh1ofevWrZOqVasKzKyhybtlyxbdNwTQWblypasbd999tw5Ys3TpUt1/RBGHP8533nnHVQYajtFKMFFHUBxPU/Fotcd6SYAESIAESIAESIAEIkcgg/qiGL1vipHrJ2sigbgQgBbHnDlzpHHjxnFpn42SAAnYmwCiHSPNmzfPVh19+eWXdZ9OnDhhq36hM4i63KRJE22KG4vOwb9hqVKldACb559/PhZNRrQNaLw+/PDDWvMQwr5wU6TrC7c/4dyP9Q0/rIiabgp8w6kvkHtjvX4D6RPLkAAJkAAJkAAJkIBTCVBT0qkzx36TAAmQAAmQgB8CwQR38VON4y9BIxJaqfg7f/68o8aDOYT5PszyYcYdbop0feH2J9z7Bw4cqLVDO3bsGG5VvJ8ESIAESIAESIAESCAOBCiUjAN0NkkCJEACJEACJBA7Ar169RJotUKwZwZGiV3robcEk/758+cL/HfCP2a4KdL1hdufcO4fPXq0IEDQokWLtJ/KcOrivSRAAiRAAiRAAiRAAvEhQKFkfLizVRIgARIgARKICoHevXtrU2UI34oWLSoffvhhVNpxWqUIyAONumHDhjmm6zVq1JCZM2dKgQIFItLnSNcXkU6FUAn8a166dEn7Yc2TJ08INfAWEiABEiABEiABEiABOxDIbIdOsA8kQAIkQAIkQAKRIYAgOvhjSkugVq1agj8mZxOoV6+e4I+JBEiABEiABEiABEjA2QSoKens+WPvSYAESIAESIAESIAESIAESIAESIAESIAESMBxBCiUdNyUscMkQAIkQAIkQAIkQAIkQAIkQAIkQAIkQAIk4GwCFEo6e/7YexIgARIgARIgARIgARIgARIgARIgARIgARJwHAEKJR03ZewwCZAACZAACZAACZAACZAACZAACZAACZAACTibQAZDJWcPgb0ngegRyJAhgzz44INSpEiR6DXCmkmABBxLYN26dbrv+JxgCozAgQMHBNwaNmwY2A0sRQI2ImCuX359ttGksCskQAIkQAIkQAKOJUChpGOnjh2PBYFGjRrFohm2QQIkYHMCmzZt0j0sX768zXvK7pEACcSCwLx582LRDNsgARIgARIgARIggYQmQKFkQk8vB0cCJEACJBAJAo0bN9bVzJ07NxLVsQ4SIAESIAESIAESIAESIAESSHoC9CmZ9EuAAEiABEiABEiABEiABEiABEiABEiABEiABEggtgQolIwtb7ZGAiRAAiRAAiRAAiRAAiRAAiRAAiRAAiRAAklPgELJpF8CBEACJEACJEACJEACJEACJEACJEACJEACJEACsSVAoWRsebM1EiABEiABEiABEiABEiABEiABEiABEiABEkh6AhRKJv0SIAASIAESIAESIAESIAESIAESIAESIAESIAESiC0BCiVjy5utkQAJkAAJkAAJkAAJkAAJkAAJkAAJkAAJkEDSE6BQMumXAAGQAAmQAAmQAAmQAAmQAAmQAAmQAAmQAAmQQGwJUCgZW95sjQRIgARIgARIgARIgARIgARIgARIgARIgASSngCFkkm/BAiABEiABEiABEiABEiABEiABP4/e/cCLvW493/821mipKKDolSEDlKORT1tIU+Ou4MKZbM7IJ1IiRIhh+pCPZQ216OkEiKhK4cn9sbDQ+WwpaN0oqKTpNL853Pv/2/2zKyZtWbWmpk1s37v+7pWM/M73r/XPaud7/7e9xcBBBBAAAEEMitAUDKz3twNAQQQQAABBBBAAAEEEEAAAQQQQAAB3wsQlPT9VwAABBBAAAEEEEAAAQQQQAABBBBAAAEEMitAUDKz3twNAQQQQAABBBBAAAEEEEAAAQQQQAAB3wsQlPT9VwAABBBAAAEEEEAAAQQQQAABBBBAAAEEMitAUDKz3twNAQQQQAABBBBAAAEEEEAAAQQQQAAB3wsQlPT9VwAABBBAAAEEEEAAAQQQQAABBBBAAAEEMitAUDKz3twNAQQQQAABBBBAAAEEEEAAAQQQQAAB3wsQlPT9VwAABBBAAAEEEEAAAQQQQAABBBBAAAEEMitAUDKz3twNAQQQQAABBBBAAAEEEEAAAQQQQAAB3wsQlPT9VwAABBBAAAEEEEAAAQQQQAABBBBAAAEEMitAUDKz3twNAQQQQAABBBBAAAEEEEAAAQQQQAAB3wsQlPT9VwAABBBAAAEEEEAAAQQQQAABBBBAAAEEMitAUDKz3twNAQQQQAABBBBAAAEEEEAAAQQQQAAB3wsQlPT9VwAABBBAAAEEEEAAAQQQQAABBBBAAAEEMitAUDKz3twNAQQQQAABBBBAAAEEEEAAAQQQQAAB3wsQlPT9VwAABBBAAAEEEEAAAQQQQAABBBBAAAEEMitAUDKz3twNAQQQQAABBBBAAAEEEEAAAQQQQAAB3wsQlPT9VwAABBBAAAEEEEAAAQQQQAABBBBAAAEEMitAUDKz3twNAQQQQAABBBBAAAEEEEAAAQQQQAAB3wsQlPT9VwAABBBAAAEEEEAAAQQQQAABBBBAAAEEMitAUDKz3twNAQQQQAABBBBAAAEEEEAAAQQQQAAB3wsQlPT9VwAABBBAAAEEEEAAAQQQQAABBBBAAAEEMitAUDKz3twNAQQQQAABBBBAAAEEEEAAAQQQQAAB3wuU9b0AAAgggAACCIQJ7N27137//fewLWb79+93n3/55ZeI7RUqVLDDDz88YhsfEEAAAQQQQAABBBBAAAEEChYoFQi2gg/jCAQQQAABBPwhMGXKFLv55psTetjJkyfbgAEDEjqWgxBAAAEEEEAAAQQQQAABBP4tQFDy3xa8QwABBBBAwLZu3Wq1atWyP/74I1+NMmXK2ObNm61GjRr5HsdOBBBAAAEEEEAAAQQQQACBvAKsKZnXhC0IIIAAAj4WUJCxQ4cOpqBjvKZ9f/rTnwhIxgNiOwIIIIAAAggggAACCCBQgABByQKA2I0AAggg4D+BXr16WX6rm2ifjqEhgAACCCCAAAIIIIAAAggUToDp24Vz4ywEEEAAgRIssHv3bpcFGV3wxnvk8uXLu2nelStX9jbxigACCCCAAAIIIIAAAgggkIQAmZJJYHEoAggggIA/BI488kjr3LmzlStXLs8Dly1b1i6//HIjIJmHhg0IIIAAAggggAACCCCAQMICBCUTpuJABBBAAAE/CfTs2dMOHjyY55FVAEf7aAgggAACCCCAAAIIIIAAAoUXYPp24e04EwEEEECgBAvs37/fqlevbprKHd6OOOII27Ztm1WoUCF8M+8RQAABBBBAAAEEEEAAAQSSECBTMgksDkUAAQQQ8I+A1o3s0qWL6dVrms7drVs3ApIeCK8IIIAAAggggAACCCCAQCEFCEoWEo7TEEAAAQRKvkCPHj1MGZNeO3DggGkbDQEEEEAAAQQQQAABBBBAoGgCTN8umh9nI4AAAgiUYIFDhw5ZzZo1XaVtPaamc2/ZssXKlClTgp+aR0MAAQQQQAABBBBAAAEE0i9ApmT6jbkDAggggECOCpQuXdplRmoKt6Zuq8ANAckcHUy6jQACCCCAAAIIIIAAAlklQFAyq4aDziCAAAIIZJvANddc46ZwM3U720aG/iCAAAIIIIAAAggggEAuC5TN5c7TdwQQyC6BOXPmZFeH6A0CKRAIBAJWrVo1d6W1a9faunXrUnBVLoFAdgl07do1uzpEbxBAAAEEEEAAAQRKvABrSpb4IeYBEcicQKlSpTJ3M+6EAAIIIJAyAQXfaQgggAACCCCAAAIIZFKATMlManMvBHwgMHv2bCPjxgcDncJHVIZtt27dLJuDIt9884174lNOOSWFT160S+n/BOD3rWiGnG3m/f5hgQACCCCAAAIIIIBApgUISmZanPshgAACCOScQDYFI3MOjw4jgAACCCCAAAIIIIAAAjEEKHQTA4VNCCCAAAIIIIAAAggggAACCCCAAAIIIJA+AYKS6bPlyggggAACCCCAAAIIIIAAAggggAACCCAQQ4CgZAwUNiGAAAIIIIAAAggggAACCCCAAAIIIIBA+gQISqbPlisjgAACCCCAAAIIIIAAAggggAACCCCAQAwBgpIxUNiEAAIIIIAAAggggAACCCCAAAIIIIAAAukTICiZPluujAACCCCQQYGFCxdalSpV7PXXX8/gXXPzVosXL7YRI0bYvHnzrEGDBlaqVCn3c+211+Z5oI4dO9qRRx5pZcqUsVNPPdU+//zzPMdk04YDBw7YPffc456rfPnyVqdOHRs2bJj99ttvRermoUOHbOLEiXbuuefGvc6HH35o5513nh1++OFWq1YtGz58uP3+++8Rx48dO9ZUzb1y5cpWoUIFa9iwod1xxx22Z8+eiOOiP+zbt89OPvlkGzVqVGjXa6+9ZuPHj7c//vgjtI03CCCAAAIIIIAAAgjkigBByVwZKfqJAAIIIJCvQCAQyHc/O/8lMHr0aHv88cdt5MiRdvXVV9uaNWvsxBNPtGrVqtmMGTPsjTfeiKBatGiRzZ071zp37mxff/21tWzZMmJ/tn0YNGiQPfLII/bAAw/Y9u3bbebMmTZt2jS78cYbC93VlStX2vnnn29DhgyxvXv3xryObBTA7dChg23dutVefvll+9vf/mb9+/ePOP7dd9+1W265xdatW2fbtm1z/Zw0aZJ16dIl4rjoD3fddZetWLEiYvNll11mhx12mLvnjh07IvbxAQEEEEAAAQQQQACBbBcgKJntI0T/EEAAAQQSErj00ktt586dLniW0AlpPEhZefll1KXx1vle+qGHHrIXX3zR5syZ47Ifww9WoLJ06dLWt29f5xi+L1feK8D61FNP2XXXXWfdu3d3z9iuXTsbOHCgvfDCC/bPf/4z6UdZtmyZ3XnnnS642KJFi7jn33fffVazZk279957rVKlSnbOOee4TMnnnnvOvv3229B5RxxxhDM++uijXf+6du1qV155pb311lv2ww8/hI4Lf/OPf/zDvvrqq/BNofe33XabNW/e3Dp16mQHDx4MbecNAggggAACCCCAAALZLkBQMttHiP4hgAACCOScwPTp0+2nn37Kqn6vWrXK7r77bhc0U3ZddFMQVVmGGzdudNOdo/fnwudPP/3UNM36rLPOiujuxRdf7D6//fbbEdsT+aCAn6a59+zZ0023jnWOgoHKML3gggvcNHjvmEsuucSUwTt//nxvky1YsMBNhQ9tCL6pXr26+xgrC1MB7ttvv92UTRmvjRkzxpYuXZrvMfHOZTsCCCCAAAIIIIAAAsUlQFCyuOS5LwIIIIBAygS0ll+9evVcQOjJJ590150yZYrLWNP6fgoKKUCkdfyOO+44mzVrVujeyhBUkO6YY46xfv36ubUA9VlBuk8++SR0nLLttEahsuG8dvPNN7t7aE1GTcVVU2Bv6NChtnr1atcfrRmopkw43X/cuHHuc6b/0HMqQKYpv/Ha/fffb40bN7ZnnnnGtO5kfk3XmjBhgjVp0sQF66pWrWpXXHFFRFZgomOg+2hdRK0FqXGsWLGiNWvWzGbPnp1fF/LsU6anms4Pb40aNXIfC5MpGX6deO+Voak1IdX38KZp8WrLly8P35znvQLB6nP9+vXz7NO0bX3PatSokWeft0H2CogqcMkyBp4KrwgggAACCCCAAALZLkBQMttHiP4hgAACCBQo0KZNG9MU1/A2YMAAGzx4sCtwokItCnApUKjCLjfddJOpIIqago29e/d2awVqKqzW+lMxF2W/XXjhhaEptQrqaapteJs8ebLLPAzfpsCQ1l9UQEoBImUoqnnFSJTJVxxNmXwnnXSSK8IS7/4KjGm6sYJ7Mvr111/jHWrKzlOxHAXNlBW6ZMkSZ9W2bVv78ccf3XmJjoEO1hTphx9+2BWT2bx5szPs0aOHffbZZ3H7EL1DhWDUooOPWi9TTWs9pqNt2bLFXVbfs/Cm4LZMPY/wfd57ZUdqnUl5K+gd3v7+97+776wcCmqnn366y3LVdHMaAggggAACCCCAAAK5IEBQMhdGiT4igAACCBRJQFmPylJUtpnWGlSwbf369RHXLFu2bCjrT9WRleW3e/due/bZZyOOK+wHrXm5a9cuN4W6sNco7Hl63rVr17pAaUHX0FqICuYqOKtAYaymKcXKkrzqqqusV69erup506ZN3XqOyhidOnVqntPyGwNVlpa31lZU8Z2jjjrKVZkuV65cUv7qg6ZqK1isQJ+uq4Chis4om9ULROfpXBE3eBW2VaE8uukZ8qv8rYI8qtStLNXwpnOUdSuXRJqXDfrll18mcjjHIIAAAggggAACCCBQ7AIEJYt9COgAAggggEAmBbxstIICVK1atXJZheFFSjLZz1TeS5mMytrUVPZEmgJkyqpUcE9T46ObKk1rurKMwlvr1q1dtl/4tPfw/d776DFQVWllDJ522mneIS7DUFPlk/VXIR9VslaxGxWTOe+88+yVV15xz+9lTIZukqI33hqdsQrN7N+/P890cu+2Cpaq6JDWuozOslR19L/+9a9Wp04d7/B8X72xzS8rM98LsBMBBBBAAAEEEEAAgQwLEJTMMDi3QwABBBDIHYEKFSqkbcpvJhWUMaim50mkKcimDFFlF95www15Mv127NjhLqNK0tFNWY7KME2medPER40a5e6p++rn+++/d8HKZK5VpUoVl7G5YcMGd66m7D/22GPuErVr107mUgkf660zqkzY8KZAq+yVCRndFDxVNfT333/fTjjhhIjdCgQr4/HGG2+M2J7fB28dTW+s8zuWfQgggAACCCCAAAIIZIMAQclsGAX6gAACCCCQdQLKpFTwTYVxcr15AStvXctEnkfTuIcMGWIrV660++67L+IUBR7VYgUfC2PmFXGZOHGiy2hUVqf389FHH0XcuzAfVJVbrX379oU5vcBzVKBGmY4KooY3bz1RFe0Jb0888YTNmDHDTTGPFShV9fZ33nnHre3pBWg9IxVK0rbotTaVkanmjXX4/XiPAAIIIIAAAggggEA2ChCUzMZRoU8IIIAAAsUuoAw2BcbOPvvsUF+07mRB075DB2fRG1UWVyBr586dSfVKwUgVj/niiy8iztM0a2VJRgfGNG1bwbEzzjgj4viCPtStW9dVQF+6dGlBhxZq/7Rp01xla1WoTkfT96JTp06u2E94IaM333zTuXsVz/V9Gj58uMuCfPXVV51hrP4oS9ULynqvXpEeFRbStuip897YHnvssbEuyTYEEEAAAQQQQAABBLJOgKBk1g0JHUIAAQQQKA4BBZN++eUXV3V7+fLlrshIvXr1XGVurz8NGza0n3/+2RRQUnBSgaLo7Dgdq7UMN23a5IrFKJtQxypApWI7ynTLdNN6g6o6rinNyTRvGnd0ARdtHzp0qCsgo4w/TVvWdOP+/fu7qcp9+/ZN5jYuINmnTx+bNWuWK+yi6ymrU/1VJW41FShSwE2V0fNrZ555phsTre+4bt06GzZsmC1evNiUfeitZZnM9fK7V/i+u+++21XZHj16tCukpAzPRx55xH1/tD6n2jfffOMqjCtIqgI4Xhak9/roo4+GXzKp997YqtgPDQEEEEAAAQQQQACBXBAgKJkLo0QfEUAAAQTyFXjyySdNRVbUlIl2+eWXu+CWpgOrafrsmjVrTMEgBdPUVKVZU5O9prX4FNDR9Ne2bdta48aN7b333otYh3HAgAFuCvA111zjCsEok9CbLqvpzj/88IO7nIJzyk5UFW9l0CmQWdxN1b9VoCa8ErQKwCjQqnUX5Xfrrbfm6aYyRTWNO7op+KbK0WPHjrXq1aubshC1NqIyTCtVquQOV+XoRMdg0qRJrur3+PHjTQVptA6jqk8rUKymDEwV7Jk/f777HO8PTS1v0aKFG5eWLVu6QjkffPBBnqnbiV7v448/tjZt2pimWSsTdNmyZa5vKqCzZMmSUDdOPfVUV7Bm0aJFrv+qIq71OP/rv/4rdIwyHNPVNEVdRXGip4qn635cFwEEEEAAAQQQQACBogqUCv4DOX3/Qi5q7zgfAQRySkDZPrNnz7auXbvmVL/pbPEKqPpwt27d3JTU4upJv379bO7cubZ9+/bi6kLS9032903rGzZp0sQVsOnVq1fS9yvuE5TJ2q5dO5d5qGBfUVuqr1fU/hTlfH1vtfapqqZ7QfdEr5cNv3+J9pXjEEAAAQQQQAABBEqWAJmSJWs8eRoEEEAAgUIKJFMEppC3KNbTlBGprEb97Nmzp1j7kuzNNTaaMq+p8JrGXdSW6usVtT9FPX/MmDEuO3TgwIFFvRTnI4AAAggggAACCCCQMQGCkhmj5kYIIBAuoKmiWqdO0yzzaw8++KBVqVLFrb2WbBGMG2+80VXEVUZZsufm16dM7Zs3b55bB9Bbb8571bp4mhqsrDGtWedNb81Uv7hP7gqMGDHCunTp4gJ7XmGUXHgaTQnX74PW5dT6mEVtqb5eUftTlPMnTJjg/n5buHChW6eyKNfiXAQQQAABBBBAAAEEMilAUDKT2twLAQRCAlr/rH379qHP8d4oiPL000/H253v9meeecatIZjvQVm8U2vSaR3EE0880QVmtdqGppxqXT1Nuaxfv75bP1Fr2UVXQc7ix8q6ro0cOdJNaVaQTqYvvfRS1vUxlR1SoR1l1CngnyutQ4cONnPmTKtZs2ZKupzq66WkU4W4iNbX/P33301B1qpVqxbiCpyCAAIIIIAAAggggEDxCZQtvltzZwQQQMBcBiQOiQsoW1KFPJQlqR8VL9F6jHr97rvvXPAy8atxpARUrEU/fmodO3Y0/dByW0AFnfRDQwABBBBAAAEEEEAgFwXIlMzFUaPPCJQggXLlyqX1aRTEK8ntz3/+syv8oezJp556qiQ/Ks+GAAIIIIAAAggggAACCCBQggQISpagweRREMhFAVUEPvnkk61SpUpWsWJFa9u2rX344Yf5PsqPP/5oJ5xwgpUtW9Yuvvji0LGa3qw1Fk866SSrUKGCyxq8/fbbQ/u9Nypycc8991i9evXcPZs1a+aqhmv/lClTXF+0bp2mRl5yySVWuXJlV9l21qxZ3iXc6//8z//YmWee6da40zFNmza1Xbt2uX353UMHvPXWW+66mkpb1Na7d293Ca2357X87p+pZ/T6wisCCCCAAAIIIIAAAggggAAC0QIEJaNF+IwAAhkV0DpoCtBpPT+ti3jgwAG78MILbeXKlXH7cfTRR1urVq3s5Zdfdud6B959991ujcW+ffuaApdbtmyxO++809sdetW2hx9+2CZOnGibN2+2zp07W48ePdz9B5XbJD4AAEAASURBVAwYYIMHD7bffvvNFcmZPXu2rV692hWcuemmm1z/dKFff/3VLrvsMlOm4s8//+z627hxY9u/f7+7T3730AEKGqppjciiNq9YkNaf9Fp+98/UM3p94RUBBBBAAAEEEEAAAQQQQACBaAGCktEifEYAgYwKHHnkkaGsRxVsmTZtmu3bt8+mTp0asx8HDx6066+/3lRZW0FBrymIqCDjn/70JxsyZIhbd1GZlwpghjddW5mCV155pamQjNZnHDVqlKta++yzz4Yfaueee67LZqxRo4arVqxA5Pr1690x69atc1mR6vNhhx1mxx57rKsOXL16ddf/gu6hNSCVValAalGbDDVNfffu3e5S2fKMRX0uzkcAAQQQQAABBBBAAAEEECi5AhS6Kbljy5MhkJMCmgJdpUoVW758eZ7+K7tQGY21a9eOmLatAzUNfO/evaaquvm1FStWuONOO+200GEKXqqq77fffhvaFv2mfPnybpMyOdUaNGhgxxxzjPXq1ctuu+02t66jppSrFfYe7uRC/KFgqaauawq5WmHvX9zP2KVLl0I8vb9PUSB+7ty5/kbg6YsksGHDhiKdz8kIIIAAAggggAACCBRWgEzJwspxHgIIpE1AxW+84F/4TW655RY3TVoFXb755pvwXeb9h7WyGvNrCuCpKTtS2YXez/fff++ClfmdG75Pgcx3333X2rRpY1oXUkHK7t27u2nfqbpH+P3ye6+q22pam1MtVffPpmd0D8YfCCCAAAIIIIAAAggggAACJUaATMkSM5Q8CAIlQ0DTs7VGo4rQRLeuXbvatddea8pyvO666+zjjz92xW50nKZQq/3+++/uNd4fXtBSGWaDBg2Kd1hC2zV1+/XXX7etW7fahAkT7KGHHjJtU3BSLRX3SKQjWpNTTUV51HL1Gcn4c8OX8B8KqGv9U/1e0BAorMCcOXOsW7duhT2d8xBAAAEEEEAAAQQQKLQAmZKFpuNEBBBIh8B7773nir+0bNkyz+Xbt29vWrNR603+3//9n91///2hYxSoLF26tKkidn6tbt26LoC5dOnS/A4rcN+mTZtC2ZoKAj744IOmPiuDM1X3KLATwQNUzEfBz+OOO85uuOEGd0qq7p8tz5iIA8cggAACCCCAAAIIIIAAAgjklgBBydwaL3qLQIkTULVqVd5WhuTnn39uAwcOtOOPP96t0RjvYVXgpnfv3m7atIKTagoMqnDNSy+9ZNOnT3dFZLQuZXTBHGVU9unTx2bNmuUK3qjYjNaq1PRvVeJOtClg169fP7cOpZ7hiy++ME0BP/vss13Qs6B7vPnmm24NSE39TqRpzcg9e/a4gK3eKztTlcHPO+88K1OmjL366quhNSWz5RkTeS6OQQABBBBAAAEEEEAAAQQQ8KlA8D9uaQgggEBKBIJ/jQaCgbKErxWsdh0IZj8GggVjAmXLlg1Uq1YtcM011wSCwb3QNebNmxeoWrVqQNcOFpIJ/PTTT4FgIDEQzAZ024444ojAf//3f7vjg9WnA8Gq3O462h5c7zFwzz33uOOCmYSBZcuWueOCU7wDw4cPDwSniLv7BgOagWBAM/D1118HJk+eHDj88MPdOY0aNQqsXr06EAxsBoJFZNy2YMA0EFzDMRCsvh0IVud2fQsGBQPB4juBu+66KxAMrhZ4Dx2wcOHCQLBqdiCY7emOj/XHa6+9FmjWrJnrT7AITSCYCer6EJy2GwhWDQ+ceeaZgbFjxwa2b9+e5/RseMY8nYqzQd8ZjS8tOYFkf9+SuzpH+0WA3z+/jDTPiQACCCCAAAIIZJ9AKXUp+B82NAQQQKDIAlrjTtl7rHFXZEpfXcBb047/OUpu2Pl9S86Lo2ML8PsX24WtCCCAAAIIIIAAAukXYPp2+o25AwIIIIAAAggggAACCCCAAAIIIIAAAgiECRCUDMPgLQIIIIAAAn4WWLx4sY0YMcKCyyZYgwYNTNmY+lHV++jWsWNHCy5B4NY0VdV5rQmbze3AgQMWXM7BPVdwOQSrU6eODRs2zH777bdCdVuFtjyf8FcV3YrVDh065IpSBZd9iLXbgksx2CmnnOLWhq1QoYI1bNjQ7rjjDreWrHdCcEkHGz9+vFsH19vGKwIIIIAAAggggAACuSpAUDJXR45+I4AAAgggkEKB0aNH2+OPP24jR450RaPWrFljJ554ogXXerUZM2bYG2+8EXG3RYsW2dy5c61z584WXI/VVZ+POCDLPgwaNMgeeeQRe+CBByy4DqvNnDnTpk2bZsF1aNPe05UrV9r5559vQ4YMsb1798a837vvvmu33HKLBdertW3btrl+Tpo0ybp06RI6XkW+VMiqQ4cOtmPHjtB23iCAAAIIIIAAAgggkIsCBCVzcdToMwIIIIBASgWULRcvgy1VN8rEPQrb14ceeshefPFF0/qCyn4MbwpUBossWd++fW3nzp3hu3LmvQKsTz31lF133XXWvXt394zt2rWzgQMH2gsvvGD//Oc/C/Uszz//vCo0Rfx89dVXEdcKFtiyO++80/r3728tWrSI2Bf+IVicyxkfffTRrn9am/fKK6+0t956y3744YfQobfddps1b97cOnXqZMHCWqHtvEEAAQQQQAABBBBAINcECErm2ojRXwQQQACBlAtMnz7dgpXdU37d8Atm4h7h90v0/apVq+zuu++2e++912XhRZ+nYK2yDDdu3OimO0fvz4XPn376qWn69FlnnRXR3Ysvvth9fvvttyO2p/KDAoiaDt+zZ0/TtOx4bcGCBW4qfPj+6tWru4/R2ZVjxoyxpUuXmjIpaQgggAACCCCAAAII5KoAQclcHTn6jQACCPhYQNlpEyZMsCZNmrhAT9WqVe2KK66wb7/9NqSiLDitHVizZs3QtptvvtkqVark1gLUFFk1BdyGDh1qq1evdtu1lp+yAzVN9phjjrF+/fpZrVq13GcF6D755JPQ9YpyD11EWXCVK1e2cePGha6Z6Td6VnlqanC8pvUTGzdubM8884xp3cn8WiJjM2XKFDcOhx9+uM2fP98uueQS53DcccfZrFmzIi7/xx9/uLUg69WrZxUrVrRmzZrZ7NmzI44p6IMyPdV0fnhr1KiR+1jYTMnwa6XjvQLB6nP9+vUjLq/v+wUXXOCCkvKmIYAAAggggAACCCCQiwIEJXNx1OgzAggg4HMBZYqpIMtdd93lMhyXLFnipri2bdvWfvzxR6ejYJumwIa3yZMnu4zA8G3KNtO6iFo/UQEeZQ4q2Ni7d2+3/p+my2qdPxVy0XTZCy+8MDSdtij3UB8UcFNTFl9xNa0VedJJJ5kChPGaAmPPPfecm8Z900032a+//hrvUEtkbAYMGGCDBw92RWY0XVxBRgWFVVxH11dRGq9p6vPDDz/sisRs3rzZjVWPHj3ss88+8w4p8PXkk092x0QHH7VeptrWrVvda7J/6DuoAKGC3wocKjCurMxUNGVHap1Jeej60e3000932auaHk5DAAEEEEAAAQQQQCAXBQhK5uKo0WcEEEDAxwJam1FZkldddZX16tXLqlSpYk2bNnVrBir7cerUqSnTKVu2bCgbU5WRleG3e/due/bZZ1Nyj0svvdR27drlpk+n5IJJXkTBxbVr17qAbEGnnnPOOS6QqACtAoWxWmHGRtmnyhatUaOGW+9RfVq/fr27/L59+5y51la8+uqr7aijjrJRo0ZZuXLlkhoDfT80VVtBaQX6dN0tW7bYyy+/7LJjw4OgsZ4r1rbrr7/eVA1b6z3u2bPHZXiq38pgVOGfojYV5FGGrrJUYzUvy/PLL7+MtZttCCCAAAIIIIAAAghkvQBByawfIjqIAAIIIBAuoICPgkCtWrUK32ytW7d2GWXh06sjDkjBB91TGYXh08RTcNliu4TW0VR2aH5ZkuGdU4BMWZUK7n344Yfhu9z7oo6NlxHoBQlXrFjhslVPO+200L2Utakp+cmOgQr5qJK1it2omMx5551nr7zyint+L2MydJME3tStW9eUragCNer32Wef7QKlCszKpyhNwVIVHdJal9GFh7zremPmZQZ723lFAAEEEEAAAQQQQCBXBAhK5spI0U8EEEAAASewY8cO96pgUHRTJp0yGdPZVKyksNN909mvwlxbGYNq+RVgCb+u1tlUlmipUqXshhtucNOvw/enemy8aeLKjtQ9vZ/vv//eBSvD713Qe2XUqgL3hg0b3LmaLv7YY4+502rXrl3Q6QntV0ZmmTJl7Lvvvkvo+FgHKXiqaujvv/++nXDCCbEOcdu89TG9MYx7IDsQQAABBBBAAAEEEMhSAYKSWTowdAsBBBBAILaAAo9qsYKPCoqpWEq6mjL40n2PdPU91nW9wJa3tmWsY6K3aRr3kCFDbOXKlXbfffdF7E712GhKt9rEiRNdRqOyOr2fjz76KOLehfngrf/Yvn37wpye5xytDaqfRIO80Rd44oknbMaMGW6KeUGB0v3797vTvTGMvhafEUAAAQQQQAABBBDIdgGCktk+QvQPAQQQQCBCQFN5lSUZXehE07YVqDnjjDNCx2tNSG8qcGhjEd4oe01BMU3V9Vqq7+FdNxOvqi6u7MOdO3cmdTsFI1U85osvvog4L5mxiTgxzgdNkVZ25tKlS+McUbTN06ZNcwVqtA5ksu2iiy7Kc4qCnPp+KHCbTNM5w4cPN60P+eqrr7rvd0Hne2N27LHHFnQo+xFAAAEEEEAAAQQQyEoBgpJZOSx0CgEEEEAgnoCCVEOHDnVFSpRVpkIxCub079/fFQbp27dv6NSGDRvazz//7AI9Ck5q2rWm/kY3rTG4adMmV2VbGZheIFNZb7/88ourur18+XIbNGiQ1atXz1Xm9q5RlHu8+eabrsjLuHHjvMtl9FXrEqritaY0J9O8adyaqhzekhmb8PPivdf1+vTp44rIqMiQxlpZneqvKnGrde/e3RSYU3X0/NqZZ57pxl4V1FWsZ9iwYbZ48WKbPn16RHXrRK+3ceNG01RrZc7q+6LMzRtvvNF9P/RdTKZ98803rsK4gqQq4uNNU/deH3300TyX88ZMU8ZpCCCAAAIIIIAAAgjkogBByVwcNfqMAAII+Fxg9OjRpurEY8eOterVq7uKx1p/T5mMlSpVCukMGDDANDX3mmuucQValOHnTXdVNpsqJ6spiKSsQVXY7tSpkwtkarvW61PQR+e0bdvWGjdubO+9917E9Nyi3kP3Kc6mCuAqUKMCLV5TARgFW7XuogoI3Xrrrd6u0KuyRTWNO7olMjYKMGpKtlqzZs1szZo1poCcgs1qqpSt6eFqkyZNclW/x48fbypIo4rUCg4rWKym7FgV7Jk/f777HO8PTS1v0aKFG8uWLVu6QjkffPCB+36En5Po9dRHrXWp5QIU3O3atasrnvPxxx+7fnrX1Oc2bdqYpmMrm3fZsmXuGVRoZ8mSJe4wZUom25SVWadOHeeX7LkcjwACCCCAAAIIIIBANgiUCv5DOPl/CWdDz+kDAghknYCyembPnu3+4zzrOkeHslZAVYa7devmpr1mUyf79etnc+fOte3bt2dTt0J9SdXv26pVq6xJkyaugE2vXr1C18+VN8pmbdeuncteVfGdorZUX6+o/Yl1vr6TCoaqGroXyI11XCLbsvX3L5G+cwwCCCCAAAIIIIBAbguQKZnb40fvEUAAAQTSKJBMAZg0diOtl1ZGpDJO9bNnz5603ivVF9f4aA1GTbnXtOuitlRfr6j9iXf+mDFjXNbnwIED4x3CdgQQQAABBBBAAAEEsl6AoGTWDxEdRAABBBBAIL0CI0aMsC5durjAnldAJb13TM3VNV1/3rx5prU5NYW6qC3V1ytqf2KdP2HCBFf4Z+HChW79yVjHsA0BBBBAAAEEEEAAgVwQICiZC6NEHxFAAAEEMiowcuRIN51ZAbr69evbSy+9lNH7F8fNVGxHmXcPPvhgcdy+UPfs0KGDzZw502rWrFmo86NPSvX1oq9f1M9aN/P33393a6dWrVq1qJfjfAQQQAABBBBAAAEEilWgbLHenZsjgAACCCCQhQIqoqMfv7WOHTuafmjZKXD55ZebfmgIIIAAAggggAACCJQEATIlS8Io8gwIIIAAAggggAACCCCAAAIIIIAAAgjkkABByRwaLLqKAAIIIIAAAggggAACCCCAAAIIIIBASRAgKFkSRpFnQAABBBBAAAEEEEAAAQQQQAABBBBAIIcECErm0GDRVQQQQAABBBBAAAEEEEAAAQQQQAABBEqCAEHJkjCKPAMCCCCAAAIIIIAAAggggAACCCCAAAI5JFAqEGw51F+6igACWSxQqlSpLO4dXUMAAQQQiCfAPwfjybAdAQQQQAABBBBAIF0CZdN1Ya6LAAL+E5g9e7b/Hpon9oXAxIkT3XMOHjzYF8/LQyKAAAIIIIAAAggggAAC6RYgUzLdwlwfAQQQQCDnBbp27eqeYc6cOTn/LDwAAggggAACCCCAAAIIIJANAqwpmQ2jQB8QQAABBBBAAAEEEEAAAQQQQAABBBDwkQBBSR8NNo+KAAIIIIAAAggggAACCCCAAAIIIIBANggQlMyGUaAPCCCAAAIIIIAAAggggAACCCCAAAII+EiAoKSPBptHRQABBBBAAAEEEEAAAQQQQAABBBBAIBsECEpmwyjQBwQQQAABBBBAAAEEEEAAAQQQQAABBHwkQFDSR4PNoyKAAAIIIIAAAggggAACCCCAAAIIIJANAgQls2EU6AMCCCCAAAIIIIAAAggggAACCCCAAAI+EiAo6aPB5lERQAABBBBAAAEEEEAAAQQQQAABBBDIBgGCktkwCvQBAQQQQAABBBBAAAEEEEAAAQQQQAABHwkQlPTRYPOoCCCAAAIIIIAAAggggAACCCCAAAIIZIMAQclsGAX6gAACCCCAAAIIIIAAAggggAACCCCAgI8ECEr6aLB5VAQQQAABBBBAAAEEEEAAAQQQQAABBLJBgKBkNowCfUAAAQQQQAABBBBAAAEEEEAAAQQQQMBHAgQlfTTYPCoCCCCAAAIIIIAAAggggAACCCCAAALZIEBQMhtGgT4ggAACCCCAAAIIIIAAAggggAACCCDgIwGCkj4abB4VAQQQQAABBBBAAAEEEEAAAQQQQACBbBAgKJkNo0AfEEAAAQQQQAABBBBAAAEEEEAAAQQQ8JEAQUkfDTaPigACCCCAAAIIIIAAAggggAACCCCAQDYIEJTMhlGgDwgggAACCCCAAAIIIIAAAggggAACCPhIgKCkjwabR0UAAQQQQAABBBBAAAEEEEAAAQQQQCAbBAhKZsMo0AcEEEAAAQQQQAABBBBAAAEEEEAAAQR8JEBQ0keDzaMigAACCCCAAAIIIIAAAggggAACCCCQDQIEJbNhFOgDAggggAACCCCAAAIIIIAAAggggAACPhIgKOmjweZREUAAAQQQQAABBBBAAAEEEEAAAQQQyAYBgpLZMAr0AQEEEEAAAQQQQAABBBBAAAEEEEAAAR8JEJT00WDzqAgggAACCCCAAAIIIIAAAggggAACCGSDAEHJbBgF+oAAAggggAACCCCAAAIIIIAAAggggICPBAhK+miweVQEEEAAAQQQQAABBBBAAAEEEEAAAQSyQYCgZDaMAn1AAAEEEEAAAQQQQAABBBBAAAEEEEDARwIEJX002DwqAggggAACCCCAAAIIIIAAAggggAAC2SBAUDIbRoE+IIAAAggggAACCCCAAAIIIIAAAggg4CMBgpI+GmweFQEEEEAAAQQQQAABBBBAAAEEEEAAgWwQKJsNnaAPCCCAAAIIZIvAJ598YsuWLYvozpo1a9znqVOnRmxv3ry5nXXWWRHb+IAAAggggAACCCCAAAIIIFCwQKlAsBV8GEcggAACCCDgD4EFCxZY586drUyZMla69L8mFHj/U1mqVCmHcOjQIfvjjz/s9ddft//8z//0BwxPiQACCCCAAAIIIIAAAgikUICgZAoxuRQCCCCAQO4LHDhwwKpXr267du3K92EqV65sW7dutfLly+d7HDsRQAABBBBAAAEEEEAAAQTyCrCmZF4TtiCAAAII+FigXLlyds011+QbbEzkGB8T8ugIIIAAAggggAACCCCAQIECBCULJOIABBBAAAG/CSgouX///riPrWzKHj16xN3PDgQQQAABBBBAAAEEEEAAgfwFmL6dvw97EUAAAQR8KKA1I2vXrm0//vhjzKevUaOGbdmyJbTmZMyD2IgAAggggAACCCCAAAIIIBBXgEzJuDTsQAABBBDwq4AK3Fx77bUxp3BrDcnevXsTkPTrl4PnRgABBBBAAAEEEEAAgZQIEJRMCSMXQQABBBAoaQLxpnBrWrf20RBAAAEEEEAAAQQQQAABBAovwPTtwttxJgIIIIBACRdo1KiRrVq1KuIpGzRoYKtXr47YxgcEEEAAAQQQQAABBBBAAIHkBMiUTM6LoxFAAAEEfCTQq1cvU6Vtr2nq9vXXX+995BUBBBBAAAEEEEAAAQQQQKCQAmRKFhKO0xBAAAEESr6AsiSVLRneVqxYYY0bNw7fxHsEEEAAAQQQQAABBBBAAIEkBciUTBKMwxFAAAEE/CPQsGFDa968uZUqVcr96D0BSf+MP0+KAAIIIIAAAggggAAC6RMgKJk+W66MAAIIIFACBK677jorU6aM+9F7GgIIIIAAAggggAACCCCAQNEFmL5ddEOugAACCCBQggU2bdpkdevWtUAgYD/88IPVqVOnBD8tj4YAAggggAACCCCAAAIIZEaAoGRmnLlLmgW6dOmS5jtweQQQ8LPA+++/7x6/Xbt2fmbg2RFAIM0Cc+fOTfMduDwCCCCAAAIIIJA9Akzfzp6xoCdFEHjppZdsw4YNRbgCpyKAQLjAxx9/bPqh/UugXr16dvzxx+fLob+D9HcRDQEEEEhWgL8/khXjeAQQQAABBBAoCQJkSpaEUeQZXAGK2bNnW9euXdFAAIEUCHjZx2Tt/Avz559/dm+OPvrouLpz5syxbt26uWnecQ9iBwIIIBBDgL8/YqCwCQEEEEAAAQRKvEDZEv+EPCACCCCAAAJFFMgvGFnES3M6AggggAACCCCAAAIIIOBLAaZv+3LYeWgEEEAAAQQQQAABBBBAAAEEEEAAAQSKT4CgZPHZc2cEEEAAAQQQQAABBBBAAAEEEEAAAQR8KUBQ0pfDzkMjgAACCCCAAAIIIIAAAggggAACCCBQfAIEJYvPnjsjgAACCCCAAAIIIIAAAggggAACCCDgSwGCkr4cdh4aAQQQyIzAwoULrUqVKvb6669n5oY5dpd+/fpZqVKlQj+9evXK8wSLFy+2ESNG2Lx586xBgwahY6+99to8x3bs2NGOPPJIK1OmjJ166qn2+eef5zkmmzYcOHDA7rnnHvdc5cuXtzp16tiwYcPst99+K1Q377///pBPuOtpp50W83qHDh2yiRMn2rnnnhtz/9ixY+2UU06xypUrW4UKFaxhw4Z2xx132J49e0LHv/baazZ+/Hj7448/QtuK8obxTlwvm8b71VdfjfjuVa9ePfEH4UgEEEAAAQQQQMCnAgQlfTrwPDYCCCCQCYFAIJCJ2+T0PVTZ+80337QVK1bY9OnTI55l9OjR9vjjj9vIkSPt6quvtjVr1tiJJ55o1apVsxkzZtgbb7wRcfyiRYts7ty51rlzZ/v666+tZcuWEfuz7cOgQYPskUcesQceeMC2b99uM2fOtGnTptmNN96Y9q6uXLnSzj//fBsyZIjt3bs35v3effddu+WWW2zdunW2bds2189JkyZZly5dQsdfdtlldthhh1mHDh1sx44doe2FecN4F0YtsXPSPd6XX365bdiwwZYsWWKdOnVKrFMchQACCCCAAAII+FyAoKTPvwA8PgIIIJBOgUsvvdR27tzpgmTpvE8i11b2XbyMuETOT9cxFStWtIsvvtgaN27ssvG8+zz00EP24osv2pw5c1z2o7ddrwpUli5d2vr27et8w/flynsFWJ966im77rrrrHv37u4Z27VrZwMHDrQXXnjB/vnPfxbqUZ5//nlTMDz856uvvoq41rJly+zOO++0/v37W4sWLSL2hX844ogjnLECx8pA7dq1q1155ZX21ltv2Q8//BA69LbbbrPmzZu7YNTBgwdD25N5w3jn9ngrM1eZvm3btrVGjRolM/QciwACCCCAAAII+FaAoKRvh54HRwABBPwloCzEn376KSceetWqVXb33Xfbvffe67Lwojut4KqyDDdu3OimO0fvz4XPn376qWn69FlnnRXRXQVo1d5+++2I7an8oACipsP37NkzIhAcfY8FCxa4qfDh271pudHZlWPGjLGlS5eaMimTbYy3v8Y72e8HxyOAAAIIIIAAAiVVgKBkSR1ZngsBBBAoZoEPP/zQ6tWr59ZZe/LJJ11vpkyZYpUqVbLDDz/c5s+fb5dccolbr++4446zWbNmhXqsTEBNiT3mmGNM6y7WqlXLfVYw7pNPPgkdp6w6rUVYs2bN0Labb77Z3UOZS5pyq6YA3tChQ2316tWuP1obUE0Zb1ovcNy4ce5ztvyh51emn6YGx2taT0/Zlc8884xpHcL8mq41YcIEa9KkiQvCVa1a1a644gr79ttvQ6clOjY6Qesnai1Ija8yPZs1a2azZ88OXSuRN8r0VNP54c3LMitspmT4tdLxXoFg9bl+/foRl5fpBRdc4IKS8k6mMd5W6MzYZJwLc2w6xrsw/eAcBBBAAAEEEECgJAoQlCyJo8ozIYAAAlkg0KZNG/vHP/4R0ZMBAwbY4MGDXSETTYdVIEuBQhVwuemmm0yFT9QUbOzdu7db609TY7Wmn4q2aGrshRdeGJo6q2COptSGt8mTJ7sMw/Btyl7TOotaj1EBI2WmqXnFSZSxl01Na0WedNJJLngbr18KjD333HNuGrfsfv3113iHmrL4VCznrrvuctmiWvdO04811fTHH3905yU6NjpYU58ffvhhVyRm8+bNzrZHjx722Wefxe1D9I6TTz7ZbYoOPmq9TLWtW7e612T/0HMqQKhgtQKHCr4qKzMVTdmRWmdS3rp+dDv99NNd9qqmhyfTGG9/jXcy3w2ORQABBBBAAAEESrIAQcmSPLo8GwIIIJDFAsp6VJZijRo13JqCCqqtX78+osdly5YNZfepCrKy+Xbv3m3PPvtsxHGF/aA1L3ft2uWmShf2Gqk+Tw5r1651AdSCrn3OOee4IK+CtgoUxmpaS1NZkldddZWpureqoTdt2tSt56hM0qlTp+Y5Lb+x2bdvnxsHra2o4jtHHXWUjRo1ysqVK5fUuKgPmqqtILICfbruli1b7OWXX3bZrF6AOk/n8tlw/fXXm6phK+CqCtnKvtV3ShmMKvxT1KaCPMraVZZqrOZleX755Zexdsfcxnj7a7xjfgnYiAACCCCAAAII+FSAoKRPB57HRgABBLJJwMs6KygQ1apVK5c9GD7tOJueIxV90bqXyubUFPdEmgJkyqpUcE9T5qObgnEK0MkuvLVu3dpl+4VPhw/f772PHhtVCVfG4GmnneYd4qYzawp9suOiQj6qZK1iNyomc95559krr7zint/LmAzdJIE3devWNWUrqkCN+n322We7QKkCs/IpSlOwVEWHtNalsnxjNW/MvOzTWMdEb2O8/TXe0ePPZwQQQAABBBBAwM8CBCX9PPo8OwIIIJCDAhUqVCj01N5ceFxlDKrpORNpWntTmaNaQ/OGG25wU+PDz9uxY4f7qEBddFOWozJPk2neNHFlR+qe3s/333/vgpXJXEtZm6rAvWHDBneupvI/9thj7hK1a9dO5lJxj1VGZpkyZey7776Le0xBOxQ8VXXs999/30444YS4h3vrY3pjGPfAsB3esYy3P8Y7bOh5iwACCCCAAAII+F6AoKTvvwIAIIAAArkjoExKBdlUGKekNi+w5a13mchzahr3kCFDbOXKlXbfffdFnKLAo1qs4GNhLDXdXm3ixIkuo1FZnd7PRx995PYV5Q9v/cf27dsX5TKhc7VeqH4SDfqFTvz/b5544gmbMWOGm2JeUKB0//797ixvDKOvFeuzdyzj7Y/xjvUdYBsCCCCAAAIIIOBXAYKSfh15nhsBBBDIQQFlqikApmm5XtO6kwVN+/aOzYVXVRxX9uHOnTuT6q6CkSoe88UXX0Scp2nWypKMLkKjadsKop1xxhkRxxf0QVOklZ25dOnSgg4t1P5p06a5AjVaBzLZdtFFF+U5RUFOfWcUuE2m6Zzhw4eb1od89dVXnWFB53tjduyxxxZ0aGg/4+2v8Q4NPG8QQAABBBBAAAEEjKAkXwIEEEAAgawVUIbbL7/84qpuL1++3AYNGmT16tVzlbm9Tjds2NB+/vlnFzhScFJVmzWVOLppzcJNmzaZisIoa1DHvvnmm67Yzrhx46IPL7bPWpdQ1cg1pTmZ5k3j1lTl8KbtQ4cOdQVklPGnwj4KtPXv398Vbenbt2/44QW+1/X69Onjisio8JCupyw/9VeVuNW6d+9uCsypYnp+7cwzz3RjparqGpdhw4bZ4sWLbfr06RHVrRO93saNG01TrZUBqvFV5uaNN97ovjN63mTaN9984yqMK0iqIj7eNHXv9dFHH81zOW/MNGVcLZF+M94lZ7zzfCHYgAACCCCAAAIIIJCvAEHJfHnYiQACCCBQWIEnn3zSVExFTRlnl19+uavarGm/as2aNbM1a9aYgj4KmqmpGrOmIHtN6+0pwKMprm3btrXGjRvbe++9FzEVd8CAAaapvtdcc40r+KKMQW9KrLLjVIlZTUEpZaWpinenTp1cINO7T7a9qiq4CtSoQIvXVABGAVituyjXW2+91dsVelUGqaZxR7fRo0ebKkePHTvWqlev7qpRa21EZZ5WqlTJHa4AY6JjM2nSJFf1e/z48aaCNKpIrYCxAshqysBUAZf58+e7z/H+0NTyFi1auPFq2bKlK5TzwQcfuPEMPyfR6+n7o7UuNb1fwb6uXbu64jkff/yx66d3TX1u06aNaTq2MkaXLVvmnkGFdpYsWeIOU6Zksk1ZmXXq1HHfbZ2baL8Z78ip24m6Zdt4J/t94XgEEEAAAQQQQMDvAqWC/+hO/l/dflfj+bNOQJkrs2fPdv8BmnWdo0MI5KCAKiKrzZ07t9h6369fP3f/7du3F1sfkrmxKjN369bNTRVO9Dw944IFC/JkRa5atcqaNGniCtj06tUr0ctlzXHKcG3Xrp3LaFXxnaK2VF+vqP2Jdb6+pwqGqhq6F2RPtN+Md6Room6RZ2X2U6zx9nqgAL2ykrdt2+ZtKvC1MH9/FHhRDkAAAQQQQAABBLJcgEzJLB8guocAAgj4WSCZ4h+56qRsyLfffttliCpDTE0Zkcpq1M+ePXty6tE0ZlqDUVPkNX25qC3V1ytqf+KdP2bMGJf1OXDgQHdIMv1mvP+tmozbv8/K/Lvo8db/x6/lIT788ENTkJmGAAIIIIAAAgggULAAQcmCjTgCAQQQQACBtAloPUxNQ9XU9PCswhEjRpgyVhXY8wqopK0TKbywpoTPmzfPrdepKdRFbam+XlH7E+v8CRMmuMI/CxcudOtP6phk+814/0s2WbdY45HubbHGW0sVaOq+lpl444030t0Fro8AAggggAACCJQIAaZvl4hh5CGYvp3b34EVK1aY1h989913bf369W4dPa1zp0IZjRo1cmvEJVs5N7dFir/3xT19e+TIkfbYY4+5Nfm09uEjjzxif/7zn4sfJp8epGv65aJFi9zvxkMPPZTP3dlVXAIKRqkozh133GHRRYYK0yfGuzBqmTsn1ePt9Txdf3941+cVAQQQQAABBBDIRgGCktk4KvQpaQGCkkmTZc0JqrKrAiQKOioQddZZZ7miF6qiq6IRjz/+uF1//fX217/+NWv67IeOFHdQMheNCSrk4qjRZwSyQ4C/P7JjHOgFAggggAACCGRWgOnbmfXmbggUSkBrzp177rmFOreoJ6Xz3qqA27dvXzfd7Z133rGLLrrIVI23QoUK1qBBA1c05J577nHZckV9jnSdn06fgvpcnPcuqG/sRwABBBBAAAEEEEAAAQQQQCA/gbL57WQfAghkh4CyCX/66adi6Uw6760qtSpq8OCDD1rZsrH/OlKgUj/Z2tLpU9AzF+e9C+ob+xFAAAEEEEAAAQQQQAABBBDIT4BMyfx02FeiBZ5//nlr1aqVHXbYYab1C7Vu3X333eeeWVU0tZB9kyZNXNZe1apV7YorrrBvv/02ZDJlyhR3ngo5aI2pSy65xCpXrmzHHXeczZo1K3Sc9ya/+33wwQd2yimnWJUqVVx/mjZt6qrx6txBgwbZ0KFDbfXq1aZp6qrSqqZgnrII69Wr56Y7N2vWzGbPnu32JdO3VN9bHXjrrbecxbhx41x/Yv2hKsPKjqxWrZqdeeaZsQ6JuY2xedu5FOZ7EROUjQgggAACCCCAAAIIIIAAAggUh0DwP/BpCOS8QPB3JxAMyCX8HBMnTgzonGCGXmD79u2BYPXbwNNPPx3o2bOnu0Yw2BcoX758IBhIDOzYsSOwfPnyQMuWLQPVq1cPbNmyJXSfu+66y10nGFwLBKvjBoLZjIFg5c1AMMgZCAbdQscVdL+5c+cGxowZ4/qh/px99tmBYLAudP7VV18dOPHEE0Of9WbYsGGB4DTnwEsvvRT45ZdfAsH1GAOlS5cOBNdhdMcl2rd03HvBggWBI488MjB27NiIPod/+O6775ydnjWZxtgU7XuRqHWwqExAP7TEBfR3kP5eoSGAAALJCvD3R7JiHI8AAggggAACJUGA/3oqCaPIM7hAQKJBSQULg+sWBtq3bx8hd/DgwcCkSZMCe/fuDRxxxBGB7t27R+z/3//9X3ef8ECbF/gLru0XOnby5MnuuFWrVrltBd0vdGLYmwceeMBdQ0FOteigpO4XzNCM6KP6rSDlgAED3DmJ9M0dGPVHKu4ddcmYHz/77DP3jH/6059i7o+1kbEp+vcilmusbQQlY6nkv42gQv4+7EUAgfgC/P0R34Y9CCCAAAIIIFByBWIv4lYcKZvcE4EMCQSzHi2Y/ZhnncIyZcrYbbfdZsFgme3Zs8dN7Q7vUuvWrS2YPWmffPJJ+OY873WM2oEDB9xrQfdzB0X9Ua5cObdFU7RjtRUrVlgwQGennXZaaHfFihWtZs2aEVPMQzv//5vovkXv1+d03Tv6XsHAr9uk50i0ff3114xNECvV34t4/sEsXLdkQLz9bI8toGUWaAgggAACCCCAAAIIIIAAAvkLEJTM34e9JVBg165d7qlU5TlWU8BSzQuahR+jc3bv3h2+qcD3Bd1PF3jjjTfskUceMQXddLwX0Ix38V9//dXtGjVqlOknvNWqVSv8Y4Hvi+veWsNT63kGp3EX2EfvAMbmX4FuzyP6NZXfC107OLXeBg8eHH0bPscR+OijjyyYbR1a2zXOYWxGAAEE8gh4f3/k2cEGBBBAAAEEEECgBAsQlCzBg8ujxRaoXbu227Ft27aYB3jByljBRwXFVMgmmVbQ/davX29XXnmlXXXVVfa3v/3NdPwTTzxhd9xxR9zb1KhRw+0LrlXpCuHEPbCAHcV57+BUc5etqiJBf//73+28886L2dvgep/O4plnnjHGJjPfC28g9F3v2rWr95HXBAQUlMQsASgOQQCBPAL6+4OGAAIIIIAAAgj4SYDq234abZ7VCShD7+ijj7ZFixbFFNGUaGVJahp3eNO0bVWMPuOMM8I3F/i+oPt9+eWXLjMyuBakNWjQwGUPFjT9s27duu64pUuXFnj//A4oznurX8HiPq66+ZAhQyy4TmbMrn711VdWtuy//v8Txib/acGp+l7EHAg2IoAAAggggAACCCCAAAIIIJBCAYKSKcTkUrkhoAy9YKVqW7JkiQ0cONA2btxohw4dctOyv/nmGxfsGzp0qL388ss2Y8YMN51awbv+/fubpkb37ds3qQct6H716tVz11u8eLHt27fPVq5cmWfdSgVRN23aZOvWrXP91PqXffr0sVmzZtmUKVNcH7XO4IYNG2zz5s0J9y9d937zzTetcuXKNm7cuHz70qJFC5s5c6Yp8BisWm4LFy60YBVzF6Rdu3atTZs2zf7yl7+E1rnUdG/G5t+k6fpe/PsOvEMAAQQQQAABBBBAAAEEEEAgTQIlt4YPT+YngeCvRyDR6tuey5NPPhlo2rRpIBjocj+nn356QJWz1YJBykBwjcdAo0aNAsHCL4GqVasGglOsA8ECM97p7lhVwNa9ddzq1asDU6dODQSDcW7b8ccfHwiulxg6Pr/7DR8+PBAMMLmq4F26dAnoWF33xBNPDASnWAc+//zzgK4XLGYTaNOmTWDLli2B33//PaDzgoHFQDCTMBCc0u2qdAfXpUyqb6m+tx44GFwMHHnkkYH7778/9Pz5vdEzDhs2zI2HKp8Hg67OQmMSDEoGgtO7Q6czNoX/XoQQE3hD9e0EkKIOoXpuFAgfEUAgYQH+/kiYigMRQAABBBBAoAQJlNKzpCneyWURyJiApjsH/0HPWm4ZE+dGJV0gGBx3jzh37tyS/qgpe745c+ZYt27djP9ZTRkpF0LANwL8/eGboeZBEUAAAQQQQCBMgOnbYRi8RQABBBBAAAEEEEAAAQQQQAABBBBAAIH0CxCUTL8xd0AAAQQQQACBfAS0pu6IESNs3rx5ruCXst/1c+211+Y5q2PHjhZcHsK0tu6pp55qweUt8hyTjRu0dvHEiRPt3HPPjdu9F154wVq3bu2eL7hkh1s7OLhcR9zj89sRXD7DGXqW3qsKhsVqBfVv7Nixdsopp7j1grVWcsOGDe2OO+6wPXv2hC732muv2fjx401rHNMQQAABBBBAAAEEEChIgKBkQULsRwABBBBAAIG0CYwePdoef/xxV4Ds6quvtjVr1lhwPV2rVq2aKzb2xhtvRNx70aJFpmUFOnfubME1dK1ly5YR+7PxgwqYnX/++TZkyBDbu3dvzC5qCZKePXualk5Q0bL58+e7gmyXXHKJHTx4MOY5qdqYSP/effddu+WWW1zBtW3bttkDDzxgkyZNcv31+nHZZZe5YnEdOnSwHTt2eJt5RQABBBBAAAEEEEAgpgBByZgsbEQAAQQQKG6B3377Ld+sslT0LxP3SEU/S+o1HnroIXvxxRdN6+kp+zG8KVBZunRp69u3r+3cuTN8V069X7Zsmd15553Wv39/a9GiRdy+P/3001a7dm27/fbbrUqVKu5YBTGXLl1qn3zySdzz8tvx/PPPuzVOtc6p9/PVV19FnJJo/4JFyNxYBIuyubHq2rWrBQvA2VtvvWU//PBD6Jq33XabNW/e3Dp16pT2YGroprxBAAEEEEAAAQQQyEkBgpI5OWx0GgEEECj5AtOnT7effvoprQ+aiXuk9QFy+OKrVq2yu+++2+69916XXRf9KJrmPGjQINu4caMNGzYsenfOfFaATtPSlQWpac/xmgJ7tWrVclOuvWPq1q3r3n7//ffeppS/Jtq/BQsWuCnz4R2oXr26+xid/TlmzBgXTFUmJQ0BBBBAAAEEEEAAgXgCBCXjybAdAQQQQCApAWViTZgwwZo0aeKCL1WrVrUrrrjCvv3229B1Bg4caOXLl7eaNWuGtt18881WqVIlF4zRtFA1BaOGDh1qq1evdtu1fp0y5w477DA75phjrF+/fi6Ao88KXoVnkhXlHrq3Mr8qV65s48aN00damgQ0nvrOaMpvvKZ1ERs3bmzPPPOMad3J/Foi378pU6a479rhhx/upkdrarTG+rjjjrNZs2ZFXF7rIt5zzz1Wr149q1ixojVr1sw0xTpdrUGDBnmC8N56ktqXjU0BY9nUr18/onv63b/gggvc9G6NCw0BBBBAAAEEEEAAgVgCBCVjqbANAQQQQCBpAWVHqVjJXXfd5YIrS5YscdM627Ztaz/++KO7ngJRmvYZ3iZPnuyy5cK3KcNKawZqbUEFNZRVp2Bj79693Zp8miK6bt06V+RE6+1deOGFoSmkRbmH+uAV6VDhD1r6BLRW5EknnWQKEMZrCng999xzbhr3TTfdZL/++mu8Qy2R79+AAQNs8ODBpmn7mi6uIKMC3wr66foHDhwIXV9Trh9++GFXnGbz5s3u+9ijRw/77LPPQsek8s3IkSNNQcgnnnjCdu/e7dbL1O/BRRddZGeffXahbqXfRwUI9X8EKHCo/5Pg008/LdS1ok9SdqTWmZSbrh/dTj/9dJflqunhNAQQQAABBBBAAAEEYgkQlIylwjYEEEAAgaQEFORRluRVV11lvXr1cmviNW3a1J566ilT9uPUqVOTul5+B5ctWzaUjalqwMp+UxDn2Wefze+0hPddeumltmvXLje1OOGTODApAQUX165d64LOBZ14zjnnuECigtAKFMZqhfn+KcNWWZI1atSw7t27u4Dn+vXr3eX37dvnvldaM1HFd4466igbNWqUlStXLmXfs+jnUGbh8OHDXfBd/VKVbH2vlSVamHb99debqmFrWrgqZCsTVM+n+6hAUFGbCt1ourmyWWO1Ro0auc1ffvllrN1sQwABBBBAAAEEEEDACEryJUAAAQQQKLKAghwKfLRq1SriWq1bt3ZZVOHTqyMOSMEH3VPZduHTxFNwWS6RRgGtFaoM2PyyJMNvr8CXsiqVVfvhhx+G73Lvi/r98zL9vEzJFStWuIxcBQa9pqxNLTuQru+ZMowVvH/nnXfc75KqkCtwqqBseCEZrz8FvWo9SmUrqkCNnk/ZlgrcK4Arx6K0l19+2RUnevvtt/MUKPKu642tlyXtbecVAQQQQAABBBBAAAFPgKCkJ8ErAggggEChBXbs2OHOVQAkuinLTBlf6WwqILJ169Z03oJrp1BAmYhq+RV+Cb+d1g5VQK1UqVJ2ww03uMBa+P5Uf/+8aeLKjtQ9vR8VnIku6hLej8K+1/Tw8ePH21//+lf7j//4D7fupaZbT5s2zTZt2mSPPPJIYS8dcZ6yl8uUKWPfffddxPZkPqhauqqmv//++3bCCSfEPVVBXDVvrOMeyA4EEEAAAQQQQAAB3woQlPTt0PPgCCCAQOoEFHhUixV8VMBIhUTS1ZTdlu57pKvvfr2uF7Dy1u9MxEEZg0OGDLGVK1fafffdF3FKqr9/mtKtNnHiRJfRqaxO7+ejjz6KuHcqPuiZZFG7du2Iy2ka99FHH52S6da6sNZJ1U+iweCIzgQ/aL3LGTNmuLUko/safez+/fvdJm+so/fzGQEEEEAAAQQQQAABgpJ8BxBAAAEEiiygaa7KkowuAqJp2wpOnHHGGaF7aE1Ib5psaGMR3ihjSwGj8GIgqb5HEbrHqTEEVEFd2Yc7d+6MsTf+JgUjTz75ZPviiy8iDkrm+xdxYpwPmvqs7MylS5fGOSK1m72gvTImw5uC/D///LOpP8k2FciJbipyo98VBXiTaTpH611qfchXX33V/a4XdL43tscee2xBh7IfAQQQQAABBBBAwKcCBCV9OvA8NgIIIJBKAQVwhg4dalprTplUKhSjAEb//v1dMYy+ffuGbtewYUMXaFFwQ8FJTbvWtNjopgwxTV1VgRMFZ7xApjK9fvnlF1PV7eXLl9ugQYOsXr16rjK3d42i3OPNN990BVDGjRvnXY7XFAtovUFVvN6wYUNSV/amcWsKcnhL5vsXfl6897penz59XHEYFVLS91mZjOqvFzhUcRwF3D7//PN4l0l4u6Zqt2/f3k3XVtV6rfuodSS935u//OUvoWslet+NGzeaplori1i/O8rwvPHGG93vin4vk2nffPONq0Su6eQq9uNNZ/deH3300TyX88ZWU8ZpCCCAAAIIIIAAAgjEEiAoGUuFbQgggAACSQuMHj3aVJF37NixVr16dVflV2vOKZOxUqVKoesNGDDABWCuueYaV7xE2W/eFM/woh4KnCijThW2O3Xq5AKZuojWqFOgQ+e0bdvWGjdubO+9917ElNSi3iPUWd6kTUBVzlWgRgE4r73yyiumgPLq1atNRZJuvfVWb1foVRmxmsYd3RL5/inAqCnZas2aNTMVk1GgTQF1tYsvvthND9f7SZMmuarfWuuxWrVqLriuALgC4mrKAFbBnvnz57vP8f74+OOPrU2bNm5qtjKHly1b5q513nnnmQKQagruzZ0711UBVwCyatWq7nuvatnz5s1z33Pv+oneV8+iNTGVhakgcNeuXU33VH/0PF5LpH/KlEy2KSuzTp06zjnZczkeAQQQQAABBBBAwB8CpYL/0Ez+X5r+sOEpc0hA/0E3e/Zs9x9dOdRtuopA1gp06dLF9U2Bkmxq/fr1c8Gb7du3Z1O3XF/mzJlj3bp1c9Njs65zWdihVatWWZMmTVwBm169emVhD/PvkjJ227Vr5zJ0VXwnU6247pvM8+n3U8FQVU33Ar7JnO/HY/n7w4+jzjMjgAACCCCAAJmSfAcQQAABBHJKIJniKDn1YD7rrDIilVWrnz179uTU0+s7qOUHtKyAplNnqhXXfZN9vjFjxliLFi1s4MCByZ7K8QgggAACCCCAAAI+EiAo6aPB5lERQAABBBDIJoERI0aYsnIV2PMKo2RT/+L1RUsSaFq11h/V1OhMteK6bzLPN2HCBFcgaOHChW79yWTO5VgEEEAAAQQQQAABfwkQlPTXePO0CCCAQM4KjBw50k31VfBKhUFeeumlnH0WOv5vARUUUkbdgw8++O+NWf6uQ4cONnPmTKtZs2ZGe1pc9030IbW+5u+//+7WkdW6mDQEEEAAAQQQQAABBPITKJvfTvYhgAACCCCQLQIqoqMfWskT6Nixo+mHltsCl19+uemHhgACCCCAAAIIIIBAIgJkSiaixDEIIIAAAggggAACCCCAAAIIIIAAAgggkDIBgpIpo+RCCCCAAAIIIIAAAggggAACCCCAAAIIIJCIAEHJRJQ4BgEEEEAAAQQQQAABBBBAAAEEEEAAAQRSJkBQMmWUXAgBBBBAAAEEEEAAAQQQQAABBBBAAAEEEhGg0E0iShyTEwIfffRRTvSTTiKQCwIbNmxw3ZwzZ04udDcr+uj9HYRZVgwHnUAgpwS8vz9yqtN0FgEEEEAAAQQQKKJAqUCwFfEanI5AsQuUKlWq2PtABxBAAAEEEEAAgaII8M/youhxLgIIIIAAAgjkmgCZkrk2YvQ3pgD/iI/JwkYEEEiRQNeuXd2VyIJMESiXQQABBBBAAAEEEEAAAd8LsKak778CACCAAAIIIIAAAggggAACCCCAAAIIIJBZAYKSmfXmbggggAACCCCAAAIIIIAAAggggAACCPhegKCk778CACCAAAIIIIAAAggggAACCCCAAAIIIJBZAYKSmfXmbggggAACCCCAAAIIIIAAAggggAACCPhegKCk778CACCAAAIIIIAAAggggAACCCCAAAIIIJBZAYKSmfXmbggggAACCCCAAAIIIIAAAggggAACCPhegKCk778CACCAAAIIIIAAAggggAACCCCAAAIIIJBZAYKSmfXmbggggAACCCCAAAIIIIAAAggggAACCPhegKCk778CACCAAAIIIIAAAggggAACCCCAAAIIIJBZAYKSmfXmbggggAACCCCAAAIIIIAAAggggAACCPhegKCk778CACCAAAIIIIAAAggggAACCCCAAAIIIJBZAYKSmfXmbggggAACCCCAAAIIIIAAAggggAACCPhegKCk778CACCAAAIIIIAAAggggAACCCCAAAIIIJBZAYKSmfXmbggggAACCCCAAAIIIIAAAggggAACCPhegKCk778CACCAAAIIIIAAAggggAACCCCAAAIIIJBZAYKSmfXmbggggAACCCCAAAIIIIAAAggggAACCPhegKA7hNMmAABAAElEQVSk778CACCAAAIIIIAAAggggAACCCCAAAIIIJBZAYKSmfXmbggggAACCCCAAAIIIIAAAggggAACCPhegKCk778CACCAAAIIIIAAAggggAACCCCAAAIIIJBZAYKSmfXmbggggAACCCCAAAIIIIAAAggggAACCPhegKCk778CACCAAAIIIIAAAggggAACCCCAAAIIIJBZAYKSmfXmbggggAACCCCAAAIIIIAAAggggAACCPhegKCk778CACCAAAIIIIAAAggggAACCCCAAAIIIJBZAYKSmfXmbggggAACCCCAAAIIIIAAAggggAACCPhegKCk778CACCAAAIIIIAAAggggAACCCCAAAIIIJBZAYKSmfXmbggggAACCCCAAAIIIIAAAggggAACCPhegKCk778CACCAAAIIIIAAAggggAACCCCAAAIIIJBZAYKSmfXmbggggAACCCCAAAIIIIAAAggggAACCPhegKCk778CACCAAAIIIIAAAggggAACCCCAAAIIIJBZAYKSmfXmbggggAACCCCAAAIIIIAAAggggAACCPhegKCk778CACCAAAIIIIAAAggggAACCCCAAAIIIJBZAYKSmfXmbggggAACCCCAAAIIIIAAAggggAACCPhegKCk778CACCAAAIIIIAAAggggAACCCCAAAIIIJBZgVKBYMvsLbkbAggggAAC2Sswc+ZMmz59uh06dCjUybVr17r39evXD20rXbq0/eUvf7GePXuGtvEGAQQQQAABBBBAAAEEEEAgMQGCkok5cRQCCCCAgE8Eli9fbs2bN0/oaZctW2bNmjVL6FgOQgABBBBAAAEEEEAAAQQQ+LcAQcl/W/AOAQQQQAABJ3DyySfbihUr8tVo2LChrVy5Mt9j2IkAAggggAACCCCAAAIIIBBbgDUlY7uwFQEEEEDAxwLXXnutlStXLq6A9vXp0yfufnYggAACCCCAAAIIIIAAAgjkL0CmZP4+7EUAAQQQ8KHAmjVrTJmQ+S27rCxJHUNDAAEEEEAAAQQQQAABBBBIXoBMyeTNOAMBBBBAoIQLNGjQwFq2bGmlSpXK86Ta1qpVKwKSeWTYgAACCCCAAAIIIIAAAggkLkBQMnErjkQAAQQQ8JHAddddZ2XKlMnzxNqmfTQEEEAAAQQQQAABBBBAAIHCCzB9u/B2nIkAAgggUIIFfvrpJ6tVq5YdOnQo4ilLly5tmzZtsmOPPTZiOx8QQAABBBBAAAEEEEAAAQQSFyBTMnErjkQAAQQQ8JHAMcccYxdccEFEtqSyJNu1a0dA0kffAx4VAQQQQAABBBBAAAEE0iNAUDI9rlwVAQQQQKAECKgKd3SxG22jIYAAAggggAACCCCAAAIIFE2A6dtF8+NsBBBAAIESLLBr1y6rUaOG7d+/3z1luXLlTNO6jzrqqBL81DwaAggggAACCCCAAAIIIJB+ATIl02/MHRBAAAEEclSgcuXKdvHFF1vZsmXdT6dOnQhI5uhY0m0EEEAAAQQQQAABBBDILgGCktk1HvQGAQQQQCDLBHr16mV//PGH++nZs2eW9Y7uIIAAAggggAACCCCAAAK5KcD07dwcN3qNAAIIIJAhgX379ln16tXd2pLbtm2zihUrZujO3AYBBBBAAAEEEEAAAQQQKLkCBCVL7tiW6CcrVapUiX4+Hg4BBBBAAAEEEIgutIUIAggggAACCCBQkgTKlqSH4Vn8JTBo0CA755xz/PXQPC0CCBSLwNKlS03/Z0jz5s2L5f7FcdOPPvrIJk2aZLNnzy6O2+fsPbt162b871PODl/WdNz7/cuaDtERBBBAAAEEEEAgDQJkSqYBlUumX0DBAf2HcteuXdN/M+6AAAK+Fzh48KAzUMEbv7Q5c+aYAmxkaiU34vzvU3JeHB1bgN+/2C5sRQABBBBAAIGSJeCf/7oqWePG0yCAAAIIZFDAT8HIDLJyKwQQQAABBBBAAAEEEPCxANW3fTz4PDoCCCCAAAIIIIAAAggggAACCCCAAALFIUBQsjjUuScCCCCAAAIIIIAAAggggAACCCCAAAI+FiAo6ePB59ERQAABBBBAAAEEEEAAAQQQQAABBBAoDgGCksWhzj0RQAABBBBAAAEEEEAAAQQQQAABBBDwsQBBSR8PPo+OAAIIIIBAugUWLlxoVapUsddffz3dt8r56y9evNhGjBhh8+bNswYNGpgqeevn2muvzfNsHTt2tCOPPNLKlCljp556qn3++ed5jsnGDYcOHbKJEyfaueeeG7d7L7zwgrVu3do93/HHH299+vSxLVu2xD0+vx33339/yNHz1Otpp50W87SC+jd27Fg75ZRTrHLlylahQgVr2LCh3XHHHbZnz57Q9V577TUbP368/fHHH6FtvEEAAQQQQAABBBDIK0BQMq8JWxBAAAEEEEAgRQKBQCBFVyrZlxk9erQ9/vjjNnLkSLv66qttzZo1duKJJ1q1atVsxowZ9sYbb0QALFq0yObOnWudO3e2r7/+2lq2bBmxPxs/rFy50s4//3wbMmSI7d27N2YXZ8+ebT179rQuXbrYhg0bbP78+bZkyRK75JJL7ODBgzHPSdXGRPr37rvv2i233GLr1q2zbdu22QMPPGCTJk1y/fX6cdlll9lhhx1mHTp0sB07dnibeUUAAQQQQAABBBCIEiAoGQXCRwQQQAABBBBIncCll15qO3fudMGz1F21cFf67bff8s3QK9xVi37WQw89ZC+++KLNmTPHZQeGX1GBytKlS1vfvn2dY/i+XHq/bNkyu/POO61///7WokWLuF1/+umnrXbt2nb77be7DFsdqyDm0qVL7ZNPPol7Xn47nn/+eVNwPPznq6++ijgl0f4dccQRbiyOPvpoN1Zdu3a1K6+80t566y374YcfQte87bbbrHnz5tapU6e0B1NDN+UNAggggAACCCCQYwIEJXNswOguAggggAACCBROYPr06fbTTz8V7uQ0nbVq1Sq7++677d5773XZddG30TTnQYMG2caNG23YsGHRu3PmswJ0mpauLEhNe47XFNirVauWm3LtHVO3bl339vvvv/c2pfw10f4tWLDATZkP70D16tXdx+jszzFjxrhgqjIpaQgggAACCCCAAAJ5BQhK5jVhCwIIIIAAAgikQODDDz+0evXquQDTk08+6a44ZcoUq1Spkh1++OFuaq6m5Wp9vuOOO85mzZoVuqsyBDUF9phjjrF+/fq5QJU+K0gXnjE3cOBAK1++vNWsWTN07s033+zuobUDNcVWTYG9oUOH2urVq11/tBagmjLcdP9x48a5z5n+Q8+pDD5N+Y3XtC5i48aN7ZlnnjGtO5lf07UmTJhgTZo0ccG/qlWr2hVXXGHffvtt6LREx0AnaF3Ee+65x41jxYoVrVmzZqYp1ulqWkszOnDsrSepfdnYFDCWTf369SO6J/sLLrjATe/WuNAQQAABBBBAAAEEIgUISkZ68AkBBBBAAAEEUiTQpk0b+8c//hFxtQEDBtjgwYNNU6lVqEUBLgUKFXC66aab7MCBA+54BRt79+7t1h7UVFit4adiLlpX8MILLwxNlVVQT1Now9vkyZNd5mH4NmWraf1FrdOoAJEyFNW8YiQqcFIcTWtFnnTSSS5IG+/+Cng999xzbhq3jH799dd4h5qy81Qs56677nLBPa3HqOzDtm3b2o8//ujOS3QMdLCmXD/88MOuOM3mzZudYY8ePeyzzz6L24ei7NCamgpCPvHEE7Z79263XqbG7qKLLrKzzz67UJeWhwKECl4rcKgg7aefflqoa0WfpOxIrTOpcdH1o9vpp5/uslw1PZyGAAIIIIAAAgggEClAUDLSg08IIIAAAgggkCEBZT0qS7FGjRrWvXt3F2xbv359xN3Lli0byvpT1WNl+SlY9eyzz0YcV9gPWvNy165dbgp1Ya9R2PMUXFy7dq0LlBZ0jXPOOccFcxWcVaAwVlOgV1mSV111lfXq1cutydi0aVN76qmnXMbo1KlT85yW3xjs27fPeWvNRBXfOeqoo2zUqFFWrly5lPlHd0iZhcOHDzcFpfXdUJVsjbeyRAvTrr/+elM1bAVmVSFb2bj6juk+KhBU1KZCN5purmzWWK1Ro0Zu85dffhlrN9sQQAABBBBAAAFfCxCU9PXw8/AIIIAAAghkh4CXZeZlSsbrVatWrVxWYfh05HjHZvt2TVNW1qamsifSFPhSVqUyQTU1PropyKbAm4zCW+vWrV0WX/i09/D93vvoMVixYoXLVFVg0GvK2tRU+XT5K8NTwdN33nnHPYuqkCtwqqBseCEZrz8FvWo9SmUrqkCNnk/ZlgpoK4Arx6K0l19+2RUnevvtt/MUKPKu642tl6XqbecVAQQQQAABBBBAwIygJN8CBBBAAAEEEMgpARVK2bp1a071OVZnlYmoll/hl/DztKamAmpaK/OGG25wgbXw/Tt27HAfFYCLbv+PvfuAk6pI9///IIiBoCTJY0IEA4LIb0FhDayoeFEMJMUVFCWoiCAiqICwKIgLXAWuoly9F0wEFQOGa1rX1yKrV4LKShKVrGQQJcj5n2/d/2m7e6Znumd6enq6P/V6Dd19QlWdd/WoPFbVo1mOmnGYSAmWiWt2pNoMfpRwJjqpSyL1xrpWy8PHjRtnt956q1100UVuX1Att37qqadsw4YNNn78+Fi3JnRcs0fLli1rK1asSOi+8IuVLV1Z0z/66CM74YQTwk9FvFcQVyUY64iTfEAAAQQQQAABBLJcgKBkln8BeHwEEEAAAQRKk4BmUir4psQ4pb0EAatgX8t4nkczBgcOHGgrV6600aNHR9yiwKNKXsHHwphpWb3KxIkT3YxOzeoMfhYsWODOJfMPPZMs6tSpE1GtlnFXrVo1KcutVbH2D9VPvMHgiM74H7Tf5cyZM91ektF9jb52//797lAw1tHn+YwAAggggAACCGSzAEHJbB59nh0BBBBAAIFSJqCZaQqMhSc90b6TBS37TsfHVGZxzT7cuXNnQt1TMLJRo0a2aNGiiPu0zFqzJKOT0GjZtoJjzZs3j7i+oA9a+qzZmYsXLy7o0qScDwLNmjEZXhRk3bZtm6k/iRYlyIkuSnKj75ACvIkU3aP9LrU/5KuvvuqsC7o/GNuaNWsWdCnnEUAAAQQQQACBrBMgKJl1Q84DI4AAAgggUHoENKNt+/btLuv20qVLbcCAAZaTk+MycwdP0aBBAxe0UqBIwUkt7dYS4+ii2XZaBqxkMQp06dq33nrLJVQZM2ZM9OXF/ln7DSrr+Lp16xJqK1jGrSXI4UXHBw0aZNrrUDP5lMBHAbS+ffu6ZCy9e/cOv7zA96qvZ8+eLjmMEgypPs1kVH+DwKESFCngpszoRS1aqn3hhRe65drKGq59H7WPZNDvm2++OdREvO2uX7/etNRaM0U13prh2atXL/cdkksiZdmyZS4TuZaTK9lPsJw9eH300UdzVReMrZaMUxBAAAEEEEAAAQQiBQhKRnrwCQEEEEAAAQSSJDB58mRTkhUVzTC78sorXTZnLQdWadKkiSmRiYI8CqapXHrppW5psvvg/6G9+BTQ0fLXNm3aWMOGDe3DDz+MWHrbr18/F8zq1q2bSwSjmYTBctnwBCkKQml2orJ4t2/f3gUyg3ZK6lXZv5WgRgG4oLzyyiumQOvq1aud3x133BGcCr1qpqiWcUeXESNGmDJCjxo1yqpXr+6yTGvPQ80wrVChgrtcAcZ4x2DSpEku67f2eqxWrZoLbiowrECximZgKmHPvHnz3OdYf3z66afWunVrtzRbMzeXLFni6jrvvPNMAUgVBfdmz57tMrErAFmlShU3VsqWPXfuXDf+Qf3xtqvvk/bE1CxMBYE7d+5salP90fMEJZ7+aaZkokWzMuvWreu+64ney/UIIIAAAggggECmC5Tx/wMr8f/CynQVni/tBfQXl5deesn95SLtO0sHEUAAgVIoMGvWLOvSpYtb5lpS3e/Tp48LUm3durWkupBwu4n++2nVqlXWuHFjl8Cme/fuCbdX0jdoJusFF1zgZq4q+U6qSkm1m8jz6XurYKiypgdB93jvT4ffv3j7ynUIIIAAAggggEBhBZgpWVg57kMAAQQQQACBYhdIJAlMsXemGBrQjEjNatTPnj17iqGF4qtSY6Ml81oKr+XUqSol1W6izzdy5Ehr2rSp9e/fP9FbuR4BBBBAAAEEEMgKAYKSWTHMPGS6C2h/q0qVKrmla6lKKKAlldqPTH9hSnXRHmXaq0wzirQ0k/K7gJYoao852YT/KJGHlmL+6U9/cvvF/X5H8byLd4yi+3vDDTfk6lC7du3c91vft9NPPz0pe8/laiSJB7QvXJCA5IknngjVPH/+fDvmmGPs9ddfDx0rjjepaqc4+k6dhRMYOnSoderUyQX2gsQohasptXdpSbj+GaB9ObU0OlWlpNpN5PkmTJjgEgTp91n7T1IQQAABBBBAAAEEcgsQlMxtwhEEUi7w9NNPuz3VUtmw9rlSQoGSKM8884zdfffdJdF02rd5zTXXuD32Tj75ZBcA0w4b+lHiDm1ZoKQNukbvi7PEO0bh/dX+bEqu8eabb0Z07d1333VLcDt06OD2zjv77LMjzqfbB303//GPf+TqVqp2O0lVO7keMM0ODBs2zC1pVpBOCVDmzJmTZj1MbneUaEcz6h5++OHkVlyMtbVt29aee+45q1WrVjG2krvqkmo3d0/yPqL9Nfft2+f28dS+mBQEEEAAAQQQQACBvAUISubtwlEEskZAs/GKWpSg4dxzzy1qNdyfj4D+Yqu/iP/7v/+7u0r7jSVSUjFGjz32mB122GEuU25pmu0Vr6MSkui5FFxNVslrXIqjnWT1N5X1KFmLAjsK0q5Zs8auvfbaVDZfIm1pVvHYsWNLpG0aTZ6AEjpp9mt0dvTktUBNCCCAAAIIIIBAZggQlMyMceQpMkAgGcHBwjAkY1nZ9OnTXfbVwrRfUs9dmL6mwz0n+Fl0VXbs2OFe4/0jFWOkwLSy8mo2JzNh4xuZooxLfC1wFQIIIIAAAggggAACCCCQngIEJdNzXOhVkgW0Kf7w4cMtJyfHjjrqKGvSpElo+evUqVOtQoUKbj8sLbm67LLLrHLlyi5j5gsvvJCrJzNmzLBzzjnH7Ymo+xQkGj16tLtOM3q0j5QyqR5xxBGm2W0dO3a0b775JqIeXTd+/Hg79dRT3XXap27w4MER1+hDfv1+5JFHXJ+1F+WPP/7oMnvWrVvXli9fnque/A4o82ujRo2cgWzatGljn3zyScQtf//73+20005zy4m1F+SZZ55p77zzjrtGQShlFV29erXbA1FJG4KSn5Wu0aw6LfWVuQxq165t//mf/xncHvdrImMYzxjFsu3bt69zUr+bN29uNWvWdHuF6XugJcmyq1+/vvtuHHvssXbPPfdEPMPbb7/tvltaplnYsnTpUnfr+eefH1FFuoyRssw2bNjQtCXBe++9F9HH6A8lORb5eUX3U5/1O6F/fiiIPnnyZHeJfnf0Oa+f//mf/3HX5NdOXr87ebWjiuKxSuT3wHWOPxBAAAEEEEAAAQQQQACBkhTw/6JDQaDUCfi/M56/p17c/fZnbXl+kNDz9yTztm/f7vl7lXl+YMnz91V0ddx3332e6nz//fc9f3mm5wf5PD/A5PnBJm///v2hdiZOnOiu8/f88rZu3ept27bNe/LJJ73rr7/eXeMHPr3y5ct7fjDO82eyeX4AyfODVZ6foMTbtGlTqB615wcyvL/+9a+uP3v37vWmTJni6l60aFHounj7feedd3qPP/64d/XVV3v/+te/QvcX9MZfDuz5SVU8f2mkd+DAAe+rr77y/vCHP3h+4NFbsWJF6PbZs2d7fhZR97x67pYtW3r+/oGh8/6+gp6/B2Los94UZBVuLitZtm/f3o3Tzz//HFFXPB/C68tvDBMZI30nom1HjBjhxmnhwoWe+rllyxbv0ksvdcf8AKvn7/3ojvt7w7ljfuKiUPffeOMNzw8ie36W3dCxWG/k6QdqQ6f1HfGTSXjHH3+85y/x9PwsvaFzelPSY6T+6nuk4u/H6H6//IB9qJ/qu7+k0Z0P/ijJsSjIa+XKlW78/uM//iPorrd27Vp3TL9rKrrm3nvvdeOtzxs3bvT8/xHh+TNGPf9/KOhQocYluh3Vk6hVQf8sU50FFf0zVr8DlMQEEv33U2K1c3W2CPD7ly0jzXMigAACCCCQ3QL8bSO7x7/UPn0if+nz92zz/KygXteuXUPPqwCPgpT9+vVzx4KAlq4NShAk9GdDuUMKTvqz3zw/OUxwiXs9ePCgN2nSJE91VqxYMaIdXfDPf/7T/cU+CETpOvXn4osvjqjHn5XprguCkoXtd0SlBXxQUPKss86KuEqBVPkqIBqr+Hu9uWsUvFWJDkoWZKV78jL/7//+b1evgqOJlrzqix7DeMcoVv90PAhK7t69O9TF//qv/3L9/vLLL0PHgnF/8cUXQ8cSeaMgn8Yh+sefpeqpPX+vvXyrS/UYhQcl1TF/9qzr++233+76GR2UTLexiPaKJygZPQBXXXWVC+j7M6OjT4U+R7cT/bujC6ODkkW1iv49CHWmgDcERQoAinE6kX8/xaiCwwi4//Gq7xIFAQQQQAABBBDIZIFy/n/wUBDIaAEtZ/b/Um9nnHFG6Dm1TFnZQqOXVYcu8N/4Mx7dR38GoXvVslnt43fJJZeEX+Y2svdn09nnn39u/uw1t7Q7/IIWLVq4uvyZde6wlnyqP0pakl8pbL/zqzOec1qaraXUwTLhvO4J9qHU8vK8SkFWed2jY0G9gXms6+I9Hj2GX3/9dVxjFG/9wXVBO36AOjiUlGfROAR7R6ruzZs3mzJZK0OvH9xyS4r9WbihNsPfBJYlNUZaxu3PDDU/IGZdunQJ75p7n25jUZBXrgeIOqDEQ6+88oqNGzfObcsQdTr0sTDtFNUq+H4W9vcq0aRKoYfN4jcLFizI4qfn0ZMhwHcoGYrUgQACCCCAAALpLkBQMt1HiP4VWcBfYuvquP/++00/4UV7GMZbdu3a5S7VXoF5lSB45M+WzHVa9/gz69zxdevWudcaNWrkui78QLL6HV5nvO8VOAkPYGjfR+2BqeCIHMLP5VVnQVZ53ZOKY/GOUSr6kmgb5cqVM+0Z2rNnT7fX6C233GL+NgLmbwHgqkq3MdLeo88884y1bt3abrrpJhesC3/mkh6LRL3C+x793t/SwO644w7T/4DQ/qrhJRntlLRVXkHl8GfkfW4Bf/a86YeCAAIIIIAAAggggAACsQVIdBPbhjMZIhAE//w9Dl2yCH/qc+g1kZkIderUcSL+HoJ5ygTByiD4GH6Rggr16tVzhxSsUfGX37rXWH8kq9+x6o91XDPy/P0dXVIPXfPDDz+YvyzVzSzVbE9/v8ZcAabougqyir4+VZ/jHaNU9aew7Wg2q8qyZcvca7qOUatWrWzgwIHmL4UOJYNyHfb/KMmxKIxX0O+8XjVTWr/jCsKWLVs2dEmy2ilJKz1M+D8zef/7vz9iWcjMX/qOW9i/a2NZcTz290nfIQoCCCCAAAIIIJDpAgQlM32Eeb5QNmQ/4UiRNJRlu2rVqm75bF4VaXm4ZklqGXd4USDP32PRZWvWcV2n7M1/+9vfwi/L9T7I4lzUfuequIADH374oR06dMhlk9al/j6Jbmakv/+m+UlxXGZpZRvOrxRkld+9xXku3jEqzj4ko+7//d//ddUoe7tKOo+RMtMru7u/V6rra/BHSY5FYbyCfke/aibkc889Zw888ICdfvrpodODBw8u1LiEKgh7U5JWYd3gLQIIIIAAAggggAACCCCQVAGCkknlpLJ0FNDMRC159RPJ2NSpU93yY+2zp2XUfrbcuLvsJ8YxP2u3ffzxx25Pv/Xr17vgnWZGasaa2tHSzZdfftlmzpzp2lHwo2/fvqZl4r1793ZtaQakn9zC/EzgNn36dHed9mCcNm1aRF+S1e+ISvP4oICpZj9qhuQXX3zhns3P8Gw9evRwV+fk5LjX9957z3799Vc36y3YHzOoTsHaDRs22HfffeeWqSvomp9VcF+qX+Mdo+Lql5/sxSpXrmxjxoyJuwk/4ZH7nmlGkYw1G0/bEGgvybvuusvVk85jJPPoGYTqdEmORTxe8QyQtino06ePNW3a1Pws3O4W/Y7of0zofybE0070705eWyOUpFU8DlyDAAIIIIAAAggggAACCBRKwP+LLgWBUifgf9ldZsp4O65MxUOGDPH8IIHn783n+YFBlzHa3yPRU2ZaZcNWnaeccoq3evVqzw8Qen7wyB3zA3TeihUrQk1NnjzZUwZkP1Dgfpo1a+bq0AX+DEPP33vR1ePvy+hVqVLFU0ZeP2lN6H69UebmXr16edWqVXMZu/1997zhw4e79vxl3t6SJUvc9fn120+o4fkJe9w9/qxKb8aMGRFtxPPBDxa5bOLHHXecc1F/unXr5n3//fcRt8vOD5647OOdOnXyZCAvZVz2l6h6fjDTk5P6o2fZtGmTuz+WVXjfA3M/kOu8VK8MEsnAncgYxjNG4f0Lt1WW9eC74s8G9f7+9797Y8eO9fyENM6jZs2anj9rzlPGbb3Xs+g7oMzqKvPnz/cqVark+Ulg3Oe8/vCD2s5V90b/KGO8vJQ1Xu7hpaTGKLy/fqDUC7Jth/dN7/2Zg96VV14ZcbgkxyI/rwEDBoTGr0KFCt7VV1/tPf74456fHMuNib4DV1xxhffoo4/mGqNgzNq3b++eNb928vrd8QPOudpRRfFYJfJ7EDEQMT6QfTsGTAGH9R2QHQWBogjw+1cUPe5FAAEEEEAAgdIiUEYd9f8DmoJAqRLQ8mHtt9S5c+dS1W86iwACCJQWAWXdVpIb/jMhsRHj30+JeXF13gL8/uXtwlEEEEAAAQQQyCwBlm9n1njyNAgggAACCCCAAAIIIIAAAggggAACCKS9AEHJtB8iOohA/ALffPONaZZOQT9du3aNv9ISujKTnqWECGkWAQQQQAABBBBAAAEEEEAAgbQVICiZtkNDxxBIXEBZjrXUsqAff8/DxCtP8R2Z9CwppqM5BBAopQJKKDZ06FCbO3eunXTSSaH/wXTDDTfkeqJ27dqZv0etlS1b1mV+V6Ky0lD8/VFt4sSJdu6558bs7vPPP28tWrRwz6fEa0pW5+9VHPP6/E74e/iGHMP/h52y2udVCurfqFGj7LTTTnNJy5QAr0GDBnbPPffYnj17QtW99tpr5u9NbEqqR0EAAQQQQAABBBCILUBQMrYNZxBAAAEEEEAAgZQIjBgxwh577DEbNmyYXXPNNfbtt9+an0zM/ARk5icCszfffDOiH++++67Nnj3bOnToYH7SNjv77LMjzqfjh5UrV9of//hHGzhwoO3duzfPLmq/6Ouvv978pGq2bt06mzdvnn388cd22WWX2cGDB/O8J1kH4+nfBx98YH5CL/vuu+9sy5Yt9tBDD5mfBM31N+iHnwjL/GR41rZtW9uxY0dwmFcEEEAAAQQQQACBKAGCklEgfEQAAQQQQACB9BD45Zdf8p1Rl4xepqKNgvo5duxY0wx2JTfR7MfwokDlYYcdZr1797adO3eGnypV75csWWL33nuv9e3b15o2bRqz708++aTVqVPHBg8ebMccc4y7VkHMxYsX28KFC2Pel9+JGTNm5FpB8NVXX0XcEm//Klas6MaiatWqbqyUcO+qq66yt99+29auXRuq884777SzzjrL2rdvX+zB1FCjvEEAAQQQQAABBEqZAEHJUjZgdBcBBBBAAIFsEZg+fbr9+OOPxfq4qWgjvwdYtWqVPfDAA/bggw+62XXR12qZ84ABA2z9+vV29913R58uNZ8VoNOydM2C1LLnWEWBvdq1a7sl18E19evXd2+///774FDSX+Pt3xtvvOGWzId3oHr16u5j9OzPkSNHumCqZlJSEEAAAQQQQAABBHILEJTMbcIRBBBAAAEEECiEgPaznTBhgjVu3NgFnqpUqWIdO3Y0Ja4KSv/+/a18+fJWq1at4JDddtttVqFCBReI0pJYFQXiBg0aZKtXr3bHtXefZg1qWexxxx1nffr0ccErfVbgLnwWXVHaUNua9Va5cmUbM2aMPhZr0TPJTUt+YxXti9iwYUN7+umnTftO5lfiGYOpU6c676OPPtotj9bSaD1vvXr17IUXXoioXvsiDh8+3HJycuyoo46yJk2amJZYF1fRXprRgehgP0mdS8eigLFsTjzxxIju6ft//vnnu+XdGhcKAggggAACCCCAQKQAQclIDz4hgAACCCCAQCEFNDNMiVruu+8+F1jSXoCa+damTRvbvHmzq1VBOC15DS9TpkxxMwXDj2l2mfZL1L6KCuhoRqGCjT169HD7EWp5rPb1U4IX7TV48cUXh5bPFqUN9SFIUKKkJ8VdtFfkqaeeagoQxioKeD377LNuGfctt9xiP//8c6xLLZ4x6Nevn911112mpetaLq4go4K/Cvqp/gMHDoTq15LrRx55xCWn2bhxoxuT6667zj7//PPQNcl8oz01FYR8/PHHbffu3W6/TH0XLrnkEmvZsmWhmtJ3UgFCBcMVOFSg/LPPPitUXdE3aXak9pmUm+qPLs2aNXOzXLU8nIIAAggggAACCCAQKUBQMtKDTwgggAACCCBQCAEFuDRL8uqrr7bu3bu7/QDPPPNMe+KJJ1xCkGnTphWi1rxvKVeuXGg2pjIha+afAljPPPNM3jckePTyyy+3Xbt2uWXVCd6a0OUKLq5Zs8YFXgu6sVWrVi6QqECsAoV5lcKMgWaZapZkjRo1rGvXri7g+cMPP7jqf/31V2erPROVfOfYY4+1+++/3w4//PCkWUc/h2YWDhkyxAWg1S9lydbYapZoYcqNN95oyoat4LgyZGsmqJ5P7ShBUFGLEt1oublms+ZVTjnlFHf4yy+/zOs0xxBAAAEEEEAAgawWICiZ1cPPwyOAAAIIIJAcAQV4FPQ555xzIips0aKFm0EWvrw64oIkfFCbmmkYvkw8CdUWexVapqxZoPnNkgzvhAJfmlWpmaWffPJJ+Cn3vqhjEMz0C2ZKLl++3M1KVWAwKJq1qaX3xWWtWbYKYL///vvu+6Qs5AqcKigbnkgm6E9Br9qPUrMVlaBGz6fZlgpeK4Arx6KUl19+2SUneuedd3IlKArqDcY2mCkcHOcVAQQQQAABBBBAwIygJN8CBBBAAAEEECiywI4dO1wdCv5EF82w02y34ixKnvLTTz8VZxNJr1szEVXyS/wS3qj2z1RArUyZMnbTTTe5wFr4+WSPQbBMXLMj1Wbwo4Qz0UldwvtR2PdaHj5u3Di79dZb7aKLLnL7Xmq59VNPPWUbNmyw8ePHF7bqiPs0g7ds2bK2YsWKiOOJfFC2dGVN/+ijj+yEE06IeauCuCrBWMe8kBMIIIAAAggggEAWChCUzMJB55ERQAABBBBItoACjyp5BR8VLFMSleIqmtlX3G0UR9+DgFWwh2U8bWjG4MCBA23lypU2evToiFuSPQZa0q0yceJEN6NTszqDnwULFkS0nYwPeiZZ1KlTJ6I6LeOuWrVqUpZbq2LtFaqfeIPBEZ3xP2i/y5kzZ7q9JKP7Gn3t/v373aFgrKPP8xkBBBBAAAEEEMhmAYKS2Tz6PDsCCCCAAAJJEtASX82SjE6AomXbCsw0b9481JL2hAyWCIcOFuGNZqspWBaeCCXZbRShezFvVRZxzT7cuXNnzGvyOqFgZKNGjWzRokURpxMZg4gbY3zQ0mfNzly8eHGMK5J7OAhca8ZkeFGge9u2bab+JFqUICe6KMmNvi8K8CZSdI/2u9T+kK+++qr7vhd0fzC2NWvWLOhSziOAAAIIIIAAAlknQFAy64acB0YAAQQQQCD5AgpeDRo0yLTPnmaRKVGMgjd9+/Z1iUB69+4darRBgwYuyKTAjoKTWnatJcHRRbPjtGxXyV0UmAoCmZrltn37dpd1e+nSpTZgwADLyclxmbmDOorSxltvveWSv4wZMyaorlhetd+gMl6vW7cuofqDZdxaghxeEhmD8PtivVd9PXv2dMlhlExIY6qZjOpvEDhUchwF3JQFvahFS7UvvPBCt1xbmdu176P2kQy+OzfffHOoiXjbXb9+vWmptWbS6vujGZ69evVy3xd9NxMpy5Ytc5nItZxcyX6C5ezB66OPPpqrumBstWScggACCCCAAAIIIBApQFAy0oNPCCCAAAIIIFBIgREjRpiyEY8aNcqqV6/uMhxrvz3NZKxQoUKo1n79+rngU7du3VziFs38C5a3hic0UdBIswmVYbt9+/YukKlKtD+fgjy6p02bNtawYUP78MMPI5bjFrWNUGeL+Y0yfStBjQJwQXnllVdMQdXVq1ebEgXdcccdwanQq2aFahl3dIlnDBRg1JJslSZNmpiSySjQpqCyyqWXXuqWh+v9pEmTXNZv7fVYrVo1F2BWEFhBYRXNglXCnnnz5rnPsf749NNPrXXr1m5ptmbPLlmyxNV13nnnmQKQKgruzZ4922UBVwCySpUqbuyVLXvu3LlurIP6421Xz6I9MTULU0Hgzp07m9pUf/Q8QYmnf5opmWjRrMy6des650Tv5XoEEEAAAQQQQCDTBcr4/4GV+H9hZboKz5f2AvqLy0svveT+cpH2naWDCCCAQCkUmDVrlnXp0sUtc02n7vfp08cFrrZu3ZpO3Qr1JdF/P61atcoaN27sEth07949VE9peaNZqxdccIGbparkO6kqJdVuIs+n76iCocqaHgR8470/XX//4u0/1yGAAAIIIIAAAvEIMFMyHiWuQQABBBBAAIG0EUgkMUzadDpGRzQjUjNL9bNnz54YV6XnYY2DluBrab2WU6eqlFS7iT7fyJEjrWnTpta/f/9Eb+V6BBBAAAEEEEAgKwQISmbFMPOQCCCAAAIIIJCuAkOHDrVOnTq5wF6QGCVd+xreLy3L17Jq7cGppdGpKiXVbiLPN2HCBJcgaP78+W7/yUTu5VoEEEAAAQQQQCBbBAhKZstI85wIIIAAAgiUcoFhw4a5Zc4K3Ckpypw5c0r5E/3efSXV0Yy6hx9++PeDaf6ubdu29txzz1mtWrVS2tOSajfeh9T+mvv27XN7qWpfTAoCCCCAAAIIIIBA3gLl8j7MUQQQQAABBBBAIL0ElERHP5la2rVrZ/qhlG6BK6+80vRDQQABBBBAAAEEEMhfgJmS+ftwFgEEEEAAAQQQQAABBBBAAAEEEEAAAQSSLEBQMsmgVIcAAggggAACCCCAAAIIIIAAAggggAAC+QsQlMzfh7MIIIAAAggggAACCCCAAAIIIIAAAgggkGQBgpJJBqU6BBBAAAEEEEAAAQQQQAABBBBAAAEEEMhfoIznl/wv4SwC6SdQpkwZa9mypdWrVy/9OkePEEAAgQwQWLdunX366ad27bXXZsDTpO4RlBGcfz+lzjtTWwp+//jP9EwdYZ4LAQQQQAABBCRAUJLvQakU6NSpU6nsN51GAIHSKbBo0SLX8WbNmpXOB6DXCCBQKgVmz55dKvtNpxFAAAEEEEAAgXgECErGo8Q1CCCAAAJZLdC5c2f3/LNmzcpqBx4eAQQQQAABBBBAAAEEEEiWAHtKJkuSehBAAAEEEEAAAQQQQAABBBBAAAEEEEAgLgGCknExcRECCCCAAAIIIIAAAggggAACCCCAAAIIJEuAoGSyJKkHAQQQQAABBBBAAAEEEEAAAQQQQAABBOISICgZFxMXIYAAAggggAACCCCAAAIIIIAAAggggECyBAhKJkuSehBAAAEEEEAAAQQQQAABBBBAAAEEEEAgLgGCknExcRECCCCAAAIIIIAAAggggAACCCCAAAIIJEuAoGSyJKkHAQQQQAABBBBAAAEEEEAAAQQQQAABBOISICgZFxMXIYAAAggggAACCCCAAAIIIIAAAggggECyBAhKJkuSehBAAAEEEEAAAQQQQAABBBBAAAEEEEAgLgGCknExcRECCCCAAAIIIIAAAggggAACCCCAAAIIJEuAoGSyJKkHAQQQQAABBBBAAAEEEEAAAQQQQAABBOISICgZFxMXIYAAAggggAACCCCAAAIIIIAAAggggECyBAhKJkuSehBAAAEEEEAAAQQQQAABBBBAAAEEEEAgLgGCknExcRECCCCAAAIIIIAAAggggAACCCCAAAIIJEuAoGSyJKkHAQQQQAABBBBAAAEEEEAAAQQQQAABBOISICgZFxMXIYAAAggggAACCCCAAAIIIIAAAggggECyBAhKJkuSehBAAAEEEEAAAQQQQAABBBBAAAEEEEAgLgGCknExcRECCCCAAAIIIIAAAggggAACCCCAAAIIJEuAoGSyJKkHAQQQQAABBBBAAAEEEEAAAQQQQAABBOISICgZFxMXIYAAAggggAACCCCAAAIIIIAAAggggECyBAhKJkuSehBAAAEEEEAAAQQQQAABBBBAAAEEEEAgLgGCknExcRECCCCAAAIIIIAAAggggAACCCCAAAIIJEuAoGSyJKkHAQQQQAABBBBAAAEEEEAAAQQQQAABBOISICgZFxMXIYAAAggggAACCCCAAAIIIIAAAggggECyBAhKJkuSehBAAAEEEEAAAQQQQAABBBBAAAEEEEAgLgGCknExcRECCCCAAAIIIIAAAggggAACCCCAAAIIJEuAoGSyJKkHAQQQQAABBBBAAAEEEEAAAQQQQAABBOISICgZFxMXIYAAAggggAACCCCAAAIIIIAAAggggECyBAhKJkuSehBAAAEEEEAAAQQQQAABBBBAAAEEEEAgLgGCknExcRECCCCAAAIIIIAAAggggAACCCCAAAIIJEuAoGSyJKkHAQQQQAABBBBAAAEEEEAAAQQQQAABBOISICgZFxMXIYAAAggggAACCCCAAAIIIIAAAggggECyBMolqyLqQQABBBBAIBME9u7da/v27Yt4lP3797vP27dvjzh+xBFH2NFHHx1xjA8IIIAAAggggAACCCCAAAIFC5Tx/FLwZVyBAAIIIIBAdghMnTrVbrvttrgedsqUKdavX7+4ruUiBBBAAAEEEEAAAQQQQACB3wUISv5uwTsEEEAAAQTsp59+stq1a9tvv/2Wr0bZsmVt48aNVqNGjXyv4yQCCCCAAAIIIIAAAggggEBuAfaUzG3CEQQQQACBLBZQkLFt27amoGOsonN/+tOfCEjGAuI4AggggAACCCCAAAIIIFCAAEHJAoA4jQACCCCQfQLdu3e3/HY30TldQ0EAAQQQQAABBBBAAAEEECicAMu3C+fGXQgggAACGSywe/duNwsyOuFN8Mjly5d3y7wrV64cHOIVAQQQQAABBBBAAAEEEEAgAQFmSiaAxaUIIIAAAtkhUKlSJevQoYMdfvjhuR64XLlyduWVVxoByVw0HEAAAQQQQAABBBBAAAEE4hYgKBk3FRcigAACCGSTwPXXX28HDx7M9chKgKNzFAQQQAABBBBAAAEEEEAAgcILsHy78HbciQACCCCQwQL79++36tWrm5Zyh5eKFSvali1b7Igjjgg/zHsEEEAAAQQQQAABBBBAAIEEBJgpmQAWlyKAAAIIZI+A9o3s1KmT6TUoWs7dpUsXApIBCK8IIIAAAggggAACCCCAQCEFCEoWEo7bEEAAAQQyX+C6664zzZgMyoEDB0zHKAgggAACCCCAAAIIIIAAAkUTYPl20fy4GwEEEEAggwUOHTpktWrVcpm29Zhazr1p0yYrW7ZsBj81j4YAAggggAACCCCAAAIIFL8AMyWL35gWEEAAAQRKqcBhhx3mZkZqCbeWbivBDQHJUjqYdBsBBBBAAAEEEEAAAQTSSoCgZFoNB51BAAEEEEg3gW7durkl3CzdTreRoT8IIIAAAggggAACCCBQmgXKlebO03cEskFgwYIFtnbt2mx4VJ4RgbQU8DzPqlWr5vq2Zs0a++6779Kyn3QKgWwQqF+/vrVq1SobHpVnRAABBBBAAAEEMl6APSUzfoh5wNIuoOy/c+bMKe2PQf8RQAABBBAossC1115rs2fPLnI9VIAAAggggAACCCBQ8gLMlCz5MaAHCBQowF/CCiTiAgSKVWDZsmWu/hEjRrhXgiLxc8+aNcu6dOlimnFKQaAoAvqfdBQEEEAAAQQQQACBzBEgKJk5Y8mTIIAAAggUk8Bpp51WTDVTLQIIIIAAAggggAACCCCQnQIkusnOceepEUAAAQQQQAABBBBAAAEEEEAAAQQQKDEBgpIlRk/DCCCAAAIIIIAAAggggAACCCCAAAIIZKcAQcnsHHeeGgEEEEAAAQQQQAABBBBAAAEEEEAAgRITIChZYvQ0jAACCCCAAAIIIIAAAggggAACCCCAQHYKEJTMznHnqRFAAAEEEEAAAQQQQAABBBBAAAEEECgxAYKSJUZPwwgggAAC2Sowf/58O+aYY+z111/PVoK4n/u9996zoUOH2ty5c+2kk06yMmXKuJ8bbrghVx3t2rWzSpUqWdmyZe3000+3L774Itc16Xjg0KFDNnHiRDv33HNjdu/555+3Fi1auOc7/vjjrWfPnrZp06aY1+d34i9/+UvIMfDU6xlnnJHnbQX1b9SoUaYM9ZUrV7YjjjjCGjRoYPfcc4/t2bMnVN9rr71m48aNs99++y10jDcIIIAAAggggAAC2S1AUDK7x5+nRwABBBAoAQHP80qg1dLX5IgRI+yxxx6zYcOG2TXXXGPffvutnXzyyVatWjWbOXOmvfnmmxEP9e6779rs2bOtQ4cO9vXXX9vZZ58dcT4dP6xcudL++Mc/2sCBA23v3r15dvGll16y66+/3jp16mTr1q2zefPm2ccff2yXXXaZHTx4MM97knUwnv598MEHdvvtt9t3331nW7ZssYceesgmTZrk+hv044orrrAjjzzS2rZtazt27AgO84oAAggggAACCCCQxQIEJbN48Hl0BBBAAIGSEbj88stt586dLnhWMj34vdVffvkl3xl6v1+Z2ndjx461F1980WbNmuVmB4a3rkDlYYcdZr1793aO4edK0/slS5bYvffea3379rWmTZvG7PqTTz5pderUscGDB7sZtrpWQczFixfbwoULY96X34kZM2aYguPhP1999VXELfH2r2LFim4sqlat6saqc+fOdtVVV9nbb79ta9euDdV555132llnnWXt27cv9mBqqFHeIIAAAggggAACCKStAEHJtB0aOoYAAggggEDxC0yfPt1+/PHH4m8ogRZWrVplDzzwgD344INudl30rVrmPGDAAFu/fr3dfffd0adLzWcF6LQsXbMgtew5VlFgr3bt2m7JdXBN/fr13dvvv/8+OJT013j798Ybb7gl8+EdqF69uvsYPftz5MiRLpiqmZQUBBBAAAEEEEAAgewWICiZ3ePP0yOAAAIIpFjgk08+sZycHBdgmjx5smt96tSpVqFCBTv66KPd0lwty9X+fPXq1bMXXngh1EPNENQS2OOOO8769OnjAlX6rCBd+Iy5/v37W/ny5a1WrVqhe2+77TbXhvYO1BJbFQX2Bg0aZKtXr3b90V6AKprhpvbHjBnjPqf6Dz2nZvBpyW+son0RGzZsaE8//bRp38n8iuqaMGGCNW7c2AX/qlSpYh07drRvvvkmdFu8Y6AbtC/i8OHD3TgeddRR1qRJE9MS6+Iq2kszOnAc7Cepc+lYFDCWzYknnhjRPdmff/75bnm3xoWCAAIIIIAAAgggkL0CBCWzd+x5cgQQQACBEhBo3bq1/eMf/4houV+/fnbXXXeZllIrUYsCXAoUKuB0yy232IEDB9z1Cjb26NHD7T2opbDaw0/JXLSv4MUXXxxaKqugnpbQhpcpU6a4mYfhxzRbTfsvap9GBYg0Q1ElSEaiBCclUbRX5KmnnuqCtLHaV8Dr2Wefdcu4ZfTzzz/HutQ0O0/Jcu677z4X3NN+jJp92KZNG9u8ebO7L94x0MVacv3II4+45DQbN250htddd519/vnnMftQlBPaU1NByMcff9x2797t9svU2F1yySXWsmXLQlUtDwUIFbxW4FBB2s8++6xQdUXfpNmR2mdS46L6o0uzZs3cLFctD6cggAACCCCAAAIIZK8AQcnsHXueHAEEEEAgDQU061GzFGvUqGFdu3Z1wbYffvghoqflypULzfpT1mPN8lOw6plnnom4rrAftOflrl273BLqwtZR2PsUXFyzZo0LlBZUR6tWrVwwV8FZBQrzKgr0apbk1Vdfbd27d3d7Mp555pn2xBNPuBmj06ZNy3VbfmPw66+/Om/tmajkO8cee6zdf//9dvjhhyfNP7pDmlk4ZMgQU1Ba3w1lydZ4a5ZoYcqNN95oyoatwKwyZGs2rr5jakcJgopalOhGy801mzWvcsopp7jDX375ZV6nOYYAAggggAACCCCQJQIEJbNkoHlMBBBAAIHSJxDMMgtmSsZ6gnPOOcfNKgxfjhzr2nQ/rmXKmrWppezxFAW+NKtSM0G1ND66KMimwJuMwkuLFi3cLL7wZe/h54P30WOwfPlyN1NVgcGgaNamlsoXl79meCp4+v7777tnURZyBU4VlA1PJBP0p6BX7Uep2YpKUKPn02xLBbQVwJVjUcrLL7/skhO98847uRIUBfUGYxvMUg2O84oAAggggAACCCCQXQIEJbNrvHlaBBBAAIEMFVCilJ9++qnUP51mIqrkl/gl/CG1p6YCator86abbnKBtfDzO3bscB8VgIsumuWoGYeJlGCZuGZHqs3gRwlnopO6JFJvrGu1PHzcuHF266232kUXXeT2BdVy66eeeso2bNhg48ePj3VrQsc1e7Rs2bK2YsWKhO4Lv1jZ0pU1/aOPPrITTjgh/FTEewVxVYKxjjjJBwQQQAABBBBAAIGsESAomTVDzYMigAACCGSqgGZSKvimxDilvQQBq2Bfy3ieRzMGBw4caCtXrrTRo0dH3KLAo0pewcfCmGlZvcrEiRPdjE7N6gx+FixY4M4l8w89kyzq1KkTUa2WcVetWjUpy61VsfYP1U+8weCIzvgftN/lzJkz3V6S0X2Nvnb//v3uUDDW0ef5jAACCCCAAAIIIJAdAgQls2OceUoEEEAAgQwW0Mw0BcbCk55o38mCln2nI4kyi2v24c6dOxPqnoKRjRo1skWLFkXcp2XWmiUZnYRGy7YVHGvevHnE9QV90NJnzc5cvHhxQZcm5XwQaNaMyfCiIOu2bdtM/Um0KEFOdFGSG32HFOBNpOge7Xep/SFfffVVZ13Q/cHY1qxZs6BLOY8AAggggAACCCCQwQIEJTN4cHk0BBBAAIHMFNCMtu3bt7us20uXLrUBAwZYTk6Oy8wdPHGDBg1c0EqBIgUntbRbS4yji2bbaRmwksUo0KVr33rrLZdQZcyYMdGXF/tn7TeorOPr1q1LqK1gGbeWIIcXHR80aJBpr0PN5FMCHwXQ+vbt65Kx9O7dO/zyAt+rvp49e7rkMEowpPo0k1H9DQKHSlCkgJsyoxe1aKn2hRde6JZrK2u49n3UPpJBv2+++eZQE/G2u379etNSa80U1XhrhmevXr3cd0guiZRly5a5TORaTq5kP8Fy9uD10UcfzVVdMLZaMk5BAAEEEEAAAQQQyF4BgpLZO/Y8OQIIIIBACQhMnjzZlGRFRTPMrrzySpfNWcuBVZo0aWJKZKIgj4JpKpdeeqlbmuw++H9oLz4FdLT8tU2bNtawYUP78MMPI5be9uvXzwWzunXr5hLBaCZhsFw2PEGKglCanags3u3bt3eBzKCdknpV9m8lqFEALiivvPKKKdC6evVq53fHHXcEp0KvmimqZdzRZcSIEaaM0KNGjbLq1au7LNPa81Azbu6zBQAAQABJREFUTCtUqOAuV4Ax3jGYNGmSy/qtvR6rVavmgpsKDCtQrKIZmErYM2/ePPc51h+ffvqptW7d2i3N1szNJUuWuLrOO+88UwBSRcG92bNnu0zsCkBWqVLFjZWyZc+dO9eNf1B/vO3q+6Q9MTULU0Hgzp07m9pUf/Q8QYmnf5opmWjRrMy6deu673qi93I9AggggAACCCCAQOYIlPH/YzLx/5rMnOfnSRBIe4FOnTq5PuovpRQEEChZgXT4fezTp48LUm3durVkMeJsfdasWdalSxe3NDjOW2zVqlXWuHFjl8Cme/fu8d6WNtdpJusFF1zgZq4q+U6qSkm1m8jz6XurYKiypgdB93jvT4ffv3j7ynUIIIAAAggggAACBQswU7JgI65AAAEEEEAgrQQSSQKTVh2PszOaEalZjfrZs2dPnHelx2UaGy2Z11J4LadOVSmpdhN9vpEjR1rTpk2tf//+id7K9QgggAACCCCAAAIZJkBQMsMGlMdBoDQIaO+ySpUquWWJqUoWkZdLuvQjr76l8piWgGoPv2APuOC1fPnyblmvZnyNHz8+tDQ1lX2jrewVGDp0qGlmnAJ7QWKU0qChJeH6ndK+nFoanapSUu0m8nwTJkxwCYLmz5/v9p9M5F6uRQABBBBAAAEEEMg8AYKSmTemPBECaS/w9NNPu/3ySrqj6dKPkna45ppr3B6GJ598sh1zzDFuma2WgWpPPC29VaIN7X14+umn58pgXNJ9z7b2hw0b5pY0K0incZkzZ05GEyjRjmbUPfzww6XmOdu2bWvPPfec1apVK6V9Lql2431I7a+5b98+U/BU+2JSEEAAAQQQQAABBBAgKMl3AAEEEMgQASUFOffcc5PyNJoteeyxx7p98Z555hkXnNy8ebMpAUlpmrUWCyOZVrHaKI7jStaiwI62g16zZo1de+21xdFMWtXZrl07Gzt2bFr1ic4kLqCETpr9Gp0dPfGauAMBBBBAAAEEEEAgUwQISmbKSPIcCJQyAQW90qGkSz+SYTF9+nQ3uzEZdUXXoeBXjx49XP1PPPFE9OlS97k4rUodBh1GAAEEEEAAAQQQQAABBEpAgKBkCaDTJALFLaCEB8OHD7ecnBw76qijrEmTJvbSSy+5ZqdOnWoVKlRwe51pOd1ll11mlStXdtlQX3jhhVxdmzFjhp1zzjl25JFHuvtOOOEEGz16tLtOs7W0R5iy5B5xxBFuSV7Hjh3tm2++iahH12lPwlNPPdVdpyXCgwcPjrhGH/Lr9yOPPOL6rL0otaxYWVvr1q1ry5cvz1VPrAPx9CO/duJ53scee8xZHXfccaYsybVr13afNYNx4cKFEV2Lpz4tXdXejuFLQW+77TY3FgqobtmyxdU5YMAAZ7J69Wq3N6QShai8/fbbbny1DLaoRUFJFe2Vp5JpVu6h+AMBBBBAAAEEEEAAAQQQQCA1Av5fiikIIJDGAv4MNU8/iZS7777b84OEnr/fnLd9+3bP34fOO+yww7zPPvvMVXPfffd5/j9hvPfff9/zl+J6fpDPa9OmjecHK739+/eHmpo4caK7zt/Pzdu6dau3bds278knn/Suv/56d40f+PT8gJnnBy69HTt2eEuXLvXOPvtsr3r16t6mTZtC9ag9P4Dm/fWvf3X92bt3rzdlyhRX96JFi0LXxdvvO++803v88ce9q6++2vvXv/4Vur+gN/H2I/CJbife5+3du7ezXLZsmffrr796X3/9tdeiRQvPD6h6P/zwQ6ib8dYn75o1a4bu0xs/yOv8fvrpp9Bxf29Iz98XMvRZb9544w3Xrp/FOOJ4Xh90rx8wzuuUO7Zr1y7XZv369UPXZJJV6KHyeVOY38d8qsuKU/7/EHHfm6x4WB6yWAX4/StWXipHAAEEEEAAAQRSLqB9qSgIIJDGAon+JczfK8/zM756fsba0FMpCKggZb9+/dyxIJCka4MSBAlXrVrlDik46e8p6F144YXBJe714MGD3qRJkzzVWbFixYh2dME///lPF4AIgmC6Tv25+OKLI+rxZ2W664KgZGH7HVFpPh/i7YeqyMsn3ufV/QpKRgf3FBBWIPjBBx/UJXH76dqiBCV1f7yloKCk6lFwWd+LoGSbVaK/j4FTNr8SlMzm0U/us/P7l1xPakMAAQQQQAABBEpaoFxq5mPSCgIIpEpAy5n9AJqdccYZoSa1hFvLf6OXVYcu8N9oibDKgQMH3Ks/69H82Y92ySWXuM/BH0pS4M8gdFmY9+zZ45Z2B+f06s8IdHUFS5X9IKfrjzLD5lcK2+/86gw/F28/wu8Jf+/PdrR4njf8nvD3WgLvB2dDY1DU+sLrTtX7n3/+2SVY0XL//EpRny3drT799FPr1KlTfgScCxNYt26d+4RZGApvCyWg372WLVsW6l5uQgABBBBAAAEEEEg/AfaUTL8xoUcIFElAgSOV+++/3+0tqH0H9fP999+74GC8lftLdd2lysCcV1HAUsWfLZnrtO7ZvXu3Ox4EJGrUqJHruvADyep3eJ3h7+PtR/g94e/jfd7we6Lfa99Nf7m1O5yM+qLrL+7PK1ascE00atQo36aS8Wyl3SpfIE4igAACCCCAAAIIIIAAAggYMyX5EiCQYQJB8M/fD9KU/KSwpU6dOu7WIJFKdD1BsDIIPoafV1CqXr167pAS5Kjs27fPvcb6I1n9jlV/vP2IdX+8zxvrfs1ADXcpan2x2inO40qao6LkSPmVoj5bultpptbs2bPzI+BcmMCsWbOsS5cumIWZ8LZwAsy2LZwbdyGAAAIIIIAAAukqwEzJdB0Z+oVAIQX8JCQu2/PixYsLWcP/3aYs21WrVrV33303z3q0PFyzJD///POI81q27e9Hac2bN3fHdZ2fZMf+9re/RVwX/SFZ/Y6uN/gcbz+C66Nf433e6PuCzx999JFb+hwsPUykvnLlyoWW1Qf1pfrVT1xkCnQr2HzTTTfl23wiz5ZXRaXdKq9n4hgCCCCAAAIIIIAAAggggECkAEHJSA8+IVDqBTQjsGfPnuYnkrGpU6ealmH/9ttvpuXLGzdujPv5tHzWz9ptH3/8sfXv39/Wr19vhw4dcsuy/azSLvA5aNAge/nll23mzJmunS+//NL69u1rtWvXNj/Zi2tLMyD9rNDmZwK36dOnu+u0X+W0adMi+pKsfkdUGvYh3n6E3RLxVv2L53mDm2TlZz43PzGQ6Xk1azUnJ8d69OjhLkmkvgYNGpif+dxeffVVF5zUEnAtx48uCiJv2LDBvvvuOzdOmnH41ltvmfaAHDNmTPTleX72Nzp2e2eq/3qvtvxEJXbeeeeZ9hNVHwraUzKRZ1Mn0sUqTxAOIoAAAggggAACCCCAAAIIFI9ASWfaoX0EEMhfoDDZRv2l0t6QIUM8Pwjm+bPsPD8g5/mBQc9PQOIpy7ayYfv/RPFOOeUUb/Xq1Z4fIPT8QJM7dvzxx3v+3oGhTk2ePNk788wzPT/Q5H6aNWvm6tAFfjDJGz9+vKvn8MMP96pUqeJdddVVnp+0JnS/3vhLvL1evXp51apVcxm7W7du7Q0fPty158+885YsWeKuz6/f48aN8/yEPe4ef1alN2PGjIg24vkQTz/yayfe51X2bXnUrVvX+cu2Y8eOzjq8n/HWt3XrVpcFXWNw4oknenfccYc3ePBgZ+EHLL0ffvjBVfvFF194Gj85ydif3ejNnz/fq1SpkveXv/wlvOmI96+99prXpEkT973wEx55/sxWV3eQafv//b//5ymbuvoRXjLNKvzZYr0vzO9jrLqy5TjZt7NlpIv/Ofn9K35jWkAAAQQQQAABBFIpUEaNFU+4k1oRQCAZAsEeWuxhlwzN1NTRp08ft3+eH8RLTYOluJXSZsXvY+JftmBPSf5zI3E77ogU4Pcv0oNPCCCAAAIIIIBAaRdg+XZpH0H6jwACaSmgJfOU+ASwis+JqxBAAAEEEEAAAQQQQACBTBIgKJlJo8mzIJBlAt988435S4wL/OnatWuWyfC4CGSOwHvvvWdDhw61uXPn2kknnRT6fb/hhhtyPWS7du3M367A7X96+umnm7+lQa5r0vGA9lVVIqlzzz03Zveef/55a9GihXs+f5sGt3ewElAVpvjbOYQcw/8ZqiRVeZWC+udv72CnnXaa229W+xFrH9x77rnH7U8b1OdvE2H+lg9uj+PgGK8IIIAAAggggAAC2S1AUDK7x5+nR6BUCzRq1MglY9Gy0Px+XnzxxZQ9p5IDPfPMM7Zz507z9390CX5S1ngpawirUjZgJdDdESNG2GOPPeaSbilh1rfffmsnn3yy+fvTugRbb775ZkSv3n33Xbd1QocOHczfQ9fOPvvsiPPp+GHlypX2xz/+0QYOHGh79+7Ns4tKNnX99debli8radm8efNcErLLLrvMJdPK86YkHYynfx988IHdfvvtLsnWli1b7KGHHrJJkya5/gbduOKKK1yCtLZt29qOHTuCw7wigAACCCCAAAIIZLEAQcksHnweHQEEki+gv4z7CXtckHTNmjXmJ2ZIfiMZUiNWhRvIX375Jd8ZdYWrNfKuVLQR2WLuT2PHjjX9DwXtSanZj+FFgUo/IZP5SaXc/wAIP1ea3vtJvuzee++1vn37WtOmTWN2/cknn7Q6deqYn+DKjjnmGHetgpiLFy+2hQsXxrwvvxN+srBc/zPnq6++irgl3v5VrFjRjUXVqlXdWHXu3Nn8pGf29ttv29q1a0N13nnnnXbWWWdZ+/btiz2YGmqUNwgggAACCCCAAAJpK0BQMm2Hho4hgAACCCCQW2D69On2448/5j6RxCOpaCO/7q5atcoeeOABe/DBB93suuhrtcx5wIABtn79erv77rujT5eazwrQaVm6ZkFq2XOsosBe7dq13ZLr4Jr69eu7t99//31wKOmv8fbvjTfecEvmwztQvXp19zF69ufIkSNdMFUzKSkIIIAAAggggAAC2S1AUDK7x5+nRwABBBAoZgFtLTBhwgRr3LixCzxVqVLFOnbsaNoTNSj9+/e38uXLW61atYJDdtttt1mFChVcIEpLYlUUiBs0aJCtXr3aHdfefZo1eOSRR9pxxx1nymau4JU+K3AXPouuKG2obc16q1y5so0ZM0Yfi7XomeSmJb+xivZFbNiwoT399NOmfSfzK/GMwdSpU5330Ucf7ZZHa2m0nrdevXr2wgsvRFSv5EzDhw+3nJwcO+qoo6xJkyamJdbFVbSXZnQgOthPUufSsShgLBttYxFe9P0///zz3fJujQsFAQQQQAABBBBAIHsFCEpm79jz5AgggAACKRDQzDAlarnvvvtcYOnjjz92S1rbtGljmzdvdj1QEE5LXsPLlClT3EzB8GOaXab9ErWvogI6mlGoYGOPHj3cfoRaHvvdd9+5BC8HDx60iy++OLR8tihtqA9BlnQlPSnuor0iTz31VFOAMFZRwOvZZ591y7hvueUW+/nnn2NdavGMQb9+/eyuu+4yLV3XcnEFGRX8VdBP9R84cCBUv5ZcP/LIIy45zcaNG92YXHfddfb555+HrknmG+2/qiDk448/brt373b7Zeq7cMkll1jLli0L1ZS+kwoQKhiuwKEC5Z999lmh6oq+SbMjtc+k3FR/dGnWrJmb5arl4RQEEEAAAQQQQACB7BUgKJm9Y8+TI4AAAggUs4ACXJolefXVV1v37t3dfoBnnnmmPfHEE6bZj9OmTUtaD8qVKxeajalMyJr5pwCWEi8lo1x++eW2a9cut6w6GfXFqkPBRe3HqsBrQaVVq1YukKhArAKFeZXCjIFmmWqWZI0aNaxr164u4PnDDz+46n/99Vdnqz0TlXzn2GOPtfvvv98OP/zwpFlHP4dmFg4ZMsQFoNUvZcnW2GqWaGHKjTfeaMqGrWXhe/bscTNB9XxqRwmCilq0X6xm7Go2a17llFNOcYe//PLLvE5zDAEEEEAAAQQQQCBLBAhKZslA85gIIIAAAqkXUIBHQZ9zzjknovEWLVq4GWThy6sjLkjCB7WpmYbhy8STUG2xV6FlypoFmt8syfBOKPClWZWaWfrJJ5+En3LvizoGwUy/YKbk8uXL3axUBQaDolmbWnpfXNaaZasA9vvvv+++T8pCrsCpgrLhiWSC/hT0qv0oNVtRCWr0fJptqeC1ArhyLEp5+eWXXXKid955J1eCoqDeYGyDmcLBcV4RQAABBBBAAAEEskuAoGR2jTdPiwACCCCQQoEdO3a41hT8iS6aYafZbsVZlDzlp59+Ks4mkl63ZiKq5Jf4JbxR7Z+pgFqZMmXspptucoG18PPJHoNgmbhmR6rN4EcJZ6KTuoT3o7DvtTx83Lhxduutt9pFF13k9r3UcuunnnrKNmzYYOPHjy9s1RH3aQZv2bJlbcWKFRHHE/mgbOnKmv7RRx/ZCSecEPNWBXFVgrGOeSEnEEAAAQQQQAABBDJagKBkRg8vD4cAAgggUJICCjyq5BV8VLBMSVSKq2hmX3G3URx9DwJWwR6W8bShGYMDBw60lStX2ujRoyNuSfYYaEm3ysSJE92MTs3qDH4WLFgQ0XYyPuiZZFGnTp2I6rSMu2rVqklZbq2KtVeofuINBkd0xv+g/S5nzpzp9pKM7mv0tfv373eHgrGOPs9nBBBAAAEEEEAAgewQICiZHePMUyKAAAIIlICAlvhqlmR0AhQt21Zgpnnz5qFeaU/IYIlw6GAR3mi2moJl4YlQkt1GEboX81ZlEdfsw507d8a8Jq8TCkY2atTIFi1aFHE6kTGIuDHGBy191uzMxYsXx7giuYeDwLVmTIYXBbq3bdtm6k+iRQlyoouS3Oj7ogBvIkX3aL9L7Q/56quvuu97QfcHY1uzZs2CLuU8AggggAACCCCAQAYLEJTM4MHl0RBAAAEESlZAwatBgwaZ9tnTLDIlilHwpm/fvi4RSO/evUMdbNCggQsyKbCj4KSWXWtJcHTR7Dgt21VyFwWmgkCmZrlt377dlHV76dKlNmDAAMvJyXGZuYM6itLGW2+95ZK/jBkzJqiuWF6136AyXq9bty6h+oNl3FqCHF4SGYPw+2K9V309e/Z0yWGUTEhjqpmM6m8QOFRyHAXcvvjii1jVxH1cS7UvvPBCt1xbmdu176P2kQy+OzfffHOornjbXb9+vWmptWbS6vujGZ69evVy3xd9NxMpy5Ytc5nItZxcyX6C5ezB66OPPpqrumBstWScggACCCCAAAIIIJC9AgQls3fseXIEEEAAgRQIjBgxwpSNeNSoUVa9enWX4Vj77WkmY4UKFUI96Nevnws+devWzSVu0cy/YHlreEITBY00m1AZttu3b+8CmapE+/MpyKN72rRpYw0bNrQPP/wwYjluUdsIdbaY3yjTtxLUKAAXlFdeecUUVF29erUpUdAdd9wRnAq9alaolnFHl3jGQAFGLclWadKkiSmZjAJtCiqrXHrppW55uN5PmjTJZf3WXo/VqlVzAWYFgRUUVtEsWCXsmTdvnvsc649PP/3UWrdu7ZZma/bskiVLXF3nnXeeKQCpouDe7NmzXRZwBSCrVKnixl7ZsufOnevGOqg/3nb1LNoTU7MwFQTu3LmzqU31R88TlHj6p5mSiRbNyqxbt65zTvRerkcAAQQQQAABBBDIHIEy/n9MJv5fk5nz/DwJAmkv0KlTJ9dH/aWUggACJSuQrr+Pffr0cYGrrVu3lixQHq3PmjXLunTp4pYG53E6z0OrVq2yxo0buwQ23bt3z/OadD6oWasXXHCBm6Wq5DupKiXVbiLPp++ogqHKmh4EfOO9P11//+LtP9chgAACCCCAAAIIRAowUzLSg08IIIAAAgiUSoFEEsOk+wNqRqRmlupnz5496d7diP5pHLQEX0vrtZw6VaWk2k30+UaOHGlNmza1/v37J3or1yOAAAIIIIAAAghkmABByQwbUB4HAQQQQACBTBAYOnSoaWacAntBYpTS8Fxalq9l1dqDU0ujU1VKqt1Enm/ChAkuQdD8+fPd/pOJ3Mu1CCCAAAIIIIAAApknQFAy88aUJ0IAAQQQyCKBYcOGuWXOCtwpKcqcOXMy5umVVEcz6h5++OFS80xt27a15557zmrVqpXSPpdUu/E+pPbX3Ldvn9tLVftiUhBAAAEEEEAAAQQQKAcBAggggAACCJReASXR0U+mlnbt2pl+KKVb4MorrzT9UBBAAAEEEEAAAQQQCASYKRlI8IoAAggggAACCCCAAAIIIIAAAggggAACKREgKJkSZhpBAAEEEEAAAQQQQAABBBBAAAEEEEAAgUCAoGQgwSsCCCCAAAIIIIAAAggggAACCCCAAAIIpESAoGRKmGkEAQQQQAABBBBAAAEEEEAAAQQQQAABBAIBgpKBBK8IIIAAAggggAACCCCAAAIIIIAAAgggkBIBsm+nhJlGECiawJw5c6xMmTJFq4S7EUAgaQL8PiZOiVniZtyRW+Daa6/NfZAjCCCAAAIIIIAAAqVSoIznl1LZczqNQJYILFiwwNauXZslT8tjIpCeAhMnTnQdu+uuu9Kzg/QKgSwRqF+/vrVq1SpLnpbHRAABBBBAAAEEMluAoGRmjy9PhwACCCCQBIHOnTu7WmbNmpWE2qgCAQQQQAABBBBAAAEEEECAPSX5DiCAAAIIIIAAAggggAACCCCAAAIIIIBASgUISqaUm8YQQAABBBBAAAEEEEAAAQQQQAABBBBAgKAk3wEEEEAAAQQQQAABBBBAAAEEEEAAAQQQSKkAQcmUctMYAggggAACCCCAAAIIIIAAAggggAACCBCU5DuAAAIIIIAAAggggAACCCCAAAIIIIAAAikVICiZUm4aQwABBBBAAAEEEEAAAQQQQAABBBBAAAGCknwHEEAAAQQQQAABBBBAAAEEEEAAAQQQQCClAgQlU8pNYwgggAACCCCAAAIIIIAAAggggAACCCBAUJLvAAIIIIAAAggggAACCCCAAAIIIIAAAgikVICgZEq5aQwBBBBAAAEEEEAAAQQQQAABBBBAAAEECEryHUAAAQQQQAABBBBAAAEEEEAAAQQQQACBlAoQlEwpN40hgAACCCCAAAIIIIAAAggggAACCCCAAEFJvgMIIIAAAggggAACCCCAAAIIIIAAAgggkFIBgpIp5aYxBBBAAAEEEEAAAQQQQAABBBBAAAEEECAoyXcAAQQQQAABBBBAAAEEEEAAAQQQQAABBFIqQFAypdw0hgACCCCAAAIIIIAAAggggAACCCCAAAIEJfkOIIAAAggggAACCCCAAAIIIIAAAggggEBKBQhKppSbxhBAAAEEEEAAAQQQQAABBBBAAAEEEECAoCTfAQQQQAABBBBAAAEEEEAAAQQQQAABBBBIqQBByZRy0xgCCCCAAAIIIIAAAggggAACCCCAAAIIEJTkO4AAAggggAACCCCAAAIIIIAAAggggAACKRUgKJlSbhpDAAEEEEAAAQQQQAABBBBAAAEEEEAAAYKSfAcQQAABBBBAAAEEEEAAAQQQQAABBBBAIKUCBCVTyk1jCCCAAAIIIIAAAggggAACCCCAAAIIIEBQku8AAggggAACCCCAAAIIIIAAAggggAACCKRUgKBkSrlpDAEEEEAAAQQQQAABBBBAAAEEEEAAAQQISvIdQAABBBBAAAEEEEAAAQQQQAABBBBAAIGUChCUTCk3jSGAAAIIIIAAAggggAACCCCAAAIIIIAAQUm+AwgggAACCCCAAAIIIIAAAggggAACCCCQUgGCkinlpjEEEEAAAQQQQAABBBBAAAEEEEAAAQQQICjJdwABBBBAAAEEEEAAAQQQQAABBBBAAAEEUipAUDKl3DSGAAIIIIAAAggggAACCCCAAAIIIIAAAuUgQAABBBBAAIHfBRYuXGhLliz5/YD/7ttvv3Wfp02bFnH8rLPOsj/84Q8Rx/iAAAIIIIAAAggggAACCCBQsEAZzy8FX8YVCCCAAAIIZIfAG2+8YR06dLCyZcvaYYf934KC4F+VZcqUcQiHDh2y3377zV5//XX7t3/7t+yA4SkRQAABBBBAAAEEEEAAgSQKEJRMIiZVIYAAAgiUfoEDBw5Y9erVbdeuXfk+TOXKle2nn36y8uXL53sdJxFAAAEEEEAAAQQQQAABBHILsKdkbhOOIIAAAghkscDhhx9u3bp1yzfYGM81WUzIoyOAAAIIIIAAAggggAACBQoQlCyQiAsQQAABBLJNQEHJ/fv3x3xszaa87rrrYp7nBAIIIIAAAggggAACCCCAQP4CLN/O34ezCCCAAAJZKKA9I+vUqWObN2/O8+lr1KhhmzZtCu05medFHEQAAQQQQAABBBBAAAEEEIgpwEzJmDScQAABBBDIVgEluLnhhhvyXMKtPSR79OhBQDJbvxw8NwIIIIAAAggggAACCCRFgKBkUhipBAEEEEAg0wRiLeHWsm6doyCAAAIIIIAAAggggAACCBRegOXbhbfjTgQQQACBDBc45ZRTbNWqVRFPedJJJ9nq1asjjvEBAQQQQAABBBBAAAEEEEAgMQFmSibmxdUIIIAAAlkk0L17d1Om7aBo6faNN94YfOQVAQQQQAABBBBAAAEEEECgkALMlCwkHLchgAACCGS+gGZJarZkeFm+fLk1bNgw/BDvEUAAAQQQQAABBBBAAAEEEhRgpmSCYFyOAAIIIJA9Ag0aNLCzzjrLypQp4370noBk9ow/T4oAAggggAACCCCAAALFJ0BQsvhsqRkBBBBAIAME/vznP1vZsmXdj95TEEAAAQQQQAABBBBAAAEEii7A8u2iG1IDAggggEAGC2zYsMHq169vnufZ2rVrrW7duhn8tDwaAggggAACCCCAAAIIIJAaAYKSqXGmFQRKtcCCBQtswoQJpfoZ6DwCRRH46KOP3O0XXHBBUarhXgRKtcDAgQOtVatWpfoZ6DwCCCCAAAIIIIBA+giwfDt9xoKeIJC2ApodNmfOnLTtHx0r3QLr1q1L++9XTk6OHX/88WkFrd9J2VEQSIWAvm/6dwEFAQQQQAABBBBAAIFkCZRLVkXUgwACmS8we/bszH9InjDlArNmzbIuXbpYOn+/tm3b5lyqVq2acp9YDSr5zl133WWdO3eOdQnHEUiagL5vFAQQQAABBBBAAAEEkilAUDKZmtSFAAIIIJCRAukUjMxIYB4KAQQQQAABBBBAAAEEsk6A5dtZN+Q8MAIIIIAAAggggAACCCCAAAIIIIAAAiUrQFCyZP1pHQEEEEAAAQQQQAABBBBAAAEEEEAAgawTICiZdUPOAyOAAAIIIIAAAggggAACCCCAAAIIIFCyAgQlS9af1hFAAAEEEEAAAQQQQAABBBBAAAEEEMg6AYKSWTfkPDACCCCQmQLz58+3Y445xl5//fXMfMBifqr33nvPhg4danPnzrWTTjrJlG1ZPzfccEOultu1a2eVKlWysmXL2umnn25ffPFFrmvS8cChQ4ds4sSJdu6558bs3vPPP28tWrRwz3f88cdbz549bdOmTTGvz+/EX/7yl5Bj4KnXM844I8/bCurfqFGj7LTTTrPKlSvbEUccYQ0aNLB77rnH9uzZE6rvtddes3Hjxtlvv/0WOsYbBBBAAAEEEEAAAQTSUYCgZDqOCn1CAAEEEEhYwPO8hO/hhv8TGDFihD322GM2bNgwu+aaa+zbb7+1k08+2apVq2YzZ860N998M4Lq3XfftdmzZ1uHDh3s66+/trPPPjvifDp+WLlypf3xj3+0gQMH2t69e/Ps4ksvvWTXX3+9derUydatW2fz5s2zjz/+2C677DI7ePBgnvck62A8/fvggw/s9ttvt++++862bNliDz30kE2aNMn1N+jHFVdcYUceeaS1bdvWduzYERzmFQEEEEAAAQQQQACBtBMgKJl2Q0KHEEAAAQQKI3D55Zfbzp07XaCsMPcn855ffvkl39l4yWyrqHWNHTvWXnzxRZs1a5abHRhenwKVhx12mPXu3dvZhp8rTe+XLFli9957r/Xt29eaNm0as+tPPvmk1alTxwYPHuxm3epaBTEXL15sCxcujHlffidmzJhhCpiH/3z11VcRt8Tbv4oVK7qxqFq1qhurzp0721VXXWVvv/22rV27NlTnnXfeaWeddZa1b9++2IOpoUZ5gwACCCCAAAIIIIBAggIEJRME43IEEEAAAQQKEpg+fbr9+OOPBV1W4udXrVplDzzwgD344INudl10h7TMecCAAbZ+/Xq7++67o0+Xms8K0GlZumZBatlzrKLAXu3atd2S6+Ca+vXru7fff/99cCjpr/H274033nBL5sM7UL16dfcxevbnyJEjXTBVMykpCCCAAAIIIIAAAgikowBByXQcFfqEAAIIIJCQwCeffGI5OTkumDR58mR379SpU61ChQp29NFHu2W4WoKrvfjq1atnL7zwQqh+zQbUctfjjjvO+vTp44JS+qyAXPjsuP79+1v58uWtVq1aoXtvu+0214b2CdRyWhUF8QYNGmSrV692/dG+fyqazab2x4wZ4z6nwx96ds3g05LfWEX7IjZs2NCefvpp076T+RXVNWHCBGvcuLEL/lWpUsU6duxo33zzTei2eMdFN2hfxOHDh7uxPeqoo6xJkyamJdbFVbSXZnQwOdhPUufSsShgLJsTTzwxonuyP//8893ybo0LBQEEEEAAAQQQQACBdBMgKJluI0J/EEAAAQQSFmjdurX94x//iLivX79+dtddd5mWUispi4JZChQquHTLLbfYgQMH3PUKNvbo0cPtM6hlr9qvT4lbtIfgxRdfHFoWqwCelsuGlylTprhZhuHHNDNNey1qT0YFgzQbUSVIPKJkJulStFfkqaee6gK3sfqkgNezzz7rlnHL7eeff451qWl2npLl3HfffS64p/0YNfuwTZs2tnnzZndfvOOii7Xk+pFHHnHJaTZu3Ohcr7vuOvv8889j9qEoJ7SnpoKQjz/+uO3evdvtl6nxvOSSS6xly5aFqloeChAqoK3AoYK0n332WaHqir5JsyO1z6TGRfVHl2bNmrlZrloeTkEAAQQQQAABBBBAIN0ECEqm24jQHwQQQACBpAto1qNmKdaoUcO6du3qAms//PBDRDvlypULzfBThmPN6FNg6plnnom4rrAftOflrl273HLpwtaRzPsUXFyzZo0LnhZUb6tWrVyAVwFbBQrzKgr+apbk1Vdfbd27d3d7Mp555pn2xBNPuFmk06ZNy3VbfuPy66+/ujHQnolKvnPsscfa/fffb4cffnjSxiS6Q5pZOGTIEFOgWt8XZcnWd0CzRAtTbrzxRlM2bAVmlSFbM3T1vVM7ShBU1KJEN1purtmseZVTTjnFHf7yyy/zOs0xBBBAAAEEEEAAAQRKVICgZIny0zgCCCCAQKoFghllwUzJWO2fc845bgZh+NLjWNeWxuNapqyZnFreHk9R4EuzKjU7VMvlo4uCbAq8yS28tGjRws3iC18KH34+eB89LsuXL3ezVxUYDIpmbWr5fHGNiWZ4Knj6/vvvu2dRFnIFThWUDU8kE/SnoFftR6nZikpQo+fTbEsFuRXAlWNRyssvv+ySE73zzju5EhQF9QZjG8xSDY7zigACCCCAAAIIIIBAOggQlEyHUaAPCCCAAAJpKaCkKD/99FNa9q2ondJMRJX8Er+Et6F9NhVQ0/6ZN910kwushZ/fsWOH+6gAXHTRLEfNOEykBMvENTtSbQY/SjgTndQlkXpjXavl4ePGjbNbb73VLrroIrdXqJZbP/XUU7ZhwwYbP358rFsTOq7Zo2XLlrUVK1YkdF/4xcqWrqzpH330kZ1wwgnhpyLeK4irEox1xEk+IIAAAggggAACCCBQwgIEJUt4AGgeAQQQQCA9BTSTUoE2JcbJxBIErIK9LuN5Rs0YHDhwoK1cudJGjx4dcYsCjyp5BR8L46il9ioTJ050Mzo1qzP4WbBggTuXzD/0TLKoU6dORLVaxl21atWkLLdWxdpTVD/xBoMjOuN/0H6XM2fOdHtJRvc1+tr9+/e7Q8FYR5/nMwIIIIAAAggggAACJSlAULIk9WkbAQQQQCBtBTQLTUGw8AQn2neyoGXfaftAUR1TtnHNPty5c2fUmfw/KhjZqFEjW7RoUcSFWmatWZLRSWi0bFvBsebNm0dcX9AHLX3W7MzFixcXdGlSzgfBZ82YDC8Ksm7bts3Un0SLEuREFyW50fdKAd5Eiu7RfpfaH/LVV1911gXdH4xtzZo1C7qU8wgggAACCCCAAAIIpFyAoGTKyWkQAQQQQCAdBTR7bfv27S7r9tKlS23AgAGWk5PjMnMH/W3QoIELUCkopOCklnZrOXF00cw6LflVYhgFtXTtW2+95ZKnjBkzJvryEvms/QaViXzdunUJtR8s49YS5PCi44MGDTLtdaiZfErqowBa3759XTKW3r17h19e4HvV17NnT5ccRkmHVJ9mMqq/QeBQSYsUcFO29KIWLdW+8MIL3XJtZQ3Xvo/aRzLo98033xxqIt52169fb1pqrZmi+g5ohmevXr3c90ouiZRly5a5TORaTq5kP8Fy9uD10UcfzVVdMLZaMk5BAAEEEEAAAQQQQCDdBAhKptuI0B8EEEAAgYQFJk+ebEqooqLZZFdeeaXL3KylvypNmjQxJS1RQEeBM5VLL73ULUN2H/w/tO+egjda6tqmTRtr2LChffjhhxHLbPv16+cCV926dXNJXzRrMFgaG54MRQEnzURUFu/27du7QGbQTjq9KiO4EtQoABeUV155xRR8Xb16tTO94447glOhV80e1TLu6DJixAhTRuhRo0ZZ9erVXZZp7XmoWacVKlRwlyvAGO+4TJo0yWX91l6P1apVc8FNBYsVPFbRDEwl7Jk3b577HOuPTz/91Fq3bu2WZmvm5pIlS1xd5513nikAqaLg3uzZs112dgUgq1Sp4sZP2bLnzp3rvhNB/fG2q++Y9sTULEwFgTt37mxqU/3R8wQlnv5ppmSiRbMy69at677/id7L9QgggAACCCCAAAIIFLdAGf8/chP/r9zi7hX1I4BAWgnMmjXLunTp4pYcplXH6ExGCKTD96tPnz4uILV169ZSY6og2ksvveQCXYXt9KpVq6xx48YugU337t0LW02J3afZrRdccIGbzarkO6kqJdVuIs+n77KCocqaHgTiE7k/+tpkfN+i6+QzAggggAACCCCAQHYLMFMyu8efp0cAAQQQ+P8FEkn4kilomhGpWY362bNnT6l6LI2XltFrebyWU6eqlFS7iT7fyJEjrWnTpta/f/9Eb+V6BBBAAAEEEEAAAQRSIkBQMiXMNIIAAggggEB6CgwdOtQ6derkAntBYpT07Glkr7QkXMuqtVenlkanqpRUu4k834QJE1yCoPnz57v9JxO5l2sRQAABBBBAAAEEEEiVAEHJVEnTDgJZLqDkDpUqVXL7tqUqm25+5OnSn3TpR2CVbv0J+lWcr8OGDXPLlxWQU7KTOXPmFGdzaVm3ku9oRt3DDz+clv3Lq1Nt27a15557zmrVqpXX6WI7VlLtxvtA2l9z3759bh9P7YtJQQABBBBAAAEEEEAgXQUISqbryNAvBDJM4Omnn3ZJRtLlsdKlP+nSj2Bc0q0/Qb+K81WJWRTE0RbLa9assWuvvbY4m0vbutu1a2djx45N2/7RsfgElORJs1+js6PHdzdXIYAAAggggAACCCCQOgGCkqmzpiUEEEAAAQQQQAABBBBAAAEEEEAAAQQQ8AUISvI1QACBlAkoe2s6lXTpT7r0IxibdOtP0C9eEUAAAQQQQAABBBBAAAEEMkeAoGTmjCVPgkBaCWgp7Pjx4+3UU0+1I444wo455hgbPHhwrj4qk+3w4cMtJyfHjjrqKGvSpIm99NJLEdfNmDHDzjnnHDvyyCOtQoUKdsIJJ9jo0aPdNWpHSR0aN27s2tEeah07drRvvvkmoo5k9OeRRx5xCTW0N+aPP/5ogwYNsrp169ry5cvt7bfftsqVK5v25suvJKMfQf2lwSXoK68IIIAAAggggAACCCCAAAIIhAsQlAzX4D0CCCRN4IEHHrAhQ4ZY7969bfPmzbZp0ya79957c9WvYwr2TZw40TZu3GgdOnSw6667zj7//HN37aRJk+zPf/6z2+dvw4YNtm7dOlNiEgUCVUaOHOn2T7vvvvtcoPDjjz+2tWvXWps2bVy77iL/j2T055577rGBAwfanj17TPsQKilKy5Yt3V6ECq6qHDp0yL3G+iMZ/VDdpcUllgPHEUAAAQQQQAABBBBAAAEEslzAn7VDQQABBPIV8Gcuev4/KvO9Jvzk3r17vaOPPtq7+OKLww97L7zwgqtn0aJF7vgvv/ziruvatWvoOt3rz6z0+vXr5+3fv9879thjvQsvvDB0Xm8OHjzo+UE5T9dWrFjRC79f5//5z3+6dkaNGqWP7rpk9Ed1+cFPV7f6nmjBJW+xRL9fedeSfUf1Oyk7CgKpEOD7lgpl2kAAAQQQQAABBLJLoFyWx2R5fAQQKAaBVatWmR+As7Zt2+Zbu2Y76rozzjgjdJ2WcNeqVcstv166dKnt2LHDLrnkktB5vVFW2TvvvNPNptSsRS3tDi8tWrSw8uXL28KFC93hZPUnvI3CvE9WPzLNJbBkL8tAIv7XLl26mH4oCCCAAAIIIIAAAggggEBpEyAoWdpGjP4iUAoEtMRapUaNGvn29ueff3bn77//ftNPeKldu7bt2rXLHfJnS4afCr1XwFLFny0ZOha80T27d+92H5PVn6Duwr4mqx+Z5hJ4Ru8lGhznNW8BBSMHDBhgrVq1yvsCjiKQRAGC30nEpCoEEEAAAQQQQAABJ0BQki8CAggkXUAJaVT27duXb91B0FL7SSq4El2CfSO3bNkSfcp9DoKVQfAx/CIFLOvVq+cOJas/4fUX5n2y+pFpLoFl586dg7e8xiGgIJECkrjFgcUlRRYgKFlkQipAAAEEEEAAAQQQiBIg0U0UCB8RQKDoAlqOfdhhh9nf/va3fCurX7++y6i9ePHiPK9Tlu2qVavau+++m+d5taNZkkFSnOAiLdv296O05s2bu0PJ6k9Qf2Ffk9WPTHMprCf3IYAAAggggAACCCCAAAIIlF4BgpKld+zoOQJpK6AZkNdcc43NmTPHpk+f7pZhax/EadOmRfRZMwd79uxpfgIcmzp1qrtOWay1zFmZuP2ENy7TtjJq9+/f39avX++yW2tm5LJly1xAc9CgQfbyyy/bzJkz3f1ffvml9e3b17T8W5m/VZLVn4jOR3146623rHLlyjZmzJioM79/TFY/SpPL70/POwQQQAABBBBAAAEEEEAAAQTCBLIrrw9PiwAChREoTHZkP3Do9erVy6tWrZrLkN26dWtv+PDhLnO1v6zaW7JkieuKv8TbGzJkiJeTk+OVK1fO8wN3nh/Q9L7++utQVydPnuydeeaZnh/EdD/NmjXzpkyZ4s4fOnTIGz9+vHfK/9fefcBIVX1xHD/KfzWRoK4xig0rKKKI2AuKEjeKEcXoYheNClhQAQuoAQVXMRGIYInYFXEXUSABFWtABTuWqImIvYuCYjfZ//xOcidTdmZn2Hkzb53vTXZ35s179973eSMmJ+fe07Vrc01NTXNtbW3zwIEDmxNLnJPX60Up5jNx4sTmRCEev4dElmfzgw8+mBxjwYIFzZ06dWqeMGFC8lhLL0oxj9Bve3AJc833d22+X/n6q5bPEv8rp/p2tTzsGNwn37cYPASmgAACCCCAAAII/McE1tH9pMQoeYkAAghkCTQ1NXmFX/65yKLhQAkE+H6tHaKqlas4EHtKrp0fVxUnwPetOC/ORgABBBBAAAEEEGhdgOXbrRtxBgIIIIAAAggggAACCCCAAAIIIIAAAgiUUICgZAkx6QoBBBBAAIH2IPDMM8/Y6NGjbfbs2bbDDjuYsuD0c/rpp2dNv66uzhJbE1iHDh2sR48e9uabb2adE+cDf/75p+2yyy529dVXp03zn3/+scSWEn7/6623nm211VY2atQo++OPP9LOK/ZNYksJmzx5sh144IEtXprYBsLnk9gKwjp27Oivr7nmGt8TN/MCzbGhocF22mkn0xw33nhjU8GsTz/9NHlq3759k88vPMfwV4XA1ObNm2caV3v20hBAAAEEEEAAAQQQiIsAQcm4PAnmgQACCCCAQBkExo4da7fccosXkVJBqhUrVtiOO+5oif1fvWDU/Pnz02axcOFCmzVrlh1zzDGW2OvVevfunfZ53N9cddVVlthjNmual1xyiSX2o/Wg38qVK23GjBk2ffp0S+yFm3VuoQc++ugjO+SQQ2zEiBH2+++/t3jZ4sWL7dxzz7XPP//cvvvuOxs/frwHDE844YSs8wcNGmQPPPCAz039ffDBB/6s1qxZk3VuSwcSe/n64QEDBnhhsH79+tmqVataOpVjCCCAAAIIIIAAAgiUXYCgZNnJGRABBBBAIG4Cyo7LldlWqrmWY4zW5nrjjTfaI488YtrHU9mPqU2BynXXXder1q9evTr1o3b7+uWXX7b33nsva/4KxN5xxx12xhln2EknneQWyjgcPny4Pfzwwx78y7qolQOJ4l125ZVX2rBhw6xXr145z1bG4wUXXGCJol6mTMYTTzzRjjvuOHv66aftm2++SV6n5zRnzhwPCO+3336WKARmW2yxhc2dO9ezJcOJiQJgnmWpPX9Tf4YMGWKXX355OM0uvvhi22OPPax///7277//Jo/zAgEEEEAAAQQQQACBSgkQlKyUPOMigAACCMRG4O6777bvv/8+0vmUY4x8N7B8+XLTMuFrr73Ws+Yyz1VQVtmDX331lS9jzvy8vb1XEPiyyy6zKVOmZE39tddeMy2zVrAvtR155JH+9qmnnko9XNBrBfy0HP7UU0+19ddfP+c1jz32WJa/lo6rpWZA3n777Z6Vuvvuu+fsSx88+eSTWQHmL774woOxhx9+eNq148aNs2XLlrVoknYibxBAAAEEEEAAAQQQKIMAQckyIDMEAggggEBpBZQRNmnSJOvevbsHgGpraz3b7MMPP0wOpKw3ZaV17tw5eUwZatrHT3vu/fjjj35cgbiRI0faxx9/7Me1f5+yBpWBttlmm9nQoUM9Q03vFbh75ZVXkv21ZQx1ooDShhtuaNdff32yz6he6J7kpqW8udqECROsW7dudtddd5n2nczXCnkGt912m3tvsMEGnuF31FFH+f1uvfXWNnPmzLTutd+h9njs0qWLab/Fnj17enXxtJOKeKNl2yEjMfMyZYSqaZzU1rVrV3+rZdLlbFr2rf0it912Wx/277//tqVLl+bNuMw3P2XEKjMys+m/k0MPPdSDknp+NAQQQAABBBBAAAEEKilAULKS+oyNAAIIILBWAsr4UqEWBZ6U4bho0SJTdlifPn18nz51qiBcfX19Wv+33nqrZwqmHlQmnfZL1L6KCtQoo1DBxsGDB/u+gAruqLCICrxo2esRRxzhY7V1DF0fCo8oay/qpr0id955Z1OAMFdTkO6+++7zZdza9/C3337LdaoV8gzOP/98u/TSS714jJaLNzY2evBXxXXUvwq5hKalzzfddJMXidEyZj2TU045xV5//fVwSsF/X3rpJR9H17fUVPhGLTP4qH011X744Qf/G+Uv3buyUqdNm+YB4KlTp3oQXWN+/fXXpsDkG2+8YYcddlgyKK4gvL7D+QKK6vOFF14w7RfaUttzzz19XC03pyGAAAIIIIAAAgggUEkBgpKV1GdsBBBAAIGiBbQsV1mSxx9/vJ122mm20UYbmZa4ao9AZT/eeeedRfeZ6wLt4xeyMXfddVdT5t+vv/5q9957b65Lijp+9NFH+36AWlYdZVNw8ZNPPvHAa2vjHHDAAR5IVCBWgcKW2to8A2WZKitUeylqH0fNScVe1FQhW7YDBw70YJqyBlUtu6ampmhrzU3Zr+ovV9P3RUu1FeB77rnnfPxvv/3WtLRaWbSpwdJcfbT1+DbbbGPKGFVwV8FYFbUJLSzjlpWyaFVgSEVxtPfkhRde6PtehnMz/ypL8qKLLvLAcuZneh+yQd99992WPuYYAggggAACCCCAAAJlEyAoWTZqBkIAAQQQKIWAAjQK2uy9995p3e2zzz6eaZa6vDrthBK80ZjKNExdJl6CbiPvQtmkyq7LlyWZOgkt41ZWpYJ2L774YupH/rqtz0DL6tVC8E/VsVVderfddvPj+qWsTS29L9Z6zJgxdt5551nYpzHZYcYLFZJRkRkVu9lkk03soIMOsscff9ydQsZkxiUlfavMXj0XFda5//77TRmMYV/TsCdljx49fMsAzU/Bd+0Hqr+5Au/KsJw3b55n+eaabPgOKMhJQwABBBBAAAEEEECgkgIEJSupz9gIIIAAAkULrFq1yq9R5eLMpgw7ZTJG2RQwKsfy3lLegzIR1UKwq7W+tX+mskGVNXj22Wf78uvUa0r9DMIycWVHaszw89lnn3mwMnXsfK8VQFUG4DnnnJPvNP9MwT1l13755Zc+hvYUvfnmm/2zLbfcstXr23qCskCVCVlXV+cV0RXobWho8G5VZVst7HvqbxK/FMzVvpOaa0tt4sSJvixezy9XC/tohu9ErvM4jgACCCCAAAIIIIBA1AIEJaMWpn8EEEAAgZIKKPCo1lLwUcEyLYmNqimzL+oxoph7CESFPSwLGUPLuEeMGGEqwjJ+/Pi0S0r9DBScU5s8ebJnKiqrM/wsWbIkbex8b1Th/Nlnn/WlyyGwGfrWMmgdy7dHpapyq2kfx3I2FVfq0KGDL9PWuAq4a5n1+++/nzUN7WuqgGpm0/JzZV1qH898TXtVqoXvRL5z+QwBBBBAAAEEEEAAgSgFCEpGqUvfCCCAAAIlF9ASXwVtMoNLWratgMtee+2VHFN7QoYlwsmDbXihAiIKlu2///7JXko9RrLjEr5QFXEF5FavXl1UrwpGqijMW2+9lXZdMc8g7cIcb7S/orL7li1bluOMwg4ruzMEM8PfkNWqokg6lrnsP7Xn6dOn2/bbb+8VqlOPl+r1ypUrvXhPZn8K/CpgLIfQtMek3FesWBEOeUanske1J2ZmU5ak9ljVUu98LXwHNt9883yn8RkCCCCAAAIIIIAAApELEJSMnJgBEEAAAQRKKaDg1ciRI70oyUMPPeSFYrRkd9iwYV6leMiQIcnhlIH2008/2Zw5czw4qQCVgjqZTYEc7cen4i7KwAyBTFXF/vnnn73q9jvvvOMFVLp06ZK2Z19bxnjiiSe8+Iuy+KJs2kdQFa+1VLmYFpZxK4svtRXzDFKvy/Va/Z111lk2c+ZML1Dzyy+/eJBO81UlbjUVx1EgTVXQS9H23Xdf/y4o81DPfdSoUV4FW9mWYc/LUo/bsWNHW7hwoRfX0T3qe6bA45lnnmn6TJmpoem1lmoPTlSBV0EgBTSvuOIKX0qfWYBI+0Pec889XqAoXJ/rb/gOtBTYzHUNxxFAAAEEEEAAAQQQiEKAoGQUqvSJAAIIIBCpwNixY33/veuuu8423XRTz2zbbrvtTJmMCu6EpqWsWop78skne+EWZf6FZatanqxiI2oKaCqbUBW2+/fv74FMHde+ewre6Jo+ffpYt27d7Pnnn0/bm7GtY2iccjRV+ta+hapOHZoKuyioqj0KVShIVZszm7JCU4Nl4fNCnoEqYGtJtlrPnj0960/ZiAoqq6kCtrIE1aZMmeJBNWX8qdCM9lVUFW0FhdWUBatCMHPnzvX3bf2lJei9evXyZ9u7d28vqLN48eKspduFjrt06VI7+OCDTftRKmv37bff9ntQAZ1Fixb5dBV81XvtealCPJ06dfJiO/ru6vrUQj+1tbWm+Wg7As1T57/66qs2f/58f596/6rePWDAAFPAvLWmJSe7DwcAAAM9SURBVOrqS8+DhgACCCCAAAIIIIBAJQXWSSxlaq7kBBgbAQTiL9DU1GRaSsg/F/F/Vu1xhnH9fg0dOtRmzZrlGWpxdNVy7MbGRquvry9oesuXL7fu3bt7ARst821vTVmrffv29cxBFd8pV6vUuFHcn7ItFeRUdfUQGC50nGK/b4X2y3kIIIAAAggggAAC1StApmT1PnvuHAEEEECgFYFiCsO00lXFP1ZGpDJL9bNmzZqKz6eYCeg5aAm+ltZrGXe5WqXGjer+xo0b51mWw4cPj2oI+kUAAQQQQAABBBBAoGABgpIFU3EiAggggAAC7Vtg9OjRvlxYgb1Q8KQ93JGW5c+ePdu0B6f2xyxXq9S4UdzfpEmTvJDQggULrKamJooh6BMBBBBAAAEEEEAAgaIECEoWxcXJCCCAAALVIDBmzBhf5qzAnaoxP/roo/+Z21ZRHWXK3XDDDe3mnvr162czZsywzp07l3XOlRq31DepfTj/+usv33NVe1XSEEAAAQQQQAABBBCIg8D/4jAJ5oAAAggggECcBBoaGryQTpzmVMq51NXVmX5o1SFw7LHHmn5oCCCAAAIIIIAAAgjESYBMyTg9DeaCAAIIIIAAAggggAACCCCAAAIIIIBAFQgQlKyCh8wtIoAAAggggAACCCCAAAIIIIAAAgggECcBgpJxehrMBQEEEEAAAQQQQAABBBBAAAEEEEAAgSoQIChZBQ+ZW0QAAQQQQAABBBBAAAEEEEAAAQQQQCBOAhS6idPTYC4IxFygqakp5jNkeu1RYMmSJT5tvl/FP71gV/yVXIEAAggggAACCCCAAAIIVFZgneZEq+wUGB0BBOIuoGDRoEGD4j5N5ocAAgggEKFAY2Oj1dfXRzgCXSOAAAIIIIAAAghUkwBByWp62twrAggggAACCCCAAAIIIIAAAggggAACMRBgT8kYPASmgAACCCCAAAIIIIAAAggggAACCCCAQDUJEJSspqfNvSKAAAIIIIAAAggggAACCCCAAAIIIBADAYKSMXgITAEBBBBAAAEEEEAAAQQQQAABBBBAAIFqEiAoWU1Pm3tFAAEEEEAAAQQQQAABBBBAAAEEEEAgBgL/B5RtHMsux24EAAAAAElFTkSuQmCC)"
      ]
    },
    {
      "cell_type": "code",
      "metadata": {
        "id": "5eDJsFMCCbOd"
      },
      "source": [
        "def encoder_op(image1,image2,model = model1):\n",
        "  \"\"\"\n",
        "  Given image1 and image2 filepath, outputs\n",
        "  their backbone features which will be input\n",
        "  to the decoder\n",
        "  \"\"\"\n",
        "  image1 = cv2.imread(image1,cv2.IMREAD_UNCHANGED)/255 \n",
        "  image2 = cv2.imread(image2,cv2.IMREAD_UNCHANGED)/255 \n",
        "  image1 = tf.expand_dims(cv2.resize(image1,input_size,interpolation = cv2.INTER_NEAREST),axis=0) #introduce batch and resize\n",
        "  image2 = tf.expand_dims(cv2.resize(image2,input_size,interpolation = cv2.INTER_NEAREST),axis=0)\n",
        "  \n",
        "  image1 = model.get_layer('image_encoder')(image1) #output from chexnet\n",
        "  image1 = model.get_layer('bkdense')(image1)\n",
        "  image2 = model.get_layer('image_encoder')(image2)\n",
        "  image2 = model.get_layer('bkdense')(image2)\n",
        "\n",
        "  concat = model.get_layer('concatenate')([image1,image2])\n",
        "  concat = model.get_layer('encoder_batch_norm')(concat)\n",
        "  concat = model.get_layer('encoder_dropout')(concat)\n",
        "  return concat"
      ],
      "execution_count": null,
      "outputs": []
    },
    {
      "cell_type": "code",
      "metadata": {
        "id": "R2R6sQXwVgot"
      },
      "source": [
        "def beam_search_predict(image1,image2,top_k=3,max_pad = max_pad,model = model1):\n",
        "  \"\"\"\n",
        "  Given image1, image2 get the top\n",
        "  beam search predicted sentence\n",
        "  \"\"\"\n",
        "  k = top_k\n",
        "  cls_token = tokenizer.texts_to_sequences(['<cls>'])[0] #[3]\n",
        "  enc_op = encoder_op(image1,image2)\n",
        "  states = tf.zeros_like(enc_op[:,0]) #state_h only\n",
        "  seq_score = [[cls_token,0,states]] #[[[3], 0]]\n",
        "  finished_seq_score = []\n",
        "  for i in range(max_pad): #traverse through all lengths\n",
        "    all_candidates = [] #stores all the top k seq along with their scores\n",
        "    new_seq_score = [] #stores the seq_score which does not have <end> in them\n",
        "    for s in seq_score: #traverse for all top k sequences\n",
        "      text_input = s[0][-1] #getting the last predicted output\n",
        "      states = s[2]\n",
        "      caption = np.array([[text_input]]) #ip must be in shape (batch_size,seq length,dim)\n",
        "      output,states,attention_weights =  model.get_layer('decoder').onestepdecoder(caption,enc_op,states) #here output has shape (1,vocab_size)\n",
        "      top_words = tf.argsort(output[0],direction = 'DESCENDING')[:k] #get the top k words\n",
        "\n",
        "      seq,score,_ = s\n",
        "      for t in top_words.numpy():\n",
        "        #here we will update score with log of probabilities and subtracting(log of prob will be in negative)\n",
        "        #here since its -(log), lower the score higher the prob\n",
        "        candidates = [seq+[t],score-np.log(output[0][t].numpy()),states] #updating the score and seq\n",
        "        all_candidates.append(candidates)\n",
        "      seq_score = sorted(all_candidates,key = lambda l:l[1])[:k] #getting the top 3 sentences with high prob ie low score\n",
        "      #checks for  <end> in each seq obtained\n",
        "      count = 0\n",
        "      end_token = tokenizer.word_index['<end>']\n",
        "      for seq,score,state in seq_score:\n",
        "        # print('seq,score',seq,score)\n",
        "        if seq[-1] == end_token: #if last word of the seq is <end>\n",
        "          finished_seq_score.append([seq,score])\n",
        "          count+=1\n",
        "        else:\n",
        "          new_seq_score.append([seq,score,state])\n",
        "      k-=count #substracting the no. of finished sentences from beam length\n",
        "      seq_score = new_seq_score\n",
        "\n",
        "      if seq_score==[]: #if null array\n",
        "        break;\n",
        "      else:\n",
        "        continue;\n",
        "\n",
        "  seq_score = finished_seq_score[-1]\n",
        "  sentence = seq_score[0][1:-1] #here <cls> and <end> is here so not considering that\n",
        "  score = seq_score[1]\n",
        "      \n",
        "  return tokenizer.sequences_to_texts([sentence])[0]"
      ],
      "execution_count": null,
      "outputs": []
    },
    {
      "cell_type": "code",
      "metadata": {
        "id": "lKh_H_78eTo0"
      },
      "source": [
        "%%time\n",
        "k = -1\n",
        "image1,image2 = test.image_1.iloc[k],test.image_2.iloc[k]\n",
        "print(beam_search_predict(image1,image2))"
      ],
      "execution_count": null,
      "outputs": []
    },
    {
      "cell_type": "markdown",
      "metadata": {
        "id": "z5zB65GxVB3s"
      },
      "source": [
        "It took more than 2 min to get a prediction by beam search when k=3. Since its not feasible we will not be using beam search for this method."
      ]
    },
    {
      "cell_type": "markdown",
      "metadata": {
        "id": "ichHUkiasOP8"
      },
      "source": [
        "# **Inference**"
      ]
    },
    {
      "cell_type": "markdown",
      "metadata": {
        "id": "7BFTqtnkyCMr"
      },
      "source": [
        "Now we will predict all datapoints with best approach chosen (here it is greedy search) and see the results manually and also compute bleu (1 gram) score."
      ]
    },
    {
      "cell_type": "code",
      "metadata": {
        "id": "bpYtOoJ8x9IR"
      },
      "source": [
        "%%time\n",
        "test['bleu_1_gs'] = np.zeros(test.shape[0]) #greedy search\n",
        "test['prediction_gs'] = np.zeros(test.shape[0]) #greedy search\n",
        "\n",
        "for index,rows in test.iterrows():\n",
        "  #greedy search\n",
        "  predicted_text = greedy_search_predict(rows.image_1,rows.image_2,model1)\n",
        "  test.loc[index,'prediction_gs'] = predicted_text\n",
        "  reference = [rows['impression'].split()]\n",
        "  test.loc[index,'bleu_1_gs'] = sentence_bleu(reference,predicted_text.split(),weights = (1,0,0,0))"
      ],
      "execution_count": null,
      "outputs": []
    },
    {
      "cell_type": "code",
      "metadata": {
        "id": "Xm65P1y-3dof"
      },
      "source": [
        "test['prediction_gs'].value_counts()*100/test.shape[0] #greedy search"
      ],
      "execution_count": null,
      "outputs": []
    },
    {
      "cell_type": "markdown",
      "metadata": {
        "id": "oxrwazdL30vp"
      },
      "source": [
        "From the above results, we can see that for at least 61% of the data, the model is predicting captions which are having similiar meanings. It is not doing worse as the baseline model where it was predicting 96% of the test data with the same caption even though we did upsampling and downsampling of the data."
      ]
    },
    {
      "cell_type": "markdown",
      "metadata": {
        "id": "UXeAHWphyGQm"
      },
      "source": [
        "## Random predictions on test data"
      ]
    },
    {
      "cell_type": "code",
      "metadata": {
        "id": "g7SsNHIysOQK"
      },
      "source": [
        "def final_caption_pred(image1,image2,method = \"beam\",top_k = 3,model=model1):\n",
        "  \"\"\"\n",
        "  Given image1. image2 paths, the model, top_k and the method of prediction returns the predicted caption\n",
        "  method: \"greedy\" or \"g\" for greedy search, \"beam\" or \"b\" for beam search\n",
        "  \"\"\"\n",
        "  if method in ['greedy','g']:\n",
        "    pred_caption = greedy_search_predict(image1,image2,model)\n",
        "  elif method in ['beam','b']:\n",
        "    pred_caption = beam_search_predict(image1,image2,top_k = top_k,model = model)\n",
        "  else:\n",
        "    print(\"Enter 'b' or 'beam' for beam search and 'g' or 'greedy' for greedy search\")\n",
        "  \n",
        "  return pred_caption"
      ],
      "execution_count": null,
      "outputs": []
    },
    {
      "cell_type": "code",
      "metadata": {
        "id": "BQjV5SVmsOQL"
      },
      "source": [
        "def inference(image1,image2,true_caption,model=model1,top_k = None,image_size = (10,20)):\n",
        "  \"\"\"\n",
        "  given 2 images (their paths), the true caption, the model and the range of top_k\n",
        "  prints the two images, true caption along with greedy search prediction and beam search prediction of top_k range\n",
        "  \"\"\"\n",
        "  image1_array = cv2.imread(image1,cv2.IMREAD_UNCHANGED)\n",
        "  image2_array = cv2.imread(image2,cv2.IMREAD_UNCHANGED)\n",
        "  if type(top_k)==int:\n",
        "    top_k = [top_k] #changing it to list if top_k given is of int type\n",
        "  greedy_caption = final_caption_pred(image1,image2,method='g',model=model) #getting the greedy search prediction\n",
        "\n",
        "  #printing the 2 images\n",
        "  plt.figure(figsize = image_size)\n",
        "  plt.subplot(121)\n",
        "  plt.imshow(image1_array)\n",
        "  plt.axis(\"off\")\n",
        "\n",
        "  plt.subplot(122)\n",
        "  plt.imshow(image2_array)\n",
        "  plt.axis(\"off\")\n",
        "  plt.show()\n",
        "\n",
        "  print(\"\\nTrue caption: '%s'\"%(true_caption))\n",
        "  print(\"Predicted caption(greedy search): '%s'\"%(greedy_caption))\n",
        "  #beam search of top_k\n",
        "  if top_k != None:\n",
        "    for i in top_k:\n",
        "      beam_caption = final_caption_pred(image1,image2,method='b',model=model,top_k = i)\n",
        "      print(\"Predicted caption(beam search = %i): '%s'\"%(i,beam_caption))\n"
      ],
      "execution_count": null,
      "outputs": []
    },
    {
      "cell_type": "markdown",
      "metadata": {
        "id": "5PEQ4J8RsOQL"
      },
      "source": [
        "### Correct Captions (high bleu score)"
      ]
    },
    {
      "cell_type": "code",
      "metadata": {
        "id": "O2blH7FDsOQM"
      },
      "source": [
        "i = test[(test['bleu_1_gs']>0.65)].sample(5).index\n",
        "for j,k in enumerate(i):\n",
        "  print(j+1,\")\")\n",
        "  image1,image2 = test['image_1'][k],test['image_2'][k]\n",
        "  true_caption = test['impression'][k]\n",
        "  inference(image1,image2,true_caption)\n",
        "  print(\"\\n\")"
      ],
      "execution_count": null,
      "outputs": []
    },
    {
      "cell_type": "markdown",
      "metadata": {
        "id": "20ee_yufLkK7"
      },
      "source": [
        "### Incorrect Caption (low bleu score)"
      ]
    },
    {
      "cell_type": "code",
      "metadata": {
        "id": "5uwfPphcsOQO"
      },
      "source": [
        "i = test[test['bleu_1_gs']<=0.3].sample(5).index\n",
        "for j,k in enumerate(i):\n",
        "  print(j+1,\")\")\n",
        "  image1,image2 = test['image_1'][k],test['image_2'][k]\n",
        "  true_caption = test['impression'][k]\n",
        "  inference(image1,image2,true_caption,top_k = 1)\n",
        "  print(\"\\n\")"
      ],
      "execution_count": null,
      "outputs": []
    },
    {
      "cell_type": "markdown",
      "metadata": {
        "id": "CCRuZEAqsOQO"
      },
      "source": [
        "We can see from both of the correct and incorrect captions that the model is doing pretty good since it is predicting captions that are near to the true captions except for some. \n",
        "\n",
        "We can see that most of the images shown in incorrect captions had similiar meanings to no cardiopulmonary abnormality which is predicted by the model except for 2 and 4 where it predicted more words which changed the meaning. Even then this is performing far better than the baseline model since it was only predicting \"no cardiopulmonary abnormaity\" 100% of test data. Here there is variability in predictions and also model is able to understand the meanings since for most of the cases where bleu scores were low it was found that the predicted caption had same meaning as of the true caption."
      ]
    },
    {
      "cell_type": "markdown",
      "metadata": {
        "id": "7Tn7rrTNrGvt"
      },
      "source": [
        "# For comparisons"
      ]
    },
    {
      "cell_type": "markdown",
      "metadata": {
        "id": "A9A56DiErJkF"
      },
      "source": [
        "For comparing the results with other results, we willl predict captions on 6 test data."
      ]
    },
    {
      "cell_type": "code",
      "metadata": {
        "id": "IGIym4aTra9K"
      },
      "source": [
        "k = 3\n",
        "image1,image2 = test['image_1'][k],test['image_2'][k]\n",
        "true_caption = test['impression'][k]\n",
        "inference(image1,image2,true_caption)"
      ],
      "execution_count": null,
      "outputs": []
    },
    {
      "cell_type": "code",
      "metadata": {
        "id": "J3-1RyhFra2y"
      },
      "source": [
        "k = 536\n",
        "image1,image2 = test['image_1'][k],test['image_2'][k]\n",
        "true_caption = test['impression'][k]\n",
        "inference(image1,image2,true_caption)"
      ],
      "execution_count": null,
      "outputs": []
    },
    {
      "cell_type": "markdown",
      "metadata": {
        "id": "pA7_GCqBGCri"
      },
      "source": [
        "Here we can see that the model has predicted the word atelactasis and basilar which is meaningfully correct. But other sentences are incorrect. Even then this model is showing it understanding a little bit."
      ]
    },
    {
      "cell_type": "code",
      "metadata": {
        "id": "tsTH1K3Nrasj"
      },
      "source": [
        "k = 541\n",
        "image1,image2 = test['image_1'][k],test['image_2'][k]\n",
        "true_caption = test['impression'][k]\n",
        "inference(image1,image2,true_caption)"
      ],
      "execution_count": null,
      "outputs": []
    },
    {
      "cell_type": "markdown",
      "metadata": {
        "id": "8TDXJY57Gd27"
      },
      "source": [
        "Even though the wordings are completely different here the model has predicted sentences which is linguitically similiar."
      ]
    },
    {
      "cell_type": "code",
      "metadata": {
        "id": "OPwARbFHYa_G"
      },
      "source": [
        "k = 562\n",
        "image1,image2 = test['image_1'][k],test['image_2'][k]\n",
        "true_caption = test['impression'][k]\n",
        "inference(image1,image2,true_caption)"
      ],
      "execution_count": null,
      "outputs": []
    },
    {
      "cell_type": "markdown",
      "metadata": {
        "id": "sXpCv_1IHMh1"
      },
      "source": [
        "Here also same as above."
      ]
    },
    {
      "cell_type": "code",
      "metadata": {
        "id": "j-W1WuIQYbMK"
      },
      "source": [
        "k = 451\n",
        "image1,image2 = test['image_1'][k],test['image_2'][k]\n",
        "true_caption = test['impression'][k]\n",
        "inference(image1,image2,true_caption)"
      ],
      "execution_count": null,
      "outputs": []
    },
    {
      "cell_type": "markdown",
      "metadata": {
        "id": "GEr-eb91HR8R"
      },
      "source": [
        "The model has predicted the caption correctly."
      ]
    },
    {
      "cell_type": "code",
      "metadata": {
        "id": "W03_myxsYbXP"
      },
      "source": [
        "k = 456\n",
        "image1,image2 = test['image_1'][k],test['image_2'][k]\n",
        "true_caption = test['impression'][k]\n",
        "inference(image1,image2,true_caption)"
      ],
      "execution_count": null,
      "outputs": []
    },
    {
      "cell_type": "markdown",
      "metadata": {
        "id": "dB_GH1AlHu_1"
      },
      "source": [
        "Here also the model has predicted the caption correctly."
      ]
    },
    {
      "cell_type": "markdown",
      "metadata": {
        "id": "9LH__w1RsOQP"
      },
      "source": [
        "# Conclusion"
      ]
    },
    {
      "cell_type": "code",
      "metadata": {
        "id": "Wiu0n6OjsOQP"
      },
      "source": [
        "result"
      ],
      "execution_count": null,
      "outputs": []
    },
    {
      "cell_type": "markdown",
      "metadata": {
        "id": "xdepYCTqsOQP"
      },
      "source": [
        "This model performed better than simple baseline model since it produced captions which had higher variablity and also remained lingusitically similiar. Even then we can see that most of datapoints were of normal chest or no disease category we need to collect more dataset which have x-rays of patients having diseases so that to improve the model's performance. Even the model predicted tough captions which had similiar meaning to the true ones. Beam search was found to take large amount of time in predicting even 1 caption so it was discarded. \n"
      ]
    }
  ]
}